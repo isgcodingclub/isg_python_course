{
 "cells": [
  {
   "cell_type": "markdown",
   "id": "1e08304c-fac2-4101-918d-1ae1c0e39a2e",
   "metadata": {},
   "source": [
    "<h3> Homework exercise</h3>\n",
    "Make a tkinter app that is going to accept the text into the entry widget and display this text, but inverted (as label) when the button is pressed. "
   ]
  },
  {
   "cell_type": "code",
   "execution_count": null,
   "id": "decb3bd7-9b02-40e0-bee6-eb42fec8c761",
   "metadata": {},
   "outputs": [],
   "source": []
  }
 ],
 "metadata": {
  "kernelspec": {
   "display_name": "Python 3 (ipykernel)",
   "language": "python",
   "name": "python3"
  },
  "language_info": {
   "codemirror_mode": {
    "name": "ipython",
    "version": 3
   },
   "file_extension": ".py",
   "mimetype": "text/x-python",
   "name": "python",
   "nbconvert_exporter": "python",
   "pygments_lexer": "ipython3",
   "version": "3.11.9"
  }
 },
 "nbformat": 4,
 "nbformat_minor": 5
}
