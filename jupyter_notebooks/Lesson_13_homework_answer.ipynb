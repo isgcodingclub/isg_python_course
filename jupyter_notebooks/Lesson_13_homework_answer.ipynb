{
 "cells": [
  {
   "cell_type": "code",
   "execution_count": 5,
   "id": "0b1e3bd9-19e5-4133-bf83-bb25b936a0e0",
   "metadata": {},
   "outputs": [],
   "source": [
    "import tkinter as tk\n",
    "def inverter():\n",
    "    entered = str(entr.get())\n",
    "    res = entered[::-1]\n",
    "    lbl1.config(text = res)\n",
    "root = tk.Tk()\n",
    "root.geometry(\"300x300\")\n",
    "root.title(\"The string inverter\")\n",
    "entr = tk.Entry(root, bg = \"#d9baf5\", text = \"Enter your string\", width = 20)\n",
    "entr.place(x = 50, y = 50)\n",
    "btn1 = tk.Button(root, bg = \"#8024d4\", text = \"Invert\", width = 10, fg = \"white\", command = inverter)\n",
    "btn1.place(x = 50, y = 100)\n",
    "lbl1 = tk.Label(root, text = \"\")\n",
    "lbl1.place(x = 50, y = 150)\n",
    "root.mainloop()"
   ]
  },
  {
   "cell_type": "code",
   "execution_count": null,
   "id": "3439a5d0-afea-4e61-9da8-fb7df1794fc6",
   "metadata": {},
   "outputs": [],
   "source": []
  }
 ],
 "metadata": {
  "kernelspec": {
   "display_name": "Python 3 (ipykernel)",
   "language": "python",
   "name": "python3"
  },
  "language_info": {
   "codemirror_mode": {
    "name": "ipython",
    "version": 3
   },
   "file_extension": ".py",
   "mimetype": "text/x-python",
   "name": "python",
   "nbconvert_exporter": "python",
   "pygments_lexer": "ipython3",
   "version": "3.11.9"
  }
 },
 "nbformat": 4,
 "nbformat_minor": 5
}
