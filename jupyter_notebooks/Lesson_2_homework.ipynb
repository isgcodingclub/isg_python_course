{
  "nbformat": 4,
  "nbformat_minor": 0,
  "metadata": {
    "colab": {
      "provenance": []
    },
    "kernelspec": {
      "name": "python3",
      "display_name": "Python 3"
    },
    "language_info": {
      "name": "python"
    }
  },
  "cells": [
    {
      "cell_type": "code",
      "execution_count": null,
      "metadata": {
        "id": "8hKYwHLpS_gK"
      },
      "outputs": [],
      "source": []
    },
    {
      "cell_type": "markdown",
      "source": [
        "## Lesson 2 : Homework ##"
      ],
      "metadata": {
        "id": "3y9TPPfsTASc"
      }
    },
    {
      "cell_type": "markdown",
      "source": [
        "<b> Exercise 1: </b> You have list of sequences, some of which are poor quality and there are <b> \"X\" </b> in them. You want to substiitute <b> \"X\" </b> with the <b> \"N\" </b> anf generate a new list. <br> <b> Bonus exercise </b> </br>: print out how many **X** are in each sequnce as you loop through initial list."
      ],
      "metadata": {
        "id": "y7PgBTuxTIAe"
      }
    },
    {
      "cell_type": "code",
      "source": [
        "old_list = [\"EVQLEESGGGLVQPGGSLXLSC\", \"RYADSVKGRFTISADTSKXTAYLQMNSLRAEDXAVYYC\", \"WGQGTLXTVSS\"]"
      ],
      "metadata": {
        "id": "btE1EaSmUNMI"
      },
      "execution_count": null,
      "outputs": []
    },
    {
      "cell_type": "markdown",
      "source": [
        "**Exercise 2:** Given the list of numbers from 0 to 11, slice out 1, 3, 5, 6... etc element from that list. In other words use the code to generate list shown below:\n",
        "```python\n",
        "list = [1, 3, 5, 7, 9, 11]\n",
        "```"
      ],
      "metadata": {
        "id": "r4Ub7P3jUl_0"
      }
    },
    {
      "cell_type": "code",
      "source": [
        "list_num = [0, 1, 2, 3, 4, 5, 6, 7, 8, 9, 10, 11]"
      ],
      "metadata": {
        "colab": {
          "base_uri": "https://localhost:8080/"
        },
        "id": "sbVLlvSnW-qi",
        "outputId": "f725c988-681d-4e0d-ca22-ad36d53a5be0"
      },
      "execution_count": null,
      "outputs": [
        {
          "output_type": "stream",
          "name": "stdout",
          "text": [
            "[0, 1, 2, 3, 4, 5, 6, 7, 8, 9, 10, 11]\n"
          ]
        }
      ]
    },
    {
      "cell_type": "markdown",
      "source": [
        "**Exercise 3:** below is the list of sequences. Using list comprehension remove all the sequences that are shorter than 12 amino acids."
      ],
      "metadata": {
        "id": "IVX-7ZtCY15S"
      }
    },
    {
      "cell_type": "code",
      "source": [
        "old_list = [\"EVQLEESGGGLVQPGGSLXLSC\", \"RYADSVKGRFTISADTSKXTAYLQMNSLRAEDXAVYYC\", \"WGQGTLXTVSS\"]"
      ],
      "metadata": {
        "id": "oq27kvlFZOSE"
      },
      "execution_count": null,
      "outputs": []
    },
    {
      "cell_type": "markdown",
      "source": [
        "**Exercise 4:** Given the list of sequences using the list methods produce the code that prints out the number of amino acids in the longest sequence."
      ],
      "metadata": {
        "id": "JNHltZaTcr6k"
      }
    },
    {
      "cell_type": "code",
      "source": [
        "old_list = [\"EVQLEESGGGLVQPGGSLXLSC\", \"RYADSVKGRFTISADTSKXTAYLQMNSLRAEDXAVYYC\", \"WGQGTLXTVSS\"]"
      ],
      "metadata": {
        "id": "TYMzX_mPdEMe"
      },
      "execution_count": null,
      "outputs": []
    },
    {
      "cell_type": "markdown",
      "source": [
        "**Exercise 5**: Below is the list of primers. The approximate primer melting temperetaure can be calculated by using the formula: $Tm= (wA+xT) * 2 + (yG+zC) * 4$ where w, x, y and z are numbers of the corresponding nucleotides. <br> Can you calculate the primer melting temperatures? </br>"
      ],
      "metadata": {
        "id": "G66wREbtdSaI"
      }
    },
    {
      "cell_type": "code",
      "source": [
        "primers = [\"CGCAAATGGGCGGTAGGCGTG\", \"GACTATCATATGCTTACCGT\", \"CAGGAAACAGCTATGAC\", \"CTTTATCCAGCCCTCAC\"]"
      ],
      "metadata": {
        "id": "q560x8pTeL8s"
      },
      "execution_count": null,
      "outputs": []
    }
  ]
}
