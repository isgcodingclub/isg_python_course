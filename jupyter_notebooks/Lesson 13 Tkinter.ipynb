{
 "cells": [
  {
   "cell_type": "markdown",
   "id": "7b44b792-a2b9-44b4-af59-6ac771de2c5a",
   "metadata": {},
   "source": [
    "<h1> Tkinter. How do you make a simple app </h1>"
   ]
  },
  {
   "cell_type": "code",
   "execution_count": 1,
   "id": "dc6106af-aeaf-4681-8bf4-b261c0c69f30",
   "metadata": {},
   "outputs": [],
   "source": [
    "#!pip install tk"
   ]
  },
  {
   "cell_type": "code",
   "execution_count": 28,
   "id": "8c321374-cfa5-4a15-86ad-cae323f405e8",
   "metadata": {},
   "outputs": [],
   "source": [
    "import tkinter as tk\n",
    "from tkinter import END"
   ]
  },
  {
   "cell_type": "markdown",
   "id": "8eea8678-5090-490b-a375-f22f6fea9504",
   "metadata": {},
   "source": [
    "<h3> Style Settings of the button</h3>\n",
    "<ul> <li> text - the text on the button</li><li> width of the button (in pixels)</li><li> bg - color of the button </li><li> Fg - text colour</li><li> options are flat, groove, raised, ridge, solid, or sunken</li><li> bd - border width in pixels</li></ul>"
   ]
  },
  {
   "cell_type": "code",
   "execution_count": 8,
   "id": "2d62e8de-a3c7-417f-b5c4-625e5051d2a0",
   "metadata": {},
   "outputs": [],
   "source": [
    "root = tk.Tk() # setting up the main window\n",
    "root.geometry('200x200') # the numbers mean width and height\n",
    "root.title(\"My perfect app\")\n",
    "root.configure(bg='#dee9fa') # change the colour of the app\n",
    "btn = tk.Button(root, text = \"Click on me\", width = 20, bg = \"#8c0f26\", fg = \"white\", relief = \"raised\", bd = 4)\n",
    "btn.place(x = 15, y = 15)\n",
    "root.mainloop() # ensuring that the window runs\n"
   ]
  },
  {
   "cell_type": "markdown",
   "id": "f4b8cba9-f097-4c84-87a1-bfabd2030690",
   "metadata": {},
   "source": [
    "<h3> Adding the function to the button</h3>\n",
    "In the example below we are going to change the color and the text of the button.\n",
    "\n",
    "```python\n",
    ".config()\n",
    "```\n",
    "is the way to modify the widget"
   ]
  },
  {
   "cell_type": "code",
   "execution_count": 9,
   "id": "34d29db4-a8ff-4f24-8118-5ac9e93932e8",
   "metadata": {},
   "outputs": [],
   "source": [
    "def change_button_colour_text():\n",
    "    btn.config(text = \"Button pressed\", bg = \"#483c82\")\n",
    "root = tk.Tk() # setting up the main window\n",
    "root.geometry('200x200') # the numbers mean width and height\n",
    "root.title(\"My perfect app\")\n",
    "root.configure(bg='#dee9fa') # change the colour of the app\n",
    "btn = tk.Button(root, text = \"Click on me\", width = 20, bg = \"#8c0f26\", fg = \"white\", relief = \"raised\", command = change_button_colour_text)\n",
    "btn.place(x = 15, y = 15)\n",
    "root.mainloop() # ensuring that the window runs"
   ]
  },
  {
   "cell_type": "markdown",
   "id": "1a96ef39-f706-494d-814d-7446ad99fa41",
   "metadata": {},
   "source": [
    "<h3> Entry widgets </h3>\n",
    "Entry widget does not have the height. "
   ]
  },
  {
   "cell_type": "code",
   "execution_count": 12,
   "id": "c8f0b1c1-20a1-47c2-bd3f-51a41341617a",
   "metadata": {},
   "outputs": [],
   "source": [
    "root = tk.Tk() # setting up the main window\n",
    "root.geometry('200x200') # the numbers mean width and height\n",
    "root.title(\"My perfect app\")\n",
    "entr = tk.Entry(root, width = 30, bg = \"#f2faaa\", fg = \"black\", relief = \"sunken\")\n",
    "labl = tk.Label(root, width = 30, text = \"this is label\")\n",
    "entr.place(x = 15, y = 20)\n",
    "labl.place(x = 15, y = 40)\n",
    "root.mainloop()"
   ]
  },
  {
   "cell_type": "markdown",
   "id": "eff1ad3a-a1ac-45b1-8cfa-49f9f9534c93",
   "metadata": {},
   "source": [
    "<h3> The way how to extract the info from the widget</h3>\n",
    "\n",
    "```python\n",
    "entry_widget.get()\n",
    "```"
   ]
  },
  {
   "cell_type": "code",
   "execution_count": 14,
   "id": "674459fe-6530-4353-96d0-d326e624e520",
   "metadata": {},
   "outputs": [],
   "source": [
    "def extract_info():\n",
    "    widget_content = str(entr.get())\n",
    "    labl.config(text = widget_content)\n",
    "\n",
    "root = tk.Tk() # setting up the main window\n",
    "root.geometry('200x200') # the numbers mean width and height\n",
    "root.title(\"My perfect app\")\n",
    "btn1 = tk.Button(root, text = \"Extract text\", width = 20, bg = \"#8c0f26\", fg = \"white\", relief = \"raised\", command = extract_info)\n",
    "entr = tk.Entry(root, width = 30, bg = \"#f2faaa\", fg = \"black\", relief = \"sunken\")\n",
    "labl = tk.Label(root, width = 30, text = \"\")\n",
    "entr.place(x = 15, y = 20)\n",
    "labl.place(x = 15, y = 40)\n",
    "btn1.place(x = 15,  y = 65)\n",
    "root.mainloop()"
   ]
  },
  {
   "cell_type": "markdown",
   "id": "e1097bed-714e-4b76-8736-8e119e7b1fd7",
   "metadata": {},
   "source": [
    "<h3> Using the Text (textarea) widget as entry widget</h3>\n",
    "The main reason to do it, is because it has width and height parameters. \n"
   ]
  },
  {
   "cell_type": "code",
   "execution_count": 16,
   "id": "10787423-eb44-47cf-9c77-2963a2575f5f",
   "metadata": {},
   "outputs": [],
   "source": [
    "win = tk.Tk() # setting up the main window\n",
    "win.geometry('400x400')\n",
    "inp_text = tk.Text(win, font=('calibre', 10, 'normal'), width=50, height=8)\n",
    "inp_text.place(x = 15, y = 15)\n",
    "win.mainloop()"
   ]
  },
  {
   "cell_type": "markdown",
   "id": "5416457b-6689-4e31-be8d-7bedf1b92087",
   "metadata": {},
   "source": [
    "Below is how you extract the information from the Text widget"
   ]
  },
  {
   "cell_type": "code",
   "execution_count": 23,
   "id": "473bf38f-eb26-4402-88f2-aa9306bdc54c",
   "metadata": {},
   "outputs": [],
   "source": [
    "def extract_from_text():\n",
    "    extract = str(inp_text.get(1.0, \"end-1c\"))\n",
    "    label1.config(text = extract)\n",
    "\n",
    "win = tk.Tk() # setting up the main window\n",
    "win.geometry('400x400')\n",
    "btn2 = tk.Button(text = \"Extract text\", width = 15, command = lambda: extract_from_text())\n",
    "btn2.place(x = 15, y = 250)\n",
    "inp_text = tk.Text(win, font=('calibre', 10, 'normal'), width=50, height=8)\n",
    "label1 = tk.Label(text = \"\")\n",
    "label1.place(x = 15, y = 280)\n",
    "inp_text.place(x = 15, y = 15)\n",
    "win.mainloop()"
   ]
  },
  {
   "cell_type": "markdown",
   "id": "88b1e690-5a30-4f85-8e39-9dae3d26d600",
   "metadata": {},
   "source": [
    "But the labels are not copyable. That's the issue. So you need another textarea. "
   ]
  },
  {
   "cell_type": "code",
   "execution_count": 29,
   "id": "efa55f1b-90f7-4b91-8d4c-25c8ccd159ed",
   "metadata": {},
   "outputs": [],
   "source": [
    "def extract_from_text():\n",
    "    extract = str(inp_text.get(1.0, \"end-1c\"))\n",
    "    out_text.delete('1.0', END)\n",
    "    out_text.insert(END, extract)\n",
    "\n",
    "win = tk.Tk() # setting up the main window\n",
    "win.geometry('400x400')\n",
    "btn2 = tk.Button(text = \"Extract text\", width = 15, command = lambda: extract_from_text())\n",
    "btn2.place(x = 15, y = 250)\n",
    "inp_text = tk.Text(win, font=('calibre', 10, 'normal'), width=50, height=8)\n",
    "out_text = tk.Text(win, font=('calibre', 10, 'normal'), width=50, height=8)\n",
    "inp_text.place(x = 15, y = 15)\n",
    "out_text.place( x = 15, y = 350)\n",
    "win.mainloop()"
   ]
  },
  {
   "cell_type": "code",
   "execution_count": null,
   "id": "247a4b02-2989-48f7-a627-546d9769ecfe",
   "metadata": {},
   "outputs": [],
   "source": []
  }
 ],
 "metadata": {
  "kernelspec": {
   "display_name": "Python 3 (ipykernel)",
   "language": "python",
   "name": "python3"
  },
  "language_info": {
   "codemirror_mode": {
    "name": "ipython",
    "version": 3
   },
   "file_extension": ".py",
   "mimetype": "text/x-python",
   "name": "python",
   "nbconvert_exporter": "python",
   "pygments_lexer": "ipython3",
   "version": "3.11.9"
  }
 },
 "nbformat": 4,
 "nbformat_minor": 5
}
