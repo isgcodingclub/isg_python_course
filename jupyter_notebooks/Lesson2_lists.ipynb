{
  "nbformat": 4,
  "nbformat_minor": 0,
  "metadata": {
    "colab": {
      "provenance": []
    },
    "kernelspec": {
      "name": "python3",
      "display_name": "Python 3"
    },
    "language_info": {
      "name": "python"
    }
  },
  "cells": [
    {
      "cell_type": "markdown",
      "source": [
        "## Lesson 2 ##\n",
        "<ul> <li> Lists </li>\n",
        " </ul>"
      ],
      "metadata": {
        "id": "8hXvzIXgv5Em"
      }
    },
    {
      "cell_type": "markdown",
      "source": [
        "<p> Lists are one of 4 collection datatypes available in python. </p>\n",
        "<blockquote> List is a collection which is ordered and changeable. Allows duplicate members.</blockquote>"
      ],
      "metadata": {
        "id": "UxiVO7I2w85s"
      }
    },
    {
      "cell_type": "code",
      "source": [
        "list1 = [\"Camel\", \"Llama\", \"Alpaca\", \"Camel\"]"
      ],
      "metadata": {
        "id": "N6ys5D8PyhlJ"
      },
      "execution_count": null,
      "outputs": []
    },
    {
      "cell_type": "markdown",
      "source": [
        "The values within the list are numbered. This means they have <b>indexes </b> and can be called by these <b> indexes.</b> The index of the first element is 0."
      ],
      "metadata": {
        "id": "EXWRSIXF3bT2"
      }
    },
    {
      "cell_type": "code",
      "source": [
        "print(list1[0])\n",
        "print(list1[1])"
      ],
      "metadata": {
        "colab": {
          "base_uri": "https://localhost:8080/"
        },
        "id": "1CumRGpV3yNy",
        "outputId": "4e22b48e-d028-4692-c582-909265ec280d"
      },
      "execution_count": null,
      "outputs": [
        {
          "output_type": "stream",
          "name": "stdout",
          "text": [
            "Camel\n",
            "Llama\n"
          ]
        }
      ]
    },
    {
      "cell_type": "markdown",
      "source": [
        "It works in opposite direction you can find out the index od the element in the list by using **.index()** command. However, if there are multiple identical elements it will find only first of them."
      ],
      "metadata": {
        "id": "e9mCqpRx6FeI"
      }
    },
    {
      "cell_type": "code",
      "source": [
        "list1 = [\"Camel\", \"Llama\", \"Alpaca\", \"Camel\"]\n",
        "index_camel = list1.index('Camel')\n",
        "print(index_camel)"
      ],
      "metadata": {
        "colab": {
          "base_uri": "https://localhost:8080/"
        },
        "id": "yF018Dcn6cgc",
        "outputId": "aeb9e16f-df0b-4517-e3f4-e2effd76cdb7"
      },
      "execution_count": null,
      "outputs": [
        {
          "output_type": "stream",
          "name": "stdout",
          "text": [
            "0\n"
          ]
        }
      ]
    },
    {
      "cell_type": "markdown",
      "source": [
        "Adding the elements to the list.<ul> <li> .append() method </li> <li> .insert() method </li> <li> .extend() method </li>"
      ],
      "metadata": {
        "id": "U8BuOVGWlQnD"
      }
    },
    {
      "cell_type": "code",
      "source": [
        "#Adding one element to the list using .append()\n",
        "list1 = [\"Camel\", \"Llama\", \"Alpaca\", \"Camel\"]\n",
        "elem1 = \"Zebra\"\n",
        "list1.append(elem1)\n",
        "print(list1)"
      ],
      "metadata": {
        "colab": {
          "base_uri": "https://localhost:8080/"
        },
        "id": "oBaZ0nY4lQAB",
        "outputId": "7631f297-3c28-47e3-9a06-92b12af04be5"
      },
      "execution_count": null,
      "outputs": [
        {
          "output_type": "stream",
          "name": "stdout",
          "text": [
            "['Camel', 'Llama', 'Alpaca', 'Camel', 'Zebra']\n"
          ]
        }
      ]
    },
    {
      "cell_type": "code",
      "source": [
        "# Adding the element at the specified position\n",
        "list1 = [\"Camel\", \"Llama\", \"Alpaca\", \"Camel\"]\n",
        "elem1 = \"Zebra\"\n",
        "list1.insert(2, elem1)\n",
        "print(list1)"
      ],
      "metadata": {
        "colab": {
          "base_uri": "https://localhost:8080/"
        },
        "id": "z7txutiLpsdD",
        "outputId": "7df1b9eb-c87a-47a2-9a4f-3e4a9df86180"
      },
      "execution_count": null,
      "outputs": [
        {
          "output_type": "stream",
          "name": "stdout",
          "text": [
            "['Camel', 'Llama', 'Zebra', 'Alpaca', 'Camel']\n"
          ]
        }
      ]
    },
    {
      "cell_type": "code",
      "source": [
        "# adding multiple elements to the list\n",
        "list1 = [\"Camel\", \"Llama\", \"Alpaca\", \"Camel\"]\n",
        "list1.extend([\"Gaunako\", \"Okapi\"])\n",
        "print(list1)"
      ],
      "metadata": {
        "colab": {
          "base_uri": "https://localhost:8080/"
        },
        "id": "P-sUeS3UnCC7",
        "outputId": "e6dd78f3-ee59-44d1-be77-1ec693cfe47a"
      },
      "execution_count": null,
      "outputs": [
        {
          "output_type": "stream",
          "name": "stdout",
          "text": [
            "['Camel', 'Llama', 'Alpaca', 'Camel', 'Gaunako', 'Okapi']\n"
          ]
        }
      ]
    },
    {
      "cell_type": "markdown",
      "source": [
        "Concatenating the two lists"
      ],
      "metadata": {
        "id": "sI8gfCDjn9HZ"
      }
    },
    {
      "cell_type": "code",
      "source": [
        "lst1 = [\"Camel\", \"Llama\", \"Alpaca\"]\n",
        "lst2 = [\"Zebra\", \"Okapi\"]\n",
        "lst3 = lst1 + lst2\n",
        "print(lst3)"
      ],
      "metadata": {
        "colab": {
          "base_uri": "https://localhost:8080/"
        },
        "id": "-Qjf84awoCEz",
        "outputId": "4f11b611-643f-4645-e2e8-44b7fcff48e7"
      },
      "execution_count": null,
      "outputs": [
        {
          "output_type": "stream",
          "name": "stdout",
          "text": [
            "['Camel', 'Llama', 'Alpaca', 'Zebra', 'Okapi']\n"
          ]
        }
      ]
    },
    {
      "cell_type": "markdown",
      "source": [
        "You can store multiple data types in the lists."
      ],
      "metadata": {
        "id": "l3xl9e8Tnh2w"
      }
    },
    {
      "cell_type": "code",
      "source": [
        "list2 = [1, \"Camel\", 1.2, [\"this\", \"is\", \"another\", \"list\"]]\n",
        "print(list2)\n",
        "print(\"I will print element of the list with index 3\")\n",
        "print(list2[3])"
      ],
      "metadata": {
        "id": "T5F5tehMntf4",
        "colab": {
          "base_uri": "https://localhost:8080/"
        },
        "outputId": "e24ab530-7efd-40c9-b203-fee0f5890c8a"
      },
      "execution_count": null,
      "outputs": [
        {
          "output_type": "stream",
          "name": "stdout",
          "text": [
            "[1, 'Camel', 1.2, ['this', 'is', 'another', 'list']]\n",
            "I will print element of the list with index 3\n",
            "['this', 'is', 'another', 'list']\n"
          ]
        }
      ]
    },
    {
      "cell_type": "markdown",
      "source": [
        "Removing element from the list using **remove** method.  But this method is going to remove **only one replicate** if element is duplicated."
      ],
      "metadata": {
        "id": "ZZaGoDC5ohjL"
      }
    },
    {
      "cell_type": "code",
      "source": [
        "lst1 = [\"Camel\", \"Llama\", \"Alpaca\"]\n",
        "lst1.remove(\"Alpaca\")\n",
        "print(lst1)\n",
        "\n",
        "lst4 = ['Camel', 'Llama', 'Alpaca', 'Llama', 'Zebra', 'Okapi']\n",
        "lst4.remove(\"Llama\")\n",
        "print(lst4)"
      ],
      "metadata": {
        "colab": {
          "base_uri": "https://localhost:8080/"
        },
        "id": "hWEGhjxSogz_",
        "outputId": "f1423c19-f205-4808-c207-54d49ef4fe45"
      },
      "execution_count": null,
      "outputs": [
        {
          "output_type": "stream",
          "name": "stdout",
          "text": [
            "['Camel', 'Llama']\n",
            "['Camel', 'Alpaca', 'Llama', 'Zebra', 'Okapi']\n"
          ]
        }
      ]
    },
    {
      "cell_type": "markdown",
      "source": [
        "Removing the element using the **pop method**. The **pop** method input is the index of the element. It shows which element has been removed and the list gets updated.\n"
      ],
      "metadata": {
        "id": "xrYC6y30qEV3"
      }
    },
    {
      "cell_type": "code",
      "source": [
        "test_list = [\"Dormedary\", \"Bactrian\", \"Alpaca\"]\n",
        "removed_item  = test_list.pop(1)\n",
        "print(\"The command below prints removed item\")\n",
        "print(removed_item)\n",
        "print(\"The command below prints the updated list\")\n",
        "print(test_list)"
      ],
      "metadata": {
        "colab": {
          "base_uri": "https://localhost:8080/"
        },
        "id": "fu282yiFtI4H",
        "outputId": "ab81dfa2-89fc-4dad-b420-e3be564c9fb6"
      },
      "execution_count": null,
      "outputs": [
        {
          "output_type": "stream",
          "name": "stdout",
          "text": [
            "The command below prints removed item\n",
            "Bactrian\n",
            "The command below prints the updated list\n",
            "['Dormedary', 'Alpaca']\n"
          ]
        }
      ]
    },
    {
      "cell_type": "markdown",
      "source": [
        "If you use **pop method** without any number provided in brakets it will just remove last item from the list. In this case it is \"Alpaca\""
      ],
      "metadata": {
        "id": "wyEqM8Z_trQ6"
      }
    },
    {
      "cell_type": "code",
      "source": [
        "test_list = [\"Dormedary\", \"Bactrian\", \"Alpaca\"]\n",
        "removed_item  = test_list.pop()\n",
        "print(\"The command below prints removed item\")\n",
        "print(removed_item)\n",
        "print(\"The command below prints the updated list\")\n",
        "print(test_list)"
      ],
      "metadata": {
        "colab": {
          "base_uri": "https://localhost:8080/"
        },
        "id": "rqwfn1ULuJE2",
        "outputId": "642c3f41-c7fa-4c23-fe7e-293f8112e0be"
      },
      "execution_count": null,
      "outputs": [
        {
          "output_type": "stream",
          "name": "stdout",
          "text": [
            "The command below prints removed item\n",
            "Alpaca\n",
            "The command below prints the updated list\n",
            "['Dormedary', 'Bactrian']\n"
          ]
        }
      ]
    },
    {
      "cell_type": "markdown",
      "source": [
        "**Sorting the list values** using **.sort()** method: <ol> <li> If the values are strings it sorts them alphabetically </li> <li> If the values are numbers it sorts them in ascending order </li> </ol>\n",
        "\n",
        "<br> Works somewhat similar to **pop method**. When it called it updates the lits. </br>"
      ],
      "metadata": {
        "id": "zGSQgZ1daVEw"
      }
    },
    {
      "cell_type": "code",
      "source": [
        "test_list = [\"Dormedary\", \"Bactrian\", \"Alpaca\", \"Llama\"]\n",
        "test_list.sort()\n",
        "print(test_list)"
      ],
      "metadata": {
        "colab": {
          "base_uri": "https://localhost:8080/"
        },
        "id": "SOK_e80tbTa1",
        "outputId": "5a818c90-d7d5-407f-f9b1-2716cffd937d"
      },
      "execution_count": null,
      "outputs": [
        {
          "output_type": "stream",
          "name": "stdout",
          "text": [
            "['Alpaca', 'Bactrian', 'Dormedary', 'Llama']\n"
          ]
        }
      ]
    },
    {
      "cell_type": "code",
      "source": [
        "list_numers = [0, 3, 2, 7, 5]\n",
        "list_numers.sort()\n",
        "print(list_numers)"
      ],
      "metadata": {
        "colab": {
          "base_uri": "https://localhost:8080/"
        },
        "id": "MTCp5nM0cRbO",
        "outputId": "d7bc2c98-b430-4926-ec6e-97aa18bb392b"
      },
      "execution_count": null,
      "outputs": [
        {
          "output_type": "stream",
          "name": "stdout",
          "text": [
            "[0, 2, 3, 5, 7]\n"
          ]
        }
      ]
    },
    {
      "cell_type": "markdown",
      "source": [
        "<br> <b> Slicing the list. </b> </br> <p> The list slicing rules are similar to that for slicing the strings. </p> <p> When you are getting element from the list using index you are actually slicing the list, synthax is: </p>\n",
        "```python\n",
        "list[index]\n",
        "```\n",
        "To get multiple elements you can use the following syntax:\n",
        "```python\n",
        "list[start:end]\n",
        "```\n",
        "End is not included into the slice start is included."
      ],
      "metadata": {
        "id": "LVK4aDieupKb"
      }
    },
    {
      "cell_type": "code",
      "source": [
        "# slicing out one element\n",
        "list_for_testing = [\"Dormedary\", \"Bactrian\", \"Alpaca\", \"Zebra\", \"Hippo\"]\n",
        "print(list_for_testing[3])"
      ],
      "metadata": {
        "colab": {
          "base_uri": "https://localhost:8080/"
        },
        "id": "G9KTKj52epWa",
        "outputId": "769491ac-5b83-47da-f563-0cd4c374c0ea"
      },
      "execution_count": null,
      "outputs": [
        {
          "output_type": "stream",
          "name": "stdout",
          "text": [
            "Zebra\n"
          ]
        }
      ]
    },
    {
      "cell_type": "code",
      "source": [
        "# slicing multiple elements\n",
        "list_for_testing = [\"Dormedary\", \"Bactrian\", \"Alpaca\", \"Zebra\", \"Hippo\"]\n",
        "print(list_for_testing[0:2])"
      ],
      "metadata": {
        "colab": {
          "base_uri": "https://localhost:8080/"
        },
        "id": "RMbmuJ50vtN_",
        "outputId": "b98b3ebf-d1a3-4d8a-a972-705335e3b6a3"
      },
      "execution_count": null,
      "outputs": [
        {
          "output_type": "stream",
          "name": "stdout",
          "text": [
            "['Dormedary', 'Bactrian']\n"
          ]
        }
      ]
    },
    {
      "cell_type": "markdown",
      "source": [
        "slicing using <b> start:stop:step </b> method. Syntax:\n",
        "```python\n",
        "list[start:stop:step]\n",
        "```"
      ],
      "metadata": {
        "id": "boGVb7ek0Kt0"
      }
    },
    {
      "cell_type": "code",
      "source": [
        "list_for_testing = [\"Dormedary\", \"Bactrian\", \"Alpaca\", \"Zebra\", \"Hippo\"]\n",
        "print(list_for_testing[0:4:2])"
      ],
      "metadata": {
        "colab": {
          "base_uri": "https://localhost:8080/"
        },
        "id": "f8Aqje670kWP",
        "outputId": "d12d869a-102a-4268-ee17-70c3c5e61839"
      },
      "execution_count": null,
      "outputs": [
        {
          "output_type": "stream",
          "name": "stdout",
          "text": [
            "['Dormedary', 'Alpaca']\n"
          ]
        }
      ]
    },
    {
      "cell_type": "code",
      "source": [
        "list_for_testing = [\"Dormedary\", \"Bactrian\", \"Alpaca\", \"Zebra\", \"Hippo\"]\n",
        "print(list_for_testing[::2])"
      ],
      "metadata": {
        "colab": {
          "base_uri": "https://localhost:8080/"
        },
        "id": "Dvhu8bdnDWOP",
        "outputId": "eb0d90f8-dbdd-48ca-f9a2-a20825e55196"
      },
      "execution_count": null,
      "outputs": [
        {
          "output_type": "stream",
          "name": "stdout",
          "text": [
            "['Dormedary', 'Alpaca', 'Hippo']\n"
          ]
        }
      ]
    },
    {
      "cell_type": "markdown",
      "source": [
        "Determining the length of the list using the <b> len() </b> method"
      ],
      "metadata": {
        "id": "KgZBIT_G0Kw0"
      }
    },
    {
      "cell_type": "code",
      "source": [
        "list_for_testing = [\"Dormedary\", \"Bactrian\", \"Alpaca\", \"Zebra\", \"Hippo\"]\n",
        "print(len(list_for_testing))"
      ],
      "metadata": {
        "colab": {
          "base_uri": "https://localhost:8080/"
        },
        "id": "NCyLtnJj1qF8",
        "outputId": "ce47973e-fe65-4211-edb7-595a0ab1987c"
      },
      "execution_count": null,
      "outputs": [
        {
          "output_type": "stream",
          "name": "stdout",
          "text": [
            "5\n"
          ]
        }
      ]
    },
    {
      "cell_type": "markdown",
      "source": [
        "Counting certain elements in the list using **list.count() method**."
      ],
      "metadata": {
        "id": "-T1xYsmgEwAc"
      }
    },
    {
      "cell_type": "code",
      "source": [
        "list_for_testing = [\"Dormedary\", \"Bactrian\", \"Alpaca\", \"Zebra\", \"Hippo\", \"Alpaca\"]\n",
        "print(list_for_testing.count(\"Alpaca\"))"
      ],
      "metadata": {
        "colab": {
          "base_uri": "https://localhost:8080/"
        },
        "id": "z8CKYKtxE5jy",
        "outputId": "123be4fd-3124-4c7f-f5e9-1a136c7ffb91"
      },
      "execution_count": null,
      "outputs": [
        {
          "output_type": "stream",
          "name": "stdout",
          "text": [
            "2\n"
          ]
        }
      ]
    },
    {
      "cell_type": "markdown",
      "source": [
        "<p> <b> Looping through the list.</b> </p> The looping through the list can be done using the <b> for </b> method. The synthax is the following:\n",
        "\n",
        "```python\n",
        "for item in list:\n",
        "  do something\n",
        "```"
      ],
      "metadata": {
        "id": "mPiy6Tr2G73K"
      }
    },
    {
      "cell_type": "code",
      "source": [
        "list1 = [\"Dormedary\", \"Bactrian\", \"Alpaca\", \"Zebra\", \"Hippo\", \"Alpaca\"]\n",
        "for item in list1:\n",
        "  print(item)"
      ],
      "metadata": {
        "colab": {
          "base_uri": "https://localhost:8080/"
        },
        "id": "s3QD7ILtDQfy",
        "outputId": "7541a115-9c2b-421d-e7c5-51a6a3435c53"
      },
      "execution_count": null,
      "outputs": [
        {
          "output_type": "stream",
          "name": "stdout",
          "text": [
            "Dormedary\n",
            "Bactrian\n",
            "Alpaca\n",
            "Zebra\n",
            "Hippo\n",
            "Alpaca\n"
          ]
        }
      ]
    },
    {
      "cell_type": "markdown",
      "source": [
        "Intead of the word <b> <u> item </u> </b> in the <b> for statement </b> you can out anything. It is the same as asigning the variable name."
      ],
      "metadata": {
        "id": "uVfI4kEmDpev"
      }
    },
    {
      "cell_type": "code",
      "source": [
        "list1 = [\"Dormedary\", \"Bactrian\", \"Alpaca\", \"Zebra\", \"Hippo\", \"Alpaca\"]\n",
        "for something in list1:\n",
        "  print(something)"
      ],
      "metadata": {
        "colab": {
          "base_uri": "https://localhost:8080/"
        },
        "id": "FQMB4boUFxd3",
        "outputId": "41df5293-7f4a-4357-a1a7-19f3874c9880"
      },
      "execution_count": null,
      "outputs": [
        {
          "output_type": "stream",
          "name": "stdout",
          "text": [
            "Dormedary\n",
            "Bactrian\n",
            "Alpaca\n",
            "Zebra\n",
            "Hippo\n",
            "Alpaca\n"
          ]
        }
      ]
    },
    {
      "cell_type": "markdown",
      "source": [
        "Or insted of simply printing the item you can do something else with it."
      ],
      "metadata": {
        "id": "VdAsAjxXIpuv"
      }
    },
    {
      "cell_type": "code",
      "source": [
        "list1 = [\"Dormedary\", \"Bactrian\", \"Alpaca\", \"Zebra\", \"Hippo\", \"Alpaca\"]\n",
        "for something in list1:\n",
        "  print(len(something))"
      ],
      "metadata": {
        "colab": {
          "base_uri": "https://localhost:8080/"
        },
        "id": "Lf3iN1fJIyet",
        "outputId": "568716d6-2bea-4999-edeb-a3d2e61e1c25"
      },
      "execution_count": null,
      "outputs": [
        {
          "output_type": "stream",
          "name": "stdout",
          "text": [
            "9\n",
            "8\n",
            "6\n",
            "5\n",
            "5\n",
            "6\n"
          ]
        }
      ]
    },
    {
      "cell_type": "markdown",
      "source": [
        "<br> <b> Another example </b> </br> Below are the \"AHO\" sequences obtained through the scraping of the NB thermo database. The AHO sequencres have gaps in them. We can use loop to remove the gaps."
      ],
      "metadata": {
        "id": "ANxI56_LLbPn"
      }
    },
    {
      "cell_type": "code",
      "source": [
        "sequences = [\"EVQLEES-GGGLVQPGGSLRLSCAASG-FNIKD-----TYIGWVRQAPGKGEEWVASIYPT----SGYTRYADSVKGRFTISADTSKNT--AYLQMNSLRAEDTAVYYCAAGSAQAGNA-------------EEAEEEFDYWGQGTLVTVSS\",\n",
        "\"EVQLQES-GGGLVQAGGSLRLSCAASG-ELYAL-----ISMGWFRQAPGKEREFVAAISRN----GDNTYYTDSVKGRFTISRDNAKNT--VELQMNSLKPEDTAVYYCAADKFASPDGS-----------VTIMTNEYDYWGQGTQVTVSD\",\n",
        "             \"EVQLEES-GGGLVQPGGSLRLSCAASG-FNIKD-----TYIGWVRQAPGKGEEWVASIYPT----SGYTRYADSVKGRFTISADTSKNT--AYLQMNSLRAEDTAVYYCAAGSQSGY-----------------HFEEFDYWGQGTLVTVSS\"]\n",
        "\n",
        "new_sequences = [] # generate the new list to which the values will bew added\n",
        "\n",
        "for sequence in sequences: # for each of the sequences\n",
        "  sequence_new = sequence.replace(\"-\", \"\") # generate modified sequence\n",
        "  new_sequences.append(sequence_new) # append to the new list\n",
        "print(new_sequences) # print the result"
      ],
      "metadata": {
        "colab": {
          "base_uri": "https://localhost:8080/"
        },
        "id": "A6FfF8-ZNqoX",
        "outputId": "5193ffeb-ca0f-40de-b5f9-c7026bf17441"
      },
      "execution_count": null,
      "outputs": [
        {
          "output_type": "stream",
          "name": "stdout",
          "text": [
            "['EVQLEESGGGLVQPGGSLRLSCAASGFNIKDTYIGWVRQAPGKGEEWVASIYPTSGYTRYADSVKGRFTISADTSKNTAYLQMNSLRAEDTAVYYCAAGSAQAGNAEEAEEEFDYWGQGTLVTVSS', 'EVQLQESGGGLVQAGGSLRLSCAASGELYALISMGWFRQAPGKEREFVAAISRNGDNTYYTDSVKGRFTISRDNAKNTVELQMNSLKPEDTAVYYCAADKFASPDGSVTIMTNEYDYWGQGTQVTVSD', 'EVQLEESGGGLVQPGGSLRLSCAASGFNIKDTYIGWVRQAPGKGEEWVASIYPTSGYTRYADSVKGRFTISADTSKNTAYLQMNSLRAEDTAVYYCAAGSQSGYHFEEFDYWGQGTLVTVSS']\n"
          ]
        }
      ]
    },
    {
      "cell_type": "markdown",
      "source": [
        "<b> Exercise 1: </b> Given the list of protein sequences (these are all from NBThermo) print out the list of their extinction coefficients. <br> $ε_{molar} =  (n_{1}W * 5500) + (n_{2}Y * 1490) + (n_{3}C * 125)$ </br> where $n_{1}W, n_{2}Y $ and $ n_{3}C $, are number of instances the corresponding amino acids."
      ],
      "metadata": {
        "id": "O7FdJfFRTISK"
      }
    },
    {
      "cell_type": "code",
      "source": [
        "sequences = [\"QLQLVESGGGLVQAGGSLRLSCAASGRTFSSATMGWFRQAPGKEREFVAAISWSGLSRYYADSVKGRFTISRDNAENTVYLQMNSLKTEDTAVYYCAADSWGCSGLGCYDARQYDVWGQGTQVTVSS\",\n",
        "             \"QVQLVESGGGLVQPGESLRLSCAASGSIFGIYAVHWFRMAPGKEREFTAGFGSHGSTNYAASVKGRFTMSRDNAKNTTYLQMNSLKPADTAVYYCHALIKNELGFLDYWGPGTQVTVSS\",\n",
        "             \"GPHMAQVQLVESGGRLVQAGDSLRLSCAASGRTFSTSAMAWFRQAPGREREFVAAITWTVGNTILGDSVKGRFTISRDRAKNTVDLQMDNLEPEDTAVYYCSARSRGYVLSVLRSVDSYDYWGQGTQVTVS\"]"
      ],
      "metadata": {
        "id": "SHqeRSq6WpBI"
      },
      "execution_count": null,
      "outputs": []
    },
    {
      "cell_type": "code",
      "source": [],
      "metadata": {
        "id": "NSQY-_ut32aU"
      },
      "execution_count": null,
      "outputs": []
    },
    {
      "cell_type": "markdown",
      "source": [
        "Looping through the list so that you can loop through the <b> values of the elements </b> stored in the list and the <b> indexes of the elements. </b>"
      ],
      "metadata": {
        "id": "3qVxit2gGMpk"
      }
    },
    {
      "cell_type": "code",
      "source": [
        "list1 = [\"Dormedary\", \"Bactrian\", \"Alpaca\", \"Zebra\", \"Hippo\", \"Alpaca\"]\n",
        "for ele in enumerate(list1):\n",
        "    print(ele)"
      ],
      "metadata": {
        "colab": {
          "base_uri": "https://localhost:8080/"
        },
        "id": "YUbU8dSLHmTT",
        "outputId": "99767ce0-e546-4dd0-b2b9-196edd6646c5"
      },
      "execution_count": null,
      "outputs": [
        {
          "output_type": "stream",
          "name": "stdout",
          "text": [
            "(0, 'Dormedary')\n",
            "(1, 'Bactrian')\n",
            "(2, 'Alpaca')\n",
            "(3, 'Zebra')\n",
            "(4, 'Hippo')\n",
            "(5, 'Alpaca')\n"
          ]
        }
      ]
    },
    {
      "cell_type": "markdown",
      "source": [
        "In this case **ele** is a dataype called **tuple.** You can also print the number and the value stored within the tuple separately."
      ],
      "metadata": {
        "id": "Npr0DheklgGL"
      }
    },
    {
      "cell_type": "code",
      "source": [
        "list1 = [\"Dormedary\", \"Bactrian\", \"Alpaca\", \"Zebra\", \"Hippo\", \"Alpaca\"]\n",
        "for number, name in enumerate(list1):\n",
        "    print(str(number) + \" : \" + name)"
      ],
      "metadata": {
        "colab": {
          "base_uri": "https://localhost:8080/"
        },
        "id": "KevlYpGRppKD",
        "outputId": "2017341b-13a6-43c1-9529-a75399034b9b"
      },
      "execution_count": null,
      "outputs": [
        {
          "output_type": "stream",
          "name": "stdout",
          "text": [
            "0 : Dormedary\n",
            "1 : Bactrian\n",
            "2 : Alpaca\n",
            "3 : Zebra\n",
            "4 : Hippo\n",
            "5 : Alpaca\n"
          ]
        }
      ]
    },
    {
      "cell_type": "markdown",
      "source": [
        "Looping through the multiple lists can be done using **zip** method."
      ],
      "metadata": {
        "id": "CO1bsJ0iNO28"
      }
    },
    {
      "cell_type": "code",
      "source": [
        "list1 = [\"Framework_1\", \"Framework_2\", \"Framework_3\", \"Framework_4\"]\n",
        "list2 = [\"QVQLVESGGRLVQAGDSLRLSC\", \"WFRQAPGREREFV\", \"ILGDSVKGRFTISRDRAKNTVDLQMDNLEPEDTAVYYC\", \"WGQGTQVTVSS\"]\n",
        "for i, z in zip(list1, list2):\n",
        "  print(i + \" : \" + z)"
      ],
      "metadata": {
        "colab": {
          "base_uri": "https://localhost:8080/"
        },
        "id": "XdBcLjWhqhU_",
        "outputId": "e64a1650-6580-4a24-d79f-60930973da63"
      },
      "execution_count": null,
      "outputs": [
        {
          "output_type": "stream",
          "name": "stdout",
          "text": [
            "Framework_1 : QVQLVESGGRLVQAGDSLRLSC\n",
            "Framework_2 : WFRQAPGREREFV\n",
            "Framework_3 : ILGDSVKGRFTISRDRAKNTVDLQMDNLEPEDTAVYYC\n",
            "Framework_4 : WGQGTQVTVSS\n"
          ]
        }
      ]
    },
    {
      "cell_type": "markdown",
      "source": [
        "There is alos an option to loop through the string."
      ],
      "metadata": {
        "id": "LZRnzMHnTqQN"
      }
    },
    {
      "cell_type": "code",
      "source": [
        "framework1 = \"DVQLQASGGGLVQAGGSLRLSC\"\n",
        "for aa in framework1:\n",
        "  print(aa)"
      ],
      "metadata": {
        "colab": {
          "base_uri": "https://localhost:8080/"
        },
        "id": "j3R4HB8llRV3",
        "outputId": "ca27b25c-3355-41f0-c0a1-2b61e44662ac"
      },
      "execution_count": null,
      "outputs": [
        {
          "output_type": "stream",
          "name": "stdout",
          "text": [
            "D\n",
            "V\n",
            "Q\n",
            "L\n",
            "Q\n",
            "A\n",
            "S\n",
            "G\n",
            "G\n",
            "G\n",
            "L\n",
            "V\n",
            "Q\n",
            "A\n",
            "G\n",
            "G\n",
            "S\n",
            "L\n",
            "R\n",
            "L\n",
            "S\n",
            "C\n"
          ]
        }
      ]
    },
    {
      "cell_type": "markdown",
      "source": [
        "<br> <b> Nested lists. </b> </br>  What happens if you store the list inside the list and how to get the values out. Syntax:\n",
        "```python\n",
        "list = [[zero_zero, zero_first], [first_zero, first_first]]\n",
        "elem = list[index of list element][index of the element within that list]\n",
        "```\n",
        "\n"
      ],
      "metadata": {
        "id": "qXrsNaG0nYhq"
      }
    },
    {
      "cell_type": "code",
      "source": [
        "list1 = [[1, 2, 3, 4, 5],[\"Camel\", \"Alpaca\", \"Zebra\"]]\n",
        "element = list1[1][0]\n",
        "print(element)"
      ],
      "metadata": {
        "colab": {
          "base_uri": "https://localhost:8080/"
        },
        "id": "lXW6d5KUm1Eu",
        "outputId": "c01e320a-951c-4ee4-8eec-b634216d2530"
      },
      "execution_count": null,
      "outputs": [
        {
          "output_type": "stream",
          "name": "stdout",
          "text": [
            "Camel\n"
          ]
        }
      ]
    },
    {
      "cell_type": "markdown",
      "source": [
        "<b> Exercise 2: </b> Write the code to print out the <b> \"CDR2\" </b> element of the nested list."
      ],
      "metadata": {
        "id": "h8sUF8D1u7lt"
      }
    },
    {
      "cell_type": "code",
      "source": [
        "nested_list = [[\"framework1\", \"framework2\", \"framework3\", \"framework4\"], [\"CDR1\", \"CDR2\", \"CDR3\"]]"
      ],
      "metadata": {
        "id": "0lCZsPQLxlPK"
      },
      "execution_count": null,
      "outputs": []
    },
    {
      "cell_type": "markdown",
      "source": [
        "## list comprehension ##\n",
        "<p> Is there the way to remove all values that do not meet certain condition? </p> <p> Is there faster way to loop through the list? </p> <p> The answer is <b> yes </b> you can do it using <b> list comprehension. </b> </p>\n",
        "\n"
      ],
      "metadata": {
        "id": "EL_LeOEQG6si"
      }
    },
    {
      "cell_type": "markdown",
      "source": [
        "Consider the list below:\n",
        "```python\n",
        "list = [1, 2, 3, 4, 5, 6]\n",
        "```\n",
        "what we have to do to generate another list, in which each value of the list above is multiplied by 10. Conventional approach is presented below"
      ],
      "metadata": {
        "id": "PwV0o0c7zb2d"
      }
    },
    {
      "cell_type": "code",
      "source": [
        "new_list = []\n",
        "old_list = [1, 2, 3, 4, 5, 6]\n",
        "for numb in old_list:\n",
        "  new_numb = numb*10\n",
        "  new_list.append(new_numb)\n",
        "print(new_list)"
      ],
      "metadata": {
        "colab": {
          "base_uri": "https://localhost:8080/"
        },
        "id": "xFb4_i2z3DYv",
        "outputId": "26e6cfec-aa47-4242-bcc4-328ec713b503"
      },
      "execution_count": null,
      "outputs": [
        {
          "output_type": "stream",
          "name": "stdout",
          "text": [
            "[10, 20, 30, 40, 50, 60]\n"
          ]
        }
      ]
    },
    {
      "cell_type": "markdown",
      "source": [
        "However, that is 6 lines of code.\n",
        "<br> Below is the way how you can do it faster and with less code. Syntax:</br>\n",
        "```python\n",
        "new_list = [ expression(element) for element in old_list ]\n",
        "```"
      ],
      "metadata": {
        "id": "36Lzdyqk4OWg"
      }
    },
    {
      "cell_type": "code",
      "source": [
        "old_list = [1, 2, 3, 4, 5, 6]\n",
        "new_list = [a*10 for a in old_list]\n",
        "print(new_list)"
      ],
      "metadata": {
        "colab": {
          "base_uri": "https://localhost:8080/"
        },
        "id": "Nqb5DeUPI5pA",
        "outputId": "00ca9014-422c-4397-9c7b-65e618f29a01"
      },
      "execution_count": null,
      "outputs": [
        {
          "output_type": "stream",
          "name": "stdout",
          "text": [
            "[10, 20, 30, 40, 50, 60]\n"
          ]
        }
      ]
    },
    {
      "cell_type": "markdown",
      "source": [
        "Above is the simplest version of the list comprehension. The more complicated version would involve the <b> condition </b> and the synthax would be:\n",
        "```python\n",
        "new_list = [ expression(element) for element in old_list if condition]\n",
        "```"
      ],
      "metadata": {
        "id": "nJGguzpy5zB4"
      }
    },
    {
      "cell_type": "markdown",
      "source": [
        "so condider the example in which we want to multiply numbers by 10, but only even numbers. We can use <b> modulus %</b> operator to check if numbers are even:\n",
        "> You put <b> == </b> if you do not know if the number is equal or not, normally used within condition statements"
      ],
      "metadata": {
        "id": "5fmPdBKh6Zs7"
      }
    },
    {
      "cell_type": "code",
      "source": [
        "old_list = [1, 2, 3, 4, 5, 6]\n",
        "new_list = [a*10 for a in old_list if a%2 == 0]\n",
        "print(new_list)"
      ],
      "metadata": {
        "colab": {
          "base_uri": "https://localhost:8080/"
        },
        "id": "VTSa--9b6SGc",
        "outputId": "eb1d55c4-ce04-474a-c627-49068779ec57"
      },
      "execution_count": null,
      "outputs": [
        {
          "output_type": "stream",
          "name": "stdout",
          "text": [
            "[20, 40, 60]\n"
          ]
        }
      ]
    },
    {
      "cell_type": "markdown",
      "source": [
        "Another example of list comprehesion : removing the certain values from the list. Previously we used .remove() method that allowed to remove one replicate at time. List comprehension allows to <b> remove multiple duplicates. </b>\n",
        "> != means not equal"
      ],
      "metadata": {
        "id": "Co2XfvDV7ajE"
      }
    },
    {
      "cell_type": "code",
      "source": [
        "list1 = [\"Dormedary\", \"Bactrian\", \"Alpaca\", \"Zebra\", \"Hippo\", \"Alpaca\"]\n",
        "new_list = [animal for animal in list1 if animal != \"Alpaca\"]\n",
        "print(new_list)"
      ],
      "metadata": {
        "colab": {
          "base_uri": "https://localhost:8080/"
        },
        "id": "xmQnoo638pAb",
        "outputId": "bdd2adb9-e0a9-45e4-ceec-ec08a093b1bd"
      },
      "execution_count": null,
      "outputs": [
        {
          "output_type": "stream",
          "name": "stdout",
          "text": [
            "['Dormedary', 'Bactrian', 'Zebra', 'Hippo']\n"
          ]
        }
      ]
    }
  ]
}