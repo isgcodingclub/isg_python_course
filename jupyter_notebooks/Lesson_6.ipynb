{
  "nbformat": 4,
  "nbformat_minor": 0,
  "metadata": {
    "colab": {
      "provenance": []
    },
    "kernelspec": {
      "name": "python3",
      "display_name": "Python 3"
    },
    "language_info": {
      "name": "python"
    }
  },
  "cells": [
    {
      "cell_type": "markdown",
      "source": [
        "## Lesson 6 - practical session ##"
      ],
      "metadata": {
        "id": "yjCpdC2Z9uzN"
      }
    },
    {
      "cell_type": "markdown",
      "source": [
        "**Lesson 1 Revision exercises:**\n",
        "<p>\n",
        "<b>Exercise 1\n",
        "</b>\n",
        "\n",
        "1. Below is the string of the amino acids. Find at which position the X amino acid is and print this position\n",
        "2. Split the string of the amino acids into 2 pieces, before X and after and remove the X.\n",
        "3. Print the two pieces.\n",
        "</p>"
      ],
      "metadata": {
        "id": "SMW2Vf149-FX"
      }
    },
    {
      "cell_type": "code",
      "source": [
        "string = \"EVQLQASGGGLVQAGDSLRLSCVAVSGRTISTFAMGWFRQAPGKEREFVATINWXSGSSARYADPVEGRFTISRDDAKNTVYLEMSSLKPGDSAVYYCASGRYLGGITSYSQGDFAPWGQGTQVTVSS\""
      ],
      "metadata": {
        "id": "NnUu5ySC_uU_"
      },
      "execution_count": null,
      "outputs": []
    },
    {
      "cell_type": "markdown",
      "source": [
        "<b> Exercise 2 </b>\n",
        "<p> Transcribe this RNA sequence into DNA and calculate the GC content of the sequence. </p>"
      ],
      "metadata": {
        "id": "V97OYBQ5Eefn"
      }
    },
    {
      "cell_type": "code",
      "execution_count": null,
      "metadata": {
        "id": "p_Jxw5CJ9uJO"
      },
      "outputs": [],
      "source": [
        "RNA_seq = \"AUACCUUAUCAAAAACAUUAAAACGUAGAAAGGAUAUGAAUUUUAAUAUUGUCAUAGAGUAAUAUCAAAUAUUUAAUUAGCGAAGAAUUGAUGAUAAAAC\""
      ]
    },
    {
      "cell_type": "markdown",
      "source": [
        "<b> Exercise 3 </b>\n",
        "<p> You have 736 ul of the solution. Calculate how many 20 ul aliquots you can make from it. </p>"
      ],
      "metadata": {
        "id": "VKOdE0reIhpA"
      }
    },
    {
      "cell_type": "code",
      "source": [
        "volume = 736"
      ],
      "metadata": {
        "id": "wcaVK8UT__Zf"
      },
      "execution_count": null,
      "outputs": []
    },
    {
      "cell_type": "markdown",
      "source": [
        "<b> Exercise 4 </b>\n",
        "Generate the reverse complement of the string"
      ],
      "metadata": {
        "id": "V4lXMJGKP8Ui"
      }
    },
    {
      "cell_type": "code",
      "source": [
        "sequence_1 = \"TTCGTGATGTTGCGTATAACACATGCAACTTGAGTATATA\""
      ],
      "metadata": {
        "id": "FIpKPD_IP75k"
      },
      "execution_count": null,
      "outputs": []
    },
    {
      "cell_type": "markdown",
      "source": [
        "<b> Exercise 5 </b>\n",
        "<p> Given the sequence and the frameworks extract the CDRs </p>"
      ],
      "metadata": {
        "id": "DAPyQC_pRqYo"
      }
    },
    {
      "cell_type": "code",
      "source": [
        "sequence_VHH = \"DVQLQASGGGLVQAGGSLRLSCAASARTFYTMGWFRQVLGKDREFVGAIRWGVYATTRYADSVKGRFSISRDDATNTVALQMNSLKPEDTAVYYCAARAGPLGFELSATSSAEYDYWGQGTQVTVSS\"\n",
        "framework1 = \"DVQLQASGGGLVQAGGSLRLSC\"\n",
        "framework2 = \"WFRQVLGKDREFV\"\n",
        "framework3 = \"RYADSVKGRFSISRDDATNTVALQMNSLKPEDTAVYYC\"\n",
        "framework3 = \"WGQGTQVTVSS\""
      ],
      "metadata": {
        "id": "nPpIHN74SeLQ"
      },
      "execution_count": null,
      "outputs": []
    },
    {
      "cell_type": "markdown",
      "source": [
        "**Lesson 2 Revision exercises**\n",
        "<p> <b> Exercise 1 </b> </p>\n",
        "<p> Find the intecept of two lists (that is common elements) and print it </p>"
      ],
      "metadata": {
        "id": "wmjn4KBm0uxt"
      }
    },
    {
      "cell_type": "code",
      "source": [
        "list1 = [\"Guanako\", \"Alpaca\", \"Zebra\", \"Okapi\", \"Pingvin\", \"Lemur\"]\n",
        "list2 = [\"Camel\", \"Python\", \"Alpaca\", \"Guanako\", \"Cat\"]"
      ],
      "metadata": {
        "id": "5RxvLtA50sjf"
      },
      "execution_count": null,
      "outputs": []
    },
    {
      "cell_type": "markdown",
      "source": [
        "<p> <b> Exercise 2 </b> </p>\n",
        "Using list comprehension invert all the elements in the list"
      ],
      "metadata": {
        "id": "diyjE4Ut2nEJ"
      }
    },
    {
      "cell_type": "code",
      "source": [
        "list3 = [\"Guanako\", \"Alpaca\", \"Zebra\", \"Okapi\", \"Pingvin\", \"Lemur\"]"
      ],
      "metadata": {
        "id": "2FlFlJT-Ey9W"
      },
      "execution_count": null,
      "outputs": []
    },
    {
      "cell_type": "markdown",
      "source": [
        "<p> <b> Exercise 3</b> </p>\n",
        "Generate the ngrams of length of four from the sequence using the list comprehension and string slicing"
      ],
      "metadata": {
        "id": "nuC9M73BFEt2"
      }
    },
    {
      "cell_type": "code",
      "source": [
        "dna_for_ngrams = \"CGCCGACCTAAGGACGAGCTAATACCCTCTGTTCGGGG\""
      ],
      "metadata": {
        "id": "G20WqdIWFDNe"
      },
      "execution_count": null,
      "outputs": []
    },
    {
      "cell_type": "markdown",
      "source": [
        "<p> <b> Exercise 4. </b> </p>\n",
        "Sort the animals into two lists. One that contains the words that are shorter then 6 letters, and anbother that contains words that are equal or longer to 6 letters."
      ],
      "metadata": {
        "id": "SYn0kX3wHzu0"
      }
    },
    {
      "cell_type": "code",
      "source": [
        "list_soring = [\"Guanako\", \"Alpaca\", \"Zebra\", \"Okapi\", \"Pingvin\", \"Lemur\", \"Camel\", \"Python\", \"Alpaca\", \"Guanako\", \"Cat\"]"
      ],
      "metadata": {
        "id": "4EMMkapHHyKo"
      },
      "execution_count": null,
      "outputs": []
    },
    {
      "cell_type": "markdown",
      "source": [
        "**Lessons 3-5 Revision exercises**\n",
        "<p> <b> Exercise 1 </b> </p>\n",
        "\n",
        "Make a code that can be used to calculate the concentration of the protein given the sequence of the protein and the measured A280.\n",
        "\n",
        "The formula for calculation of the concentration\n",
        "$conc (uM) = A_{280}/e_{ext}*1000$\n",
        "\n",
        "Formula for the calculation of the extinction coefficient:\n",
        "\n",
        "$ε_{molar} =  (n_{1}W * 5500) + (n_{2}Y * 1490) + (n_{3}C * 125)$ </br> where $n_{1}W, n_{2}Y $ and $ n_{3}C $, are number of instances the corresponding amino acids. Only paired cysteines count. <p> To calculate the molecular weight sum all the mwts of the amino acids and add <b> 18.02 Da </b> to account for water molecule at the N terminus of the protein. </p>\n",
        "<p> Use input statements and ask user to provide sequence and A280 </p>"
      ],
      "metadata": {
        "id": "5U-AnFz9JENp"
      }
    },
    {
      "cell_type": "code",
      "source": [
        "amino_acid_weights = {\n",
        "    'A': 71.03711,  # Alanine\n",
        "    'R': 156.10111, # Arginine\n",
        "    'N': 114.04293, # Asparagine\n",
        "    'D': 115.02694, # Aspartic acid\n",
        "    'C': 103.00919, # Cysteine\n",
        "    'E': 129.04259, # Glutamic acid\n",
        "    'Q': 128.05858, # Glutamine\n",
        "    'G': 57.02146,  # Glycine\n",
        "    'H': 137.05891, # Histidine\n",
        "    'I': 113.08406, # Isoleucine\n",
        "    'L': 113.08406, # Leucine\n",
        "    'K': 128.09496, # Lysine\n",
        "    'M': 131.04049, # Methionine\n",
        "    'F': 147.06841, # Phenylalanine\n",
        "    'P': 97.05276,  # Proline\n",
        "    'S': 87.03203,  # Serine\n",
        "    'T': 101.04768, # Threonine\n",
        "    'W': 186.07931, # Tryptophan\n",
        "    'Y': 163.06333, # Tyrosine\n",
        "    'V': 99.06841   # Valine\n",
        "}\n"
      ],
      "metadata": {
        "id": "wu9gnC-RKZ0D"
      },
      "execution_count": null,
      "outputs": []
    },
    {
      "cell_type": "code",
      "source": [
        "QVKLEESGGGLVQAEGSLRLSCVTSGRIEGILLVGWYRQGPGKQRDVVASIDRNGNTRYDGSAEGRFTIARENANTVYLQMNNLRPEDSNVYVCGALSSGVNPWAWGQGTQVTVSSENLYFQGHHHHHH"
      ],
      "metadata": {
        "id": "w4NA7vSnRDtW"
      },
      "execution_count": null,
      "outputs": []
    },
    {
      "cell_type": "markdown",
      "source": [
        "<p> <b>  Exercise 2.</b> </p> <p> Construct a function that is going to make the reverse complement of the sequence if it is provided  sequence and 1 as a parameter and returns simple complement if it is provided sequence and 0 as a paraemeter. </p>"
      ],
      "metadata": {
        "id": "3kblarcqRh2a"
      }
    },
    {
      "cell_type": "code",
      "source": [],
      "metadata": {
        "id": "ubLdyr1zRjdI"
      },
      "execution_count": null,
      "outputs": []
    }
  ]
}