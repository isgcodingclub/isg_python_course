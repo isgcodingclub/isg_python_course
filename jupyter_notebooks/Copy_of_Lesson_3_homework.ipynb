{
  "nbformat": 4,
  "nbformat_minor": 0,
  "metadata": {
    "colab": {
      "provenance": []
    },
    "kernelspec": {
      "name": "python3",
      "display_name": "Python 3"
    },
    "language_info": {
      "name": "python"
    }
  },
  "cells": [
    {
      "cell_type": "markdown",
      "source": [
        "You are given the list of sequences. Write the program that will:\n",
        "1. Calculate the extinction coeffient for each sequence.\n",
        "The formula for the extinction coefficient:\n",
        "<br> $ε_{molar} =  (n_{1}W * 5500) + (n_{2}Y * 1490) + (n_{3}C_{pair} * 125)$ </br> where $n_{1}W $ and $ n_{2}Y $ are number of instances the corresponding amino acids. $ n_{3}C_{pair} $, is the number of the pairs of cysteines. <u> Unpaired cysteines do not count </u>.\n",
        "\n",
        "You might be tempted to use the if statements to account for situations with different numbers of cysteines. But wet we did not cover the <b> if statements </b> yet. DO NOT DO IT! Instead go to lesson 1 and search there for the method that you can use (hint, check ariphmetic operations in python).\n",
        "\n",
        "2. Calculate the molecular weight of the protein.\n",
        "\n",
        "<br> You are given the dictionary of the molecular weight of the amino acids and the list containing all amino acids in one letter code to start with as well as list of sequences.</br>\n",
        "\n"
      ],
      "metadata": {
        "id": "2LP4EBx8DCEZ"
      }
    },
    {
      "cell_type": "code",
      "execution_count": null,
      "metadata": {
        "id": "ljuTalvFA-SM"
      },
      "outputs": [],
      "source": [
        "amino_acid_weights = {\n",
        "    'A': 71.03711,  # Alanine\n",
        "    'R': 156.10111, # Arginine\n",
        "    'N': 114.04293, # Asparagine\n",
        "    'D': 115.02694, # Aspartic acid\n",
        "    'C': 103.00919, # Cysteine\n",
        "    'E': 129.04259, # Glutamic acid\n",
        "    'Q': 128.05858, # Glutamine\n",
        "    'G': 57.02146,  # Glycine\n",
        "    'H': 137.05891, # Histidine\n",
        "    'I': 113.08406, # Isoleucine\n",
        "    'L': 113.08406, # Leucine\n",
        "    'K': 128.09496, # Lysine\n",
        "    'M': 131.04049, # Methionine\n",
        "    'F': 147.06841, # Phenylalanine\n",
        "    'P': 97.05276,  # Proline\n",
        "    'S': 87.03203,  # Serine\n",
        "    'T': 101.04768, # Threonine\n",
        "    'W': 186.07931, # Tryptophan\n",
        "    'Y': 163.06333, # Tyrosine\n",
        "    'V': 99.06841   # Valine\n",
        "}\n",
        "list_of_aas = ['A', 'R', 'N', 'D', 'C', 'E', 'Q', 'G', 'H', 'I', 'L', 'K', 'M', 'F', 'P', 'S', 'T', 'W', 'Y', 'V']\n",
        "list_of_seqs = ['MEVQLEESGGGLVQPGGSLRLSCAASGFNIKDTYIGWVRQAPGKGEEWVASIYPTSGYTRYADSVKGRFTISADTSKNTAYLQMNSLRAEDTAVYYCAAGSAQAGNAEEAEEEFDYWGQGTLVTVSSDHHHHHHH',\n",
        "                'QVQLQESGGGSVQAGGSLKLSCAASGGAYRNACMGFRQAPGKEREGAIINSVDTTYYADPVKGRFTISRDNAKSTVYLLMNSLKPEDTAIYYCAQVARVVCPGDKLGASGYNYWGQGTQVTVSS',\n",
        "                'EVQLQASGGGLVQPGGCLRLNCAASGTDLSIYDMAWHRQAPGKQRELVAELPRGGSQNYAASVKGRFTISRDNAKNTVWLQMDSLRPEDTAVYFCNARFSRGGMFSSYWGQGTQVTVSS']\n"
      ]
    },
    {
      "cell_type": "code",
      "source": [
        "# Code your solution here"
      ],
      "metadata": {
        "id": "i3JiFlh-Hv3m"
      },
      "execution_count": null,
      "outputs": []
    },
    {
      "cell_type": "code",
      "source": [
        "# @title If you are stuck click on show code for a hint\n",
        "# You have to use the string.count() method to calculate the number of the citozines, tyrosines and tryptophans.\n",
        "# Below is the example how to calculate the number of alanines witrhing the short sequnce\n",
        "short_seq = \"CAASGGAYRNA\"\n",
        "alanine_count = short_seq.count(\"A\")\n",
        "print(alanine_count)"
      ],
      "metadata": {
        "colab": {
          "base_uri": "https://localhost:8080/"
        },
        "cellView": "form",
        "id": "HCMVynk8HLIr",
        "outputId": "cd66e806-b90d-42e8-d2cc-2a70e9b03267"
      },
      "execution_count": null,
      "outputs": [
        {
          "output_type": "stream",
          "name": "stdout",
          "text": [
            "4\n"
          ]
        }
      ]
    },
    {
      "cell_type": "code",
      "source": [
        "# @title If you are still stuck press show code for another hint.\n",
        "\n",
        "# you can use floor dividision when the number of the pairs of objects need to be calculated.\n",
        "# Example:\n",
        "# Let's suppose you have certain number of slippers.\n",
        "# you are only interested in how many people will be able to wear the slippers and do not consider giving someone only one shoe. Calculate how many people you can give slippers.\n",
        "# Solution:\n",
        "slippers = 17\n",
        "people = slippers//2\n",
        "print(people)\n",
        "\n",
        "# Can you apply this to pairs of cysteines?\n",
        "\n"
      ],
      "metadata": {
        "colab": {
          "base_uri": "https://localhost:8080/"
        },
        "cellView": "form",
        "id": "GWvrQm-kMIGp",
        "outputId": "024bdce2-29f1-495b-a321-0e5742b60e3a"
      },
      "execution_count": null,
      "outputs": [
        {
          "output_type": "stream",
          "name": "stdout",
          "text": [
            "8\n"
          ]
        }
      ]
    },
    {
      "cell_type": "code",
      "source": [
        "# @title Press show code for another hint\n",
        "#To calculate the molecular weight use the same method as in lesson3."
      ],
      "metadata": {
        "cellView": "form",
        "id": "QOnK0A8wOfXh"
      },
      "execution_count": null,
      "outputs": []
    }
  ]
}