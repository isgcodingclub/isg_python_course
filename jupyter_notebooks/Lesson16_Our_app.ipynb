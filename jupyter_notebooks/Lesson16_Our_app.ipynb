{
 "cells": [
  {
   "cell_type": "code",
   "execution_count": 1,
   "id": "18b2476b-6c08-4cb4-9e9c-ec87cc5ad804",
   "metadata": {},
   "outputs": [],
   "source": []
  },
  {
   "cell_type": "code",
   "execution_count": 26,
   "id": "ffece3ca-0a89-4145-b165-b685683fdb10",
   "metadata": {},
   "outputs": [],
   "source": [
    "import tkinter as tk\n",
    "amino_acid_weights = {\n",
    "    'A': 71.0788,\n",
    "    'R': 156.1875,\n",
    "    'N': 114.1038,\n",
    "    'D': 115.0886,\n",
    "    'C': 103.1388,\n",
    "    'E': 129.1155,\n",
    "    'Q': 128.1307,\n",
    "    'G': 57.0519,\n",
    "    'H': 137.1411,\n",
    "    'I': 113.1594,\n",
    "    'L': 113.1594,\n",
    "    'K': 128.1741,\n",
    "    'M': 131.1926,\n",
    "    'F': 147.1766,\n",
    "    'P': 97.1167,\n",
    "    'S': 87.0782,\n",
    "    'T': 101.1051,\n",
    "    'W': 186.2132,\n",
    "    'Y': 163.176,\n",
    "    'V': 99.1326\n",
    "}\n",
    "\n",
    "\n",
    "\n",
    "def calculate_mwt():\n",
    "    mwt = 18.02\n",
    "    sequence = input_widget.get(1.0, \"end-1c\")\n",
    "    sequence = sequence.upper()\n",
    "    list_of_wrong_letters = \"\"\n",
    "    for amino_acid in sequence:\n",
    "        if amino_acid not in amino_acid_weights.keys():\n",
    "            list_of_wrong_letters = list_of_wrong_letters + amino_acid\n",
    "        else:\n",
    "            mwt = mwt + amino_acid_weights[amino_acid]\n",
    "    output_label1.config(text = \"Molecular weight: \" + str(round(mwt, 2)) + \" Da\")\n",
    "    if len(list_of_wrong_letters) > 0:\n",
    "        output_label.config(text = \"You had non amino acid symbols: \" + list_of_wrong_letters)\n",
    "         \n",
    "root = tk.Tk()\n",
    "root.geometry(\"500x400\")\n",
    "root.title(\"Protein weight calculator\")\n",
    "input_widget = tk.Text(root, width = 40, height = 10)\n",
    "input_widget.place(x = 50, y = 100)\n",
    "btn_sumbit = tk.Button(root, text = \"Submit\", width = 10, bg = \"#9abdf5\", command = calculate_mwt)\n",
    "btn_sumbit.place(x = 50, y = 290)\n",
    "output_label = tk.Label(root, text = \"\")\n",
    "output_label1 = tk.Label(root, text = \"\")\n",
    "output_label.place(x = 250, y = 290)\n",
    "output_label1.place(x = 250, y = 320)\n",
    "root.mainloop()"
   ]
  },
  {
   "cell_type": "code",
   "execution_count": null,
   "id": "1cee1111-0283-48ee-b321-40c5c98f943c",
   "metadata": {},
   "outputs": [],
   "source": [
    "!python -m auto_py_to_exe"
   ]
  },
  {
   "cell_type": "code",
   "execution_count": null,
   "id": "61e3d24d-4639-4878-9f88-25e12e9be128",
   "metadata": {},
   "outputs": [],
   "source": []
  }
 ],
 "metadata": {
  "kernelspec": {
   "display_name": "Python 3 (ipykernel)",
   "language": "python",
   "name": "python3"
  },
  "language_info": {
   "codemirror_mode": {
    "name": "ipython",
    "version": 3
   },
   "file_extension": ".py",
   "mimetype": "text/x-python",
   "name": "python",
   "nbconvert_exporter": "python",
   "pygments_lexer": "ipython3",
   "version": "3.11.9"
  }
 },
 "nbformat": 4,
 "nbformat_minor": 5
}
