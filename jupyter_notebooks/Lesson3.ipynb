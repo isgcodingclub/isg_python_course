{
  "nbformat": 4,
  "nbformat_minor": 0,
  "metadata": {
    "colab": {
      "provenance": []
    },
    "kernelspec": {
      "name": "python3",
      "display_name": "Python 3"
    },
    "language_info": {
      "name": "python"
    }
  },
  "cells": [
    {
      "cell_type": "code",
      "execution_count": null,
      "metadata": {
        "id": "TWUcRtkDd5at"
      },
      "outputs": [],
      "source": []
    },
    {
      "cell_type": "markdown",
      "source": [
        "## Dictionaries ##\n",
        "<blockquote> Dictionaries are used to store data values in <b> key:value </b> pairs. A dictionary is a collection which is ordered, changeable and does not allow duplicates. </blockquote>"
      ],
      "metadata": {
        "id": "Ouch9KnbInVx"
      }
    },
    {
      "cell_type": "code",
      "source": [
        "# Below is the dictionary for conversion of the three letter code to one letter code\n",
        "amino_acids = {\"Gly\": \"G\", \"Ala\": \"A\", \"Val\": \"V\"}\n",
        "# Below is the dictionary that stores the amino acids and their molecular weights\n",
        "amino_acids1 = {\"G\": 75.07, \"A\": 89.09, \"V\": 117.151}"
      ],
      "metadata": {
        "id": "w6-B0atSI_fd"
      },
      "execution_count": null,
      "outputs": []
    },
    {
      "cell_type": "markdown",
      "source": [
        "To fetch out the item from the dictionary using its key you have to do the following:"
      ],
      "metadata": {
        "id": "Twrfp_zWJlyO"
      }
    },
    {
      "cell_type": "code",
      "source": [
        "one_letter_code_ala = amino_acids1[\"A\"]\n",
        "print(one_letter_code_ala)"
      ],
      "metadata": {
        "colab": {
          "base_uri": "https://localhost:8080/"
        },
        "id": "gFaePhi4KKd3",
        "outputId": "ed1f7114-834d-48e0-ad85-99e0824efe55"
      },
      "execution_count": null,
      "outputs": [
        {
          "output_type": "stream",
          "name": "stdout",
          "text": [
            "89.09\n"
          ]
        }
      ]
    },
    {
      "cell_type": "markdown",
      "source": [
        "The dictionaries **can not have two items with the same key**. If you will try to add another item that has the same key as an item that is already ptresent in dictionary, the old item gets replaced by new one."
      ],
      "metadata": {
        "id": "lyt-ZYO_gYsX"
      }
    },
    {
      "cell_type": "code",
      "source": [
        "thisdict ={\"type\":\"VHH\",\n",
        "\"Nr of cysteines\": 2}\n",
        "print(thisdict)\n",
        "# let's add a duplicate\n",
        "thisdict[\"Nr of cysteines\"] = 3\n",
        "print(thisdict)"
      ],
      "metadata": {
        "colab": {
          "base_uri": "https://localhost:8080/"
        },
        "id": "I9jdVbHcg074",
        "outputId": "e4f59f5c-04df-45e9-bd2b-a406b9eb5564"
      },
      "execution_count": null,
      "outputs": [
        {
          "output_type": "stream",
          "name": "stdout",
          "text": [
            "{'type': 'VHH', 'Nr of cysteines': 2}\n",
            "{'type': 'VHH', 'Nr of cysteines': 3}\n"
          ]
        }
      ]
    },
    {
      "cell_type": "code",
      "source": [
        "# Adding new key value pair to dictionary\n",
        "thisdict ={\"type\":\"VHH\",\n",
        "\"Nr of cysteines\": 2}\n",
        "thisdict[\"Source\"] = \"Camel\"\n",
        "print(thisdict)"
      ],
      "metadata": {
        "id": "GTE6LtthgpJo",
        "colab": {
          "base_uri": "https://localhost:8080/"
        },
        "outputId": "488da7ee-658c-4e27-9917-a473bfb1c253"
      },
      "execution_count": null,
      "outputs": [
        {
          "output_type": "stream",
          "name": "stdout",
          "text": [
            "{'type': 'VHH', 'Nr of cysteines': 2, 'Source': 'Camel'}\n"
          ]
        }
      ]
    },
    {
      "cell_type": "markdown",
      "source": [
        "The number of the key value pairs can be determined using the **len()** method."
      ],
      "metadata": {
        "id": "X1RStV78hai8"
      }
    },
    {
      "cell_type": "code",
      "source": [
        "thisdict ={\"type\":\"VHH\",\"Nr of cysteines\": 2}\n",
        "print(len(thisdict))"
      ],
      "metadata": {
        "colab": {
          "base_uri": "https://localhost:8080/"
        },
        "id": "g8Ey8_ZBhkUK",
        "outputId": "3ed5ad14-2169-4a29-fb4e-ec01f331bed0"
      },
      "execution_count": null,
      "outputs": [
        {
          "output_type": "stream",
          "name": "stdout",
          "text": [
            "2\n"
          ]
        }
      ]
    },
    {
      "cell_type": "markdown",
      "source": [
        "The dictionary itrems can be of any type and there can be differentt datatypes within the same dictionary."
      ],
      "metadata": {
        "id": "k3gn_OS7hwUm"
      }
    },
    {
      "cell_type": "code",
      "source": [
        "amino_adids_3 = {\"G\": \"Gly\", \"A\": 89.09, \"positivly_charged_AAs\": [\"Arg\", \"Lys\", \"His\"]}\n",
        "print(amino_adids_3)\n",
        "print(amino_adids_3[\"positivly_charged_AAs\"])"
      ],
      "metadata": {
        "colab": {
          "base_uri": "https://localhost:8080/"
        },
        "id": "oXIePsRaikIX",
        "outputId": "ac82a514-5348-486b-dc2e-df1d1231a376"
      },
      "execution_count": null,
      "outputs": [
        {
          "output_type": "stream",
          "name": "stdout",
          "text": [
            "{'G': 'Gly', 'A': 89.09, 'positivly_charged_AAs': ['Arg', 'Lys', 'His']}\n",
            "['Arg', 'Lys', 'His']\n"
          ]
        }
      ]
    },
    {
      "cell_type": "markdown",
      "source": [
        "There are two ways how you can create the dictionary.\n",
        "One is by using **dictionary = {}**. The second one is by using **dict()**"
      ],
      "metadata": {
        "id": "qYyZ8p9fjJju"
      }
    },
    {
      "cell_type": "code",
      "source": [
        "dictionary1 = {\"G\": 75.07, \"A\": 89.09, \"V\": 117.151}\n",
        "dictionary2 = dict(G = 75.07, A = 89.09, V = 117.151)\n",
        "print(dictionary1)\n",
        "print(dictionary2)"
      ],
      "metadata": {
        "colab": {
          "base_uri": "https://localhost:8080/"
        },
        "id": "aVT63FO5jvUe",
        "outputId": "af43407b-cf4b-439c-f242-a5b5e19ad7a9"
      },
      "execution_count": null,
      "outputs": [
        {
          "output_type": "stream",
          "name": "stdout",
          "text": [
            "{'G': 75.07, 'A': 89.09, 'V': 117.151}\n",
            "{'G': 75.07, 'A': 89.09, 'V': 117.151}\n"
          ]
        }
      ]
    },
    {
      "cell_type": "markdown",
      "source": [
        "Constructing the dictionary out of the two lists, one of which will contain the keys and another will contain values. The methos in essence is similar to one you use whern you loop through the two lists simultaneously."
      ],
      "metadata": {
        "id": "K2ADp3_TkpW4"
      }
    },
    {
      "cell_type": "code",
      "source": [
        "list1 = [\"Alpaca\", \"Llama\", \"Camel\"]\n",
        "list2 = [\"Immunization1\", \"Immunization2\", \"Not usefull\"]\n",
        "Result = dict(zip(list1, list2))\n",
        "print(Result)"
      ],
      "metadata": {
        "colab": {
          "base_uri": "https://localhost:8080/"
        },
        "id": "Ux4Dl89glrC8",
        "outputId": "e13d092a-2c66-4de6-a990-f6a46a741f09"
      },
      "execution_count": null,
      "outputs": [
        {
          "output_type": "stream",
          "name": "stdout",
          "text": [
            "{'Alpaca': 'Immunization1', 'Llama': 'Immunization2', 'Camel': 'Not usefull'}\n"
          ]
        }
      ]
    },
    {
      "cell_type": "markdown",
      "source": [
        "How to fetch the key knowing the item"
      ],
      "metadata": {
        "id": "k5AYlujefGr9"
      }
    },
    {
      "cell_type": "code",
      "source": [
        "amino_acids1 = {\"G\": 75.07, \"A\": 89.09, \"Val\": 117.151}\n",
        "for key, value in amino_acids1.items():\n",
        "  if value == 89.09:\n",
        "    print(key)"
      ],
      "metadata": {
        "colab": {
          "base_uri": "https://localhost:8080/"
        },
        "id": "4ozo04sBfLFh",
        "outputId": "26b8a0c5-19aa-442e-f9e5-5cbee34ea606"
      },
      "execution_count": null,
      "outputs": [
        {
          "output_type": "stream",
          "name": "stdout",
          "text": [
            "A\n"
          ]
        }
      ]
    },
    {
      "cell_type": "markdown",
      "source": [
        "<b> Exercise 1.</b>  Given the sequence of the amino acids. Can you print out the molecular weight of each amino acid in the sequence using dictionary and for loop?"
      ],
      "metadata": {
        "id": "HZM1H-n4LPKB"
      }
    },
    {
      "cell_type": "code",
      "source": [
        "amino_acid_weights = {\n",
        "    'A': 89.09,   # Alanine\n",
        "    'R': 174.20,  # Arginine\n",
        "    'N': 132.12,  # Asparagine\n",
        "    'D': 133.10,  # Aspartic acid\n",
        "    'C': 121.16,  # Cysteine\n",
        "    'E': 147.13,  # Glutamic acid\n",
        "    'Q': 146.15,  # Glutamine\n",
        "    'G': 75.07,   # Glycine\n",
        "    'H': 155.16,  # Histidine\n",
        "    'I': 131.17,  # Isoleucine\n",
        "    'L': 131.17,  # Leucine\n",
        "    'K': 146.19,  # Lysine\n",
        "    'M': 149.21,  # Methionine\n",
        "    'F': 165.19,  # Phenylalanine\n",
        "    'P': 115.13,  # Proline\n",
        "    'S': 105.09,  # Serine\n",
        "    'T': 119.12,  # Threonine\n",
        "    'W': 204.23,  # Tryptophan\n",
        "    'Y': 181.19,  # Tyrosine\n",
        "    'V': 117.15   # Valine\n",
        "}\n",
        "aa_sequence = \"EVQLEESGGGLVQPGGSLRLSC\""
      ],
      "metadata": {
        "id": "GhQDTbsCL-aA"
      },
      "execution_count": null,
      "outputs": []
    },
    {
      "cell_type": "code",
      "source": [
        "for amino_acid in aa_sequence:\n",
        "  #print(amino_acid)\n",
        "  print(amino_acid_weights[amino_acid])"
      ],
      "metadata": {
        "id": "kRJNdSMvMYTY",
        "colab": {
          "base_uri": "https://localhost:8080/"
        },
        "outputId": "9fab328e-2041-44f8-b6ba-8b2126196636"
      },
      "execution_count": null,
      "outputs": [
        {
          "output_type": "stream",
          "name": "stdout",
          "text": [
            "147.13\n",
            "117.15\n",
            "146.15\n",
            "131.17\n",
            "147.13\n",
            "147.13\n",
            "105.09\n",
            "75.07\n",
            "75.07\n",
            "75.07\n",
            "131.17\n",
            "117.15\n",
            "146.15\n",
            "115.13\n",
            "75.07\n",
            "75.07\n",
            "105.09\n",
            "131.17\n",
            "174.2\n",
            "131.17\n",
            "105.09\n",
            "121.16\n"
          ]
        }
      ]
    },
    {
      "cell_type": "markdown",
      "source": [
        "You may ask what is the point of printing the individual values of the weights of the amino acids. And yiu are right there is no point in it. <u> <b> We need to add them!</b> </u>"
      ],
      "metadata": {
        "id": "PfyufFwRNgXR"
      }
    },
    {
      "cell_type": "markdown",
      "source": [
        "<br> <b> REMINDER BEFORE WE GO ON THE EXERCISE: </b> </br>\n",
        "You can define the variable to store the value obtained through sum of the list values withing the variable. See the example below.\n"
      ],
      "metadata": {
        "id": "ByQ_oXveEs8J"
      }
    },
    {
      "cell_type": "code",
      "source": [
        "sumed_var = 0\n",
        "list_numbers = [1, 2, 3, 5, 7, 10]\n",
        "for numb in list_numbers:\n",
        "  sumed_var = sumed_var + numb\n",
        "  print(sumed_var)\n",
        "print(\"final version \" + str(sumed_var))"
      ],
      "metadata": {
        "colab": {
          "base_uri": "https://localhost:8080/"
        },
        "id": "I5TqgNBuHTRX",
        "outputId": "6fd830d3-1a4d-4c15-8728-8930f49316da"
      },
      "execution_count": null,
      "outputs": [
        {
          "output_type": "stream",
          "name": "stdout",
          "text": [
            "1\n",
            "3\n",
            "6\n",
            "11\n",
            "18\n",
            "28\n",
            "final version 28\n"
          ]
        }
      ]
    },
    {
      "cell_type": "code",
      "source": [
        "list_numbers = [1, 2, 3, 5, 7, 10]\n",
        "print(sum(list_numbers))"
      ],
      "metadata": {
        "colab": {
          "base_uri": "https://localhost:8080/"
        },
        "id": "lkIBm4AKCrfC",
        "outputId": "3a4afa4b-faf7-4d00-a125-f3711e3d1457"
      },
      "execution_count": null,
      "outputs": [
        {
          "output_type": "stream",
          "name": "stdout",
          "text": [
            "28\n"
          ]
        }
      ]
    },
    {
      "cell_type": "markdown",
      "source": [
        "<b> Exercise: </b> Below is the dictionary that stores the molecular weight of the amino acids. In the last session we learned loops. You are given an amino acid sequence to construct the code that involves loop and dictionary to calculate the molecular weight of the sequence. Remener, at the N-terminus of the protein there is one <u> molecule of water </u> that weights <u><b> 18.02 Da </b></u>"
      ],
      "metadata": {
        "id": "0qL6vp3imKKf"
      }
    },
    {
      "cell_type": "code",
      "source": [
        "amino_acid_weights = amino_acid_weights = {\n",
        "    'A': 71.03711,  # Alanine\n",
        "    'R': 156.10111, # Arginine\n",
        "    'N': 114.04293, # Asparagine\n",
        "    'D': 115.02694, # Aspartic acid\n",
        "    'C': 103.00919, # Cysteine\n",
        "    'E': 129.04259, # Glutamic acid\n",
        "    'Q': 128.05858, # Glutamine\n",
        "    'G': 57.02146,  # Glycine\n",
        "    'H': 137.05891, # Histidine\n",
        "    'I': 113.08406, # Isoleucine\n",
        "    'L': 113.08406, # Leucine\n",
        "    'K': 128.09496, # Lysine\n",
        "    'M': 131.04049, # Methionine\n",
        "    'F': 147.06841, # Phenylalanine\n",
        "    'P': 97.05276,  # Proline\n",
        "    'S': 87.03203,  # Serine\n",
        "    'T': 101.04768, # Threonine\n",
        "    'W': 186.07931, # Tryptophan\n",
        "    'Y': 163.06333, # Tyrosine\n",
        "    'V': 99.06841   # Valine\n",
        "}\n",
        "sequence = \"DVQLQASGGGLVQAGGSLRLSCAASARTFYTMGWFRQVLGKDREFVGAIRWGVYATTRYADSVKGRFSISRDDATNTVALQMNSLKPEDTAVYYCAARAGPLGFELSATSSAEYDYWGQGTQVTVSS\""
      ],
      "metadata": {
        "id": "YvzucLqum8LW"
      },
      "execution_count": null,
      "outputs": []
    },
    {
      "cell_type": "code",
      "source": [],
      "metadata": {
        "id": "4gh3J9Ham9mO"
      },
      "execution_count": null,
      "outputs": []
    }
  ]
}