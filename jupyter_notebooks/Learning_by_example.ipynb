{
 "cells": [
  {
   "cell_type": "markdown",
   "id": "7f9e2a6c",
   "metadata": {},
   "source": [
    "<h1> Pandas and matplotlib learning by example </h1>"
   ]
  },
  {
   "cell_type": "markdown",
   "id": "1c42dd87",
   "metadata": {},
   "source": [
    "<b> Exercise: </b> Download the metabric dataset and load it into this document."
   ]
  },
  {
   "cell_type": "code",
   "execution_count": null,
   "id": "74c76d75",
   "metadata": {},
   "outputs": [],
   "source": []
  },
  {
   "cell_type": "markdown",
   "id": "ed65c65d",
   "metadata": {},
   "source": [
    "<b>Exercise 2:</b> Check if the column canver type conatins other entries except \"Breast Cancer\"."
   ]
  },
  {
   "cell_type": "code",
   "execution_count": null,
   "id": "40ef0b3e",
   "metadata": {},
   "outputs": [],
   "source": []
  },
  {
   "cell_type": "markdown",
   "id": "719612b9",
   "metadata": {},
   "source": [
    "<b> Exercise 3: </b> What is the minimum age at diagnosis? Check column age_at_diagnosis."
   ]
  },
  {
   "cell_type": "code",
   "execution_count": null,
   "id": "f4fbd424",
   "metadata": {},
   "outputs": [],
   "source": []
  },
  {
   "cell_type": "markdown",
   "id": "a629cdf6",
   "metadata": {},
   "source": [
    "<b> Exercise :</b> Construct the bar graph that will show how many entries of each category is in column <b> cancer_type_detailed </b> including the category corresponding to <b>NA</b>.\n",
    "<p><b>Hint:</b> <ol> <li> Fill the empty cells in this column with NA. </li>\n",
    "    <li> Find the unique values that exist in this column. </li>\n",
    "    <li> Calculate how many entries belong to each catoegory </li>\n",
    "    <li> Plot the bar chart </li></ol></p>"
   ]
  },
  {
   "cell_type": "code",
   "execution_count": null,
   "id": "46f5f059",
   "metadata": {},
   "outputs": [],
   "source": []
  },
  {
   "cell_type": "code",
   "execution_count": null,
   "id": "7e3df72b",
   "metadata": {},
   "outputs": [],
   "source": []
  }
 ],
 "metadata": {
  "kernelspec": {
   "display_name": "Python 3 (ipykernel)",
   "language": "python",
   "name": "python3"
  },
  "language_info": {
   "codemirror_mode": {
    "name": "ipython",
    "version": 3
   },
   "file_extension": ".py",
   "mimetype": "text/x-python",
   "name": "python",
   "nbconvert_exporter": "python",
   "pygments_lexer": "ipython3",
   "version": "3.10.9"
  }
 },
 "nbformat": 4,
 "nbformat_minor": 5
}
