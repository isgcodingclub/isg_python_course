{
 "cells": [
  {
   "cell_type": "markdown",
   "id": "5a2c5342-a8d9-4f15-8bbf-ebe4120a66ab",
   "metadata": {},
   "source": [
    "<h1> Matplotlib homework</h1>\n",
    "<p> First we are going to use the <b> metabric dataset</b> that can be downlaoded from <a href = \"https://github.com/isgcodingclub/isg_python_course/blob/457c7da3b394a1afaafe9d1963f9bc4637630b2b/assets/METABRIC_RNA_Mutation.csv\"> HERE</a>. So follow that link and then click on the arrow to download the raw file.</p>\n",
    "<p><b>Exercise 1:</b> Fetch out the following data of from the metabric dataset, construct the smaller dataframe that is going to contain:\n",
    "    <ul><li>patient_id</li>\n",
    "    <li>age_at_diagnosis</li><li>overall_survival_months</li></ul></p>\n",
    "<p><b>Exercise 2:</b> Plot the overall survival months against the patient age at diagnosis as a <b>scatter plot</b></p>"
   ]
  },
  {
   "cell_type": "code",
   "execution_count": 1,
   "id": "2c9dca04-4da1-42d4-a8a8-e91596b41c0d",
   "metadata": {},
   "outputs": [],
   "source": [
    "# Put here the code to produce smaller dataframe"
   ]
  },
  {
   "cell_type": "code",
   "execution_count": 2,
   "id": "3916f17e-fc8f-4a0f-a470-c50dbc749ed2",
   "metadata": {},
   "outputs": [],
   "source": [
    "# produce and display the scatter graph here"
   ]
  },
  {
   "cell_type": "markdown",
   "id": "249f6285-351f-4171-a81f-1589cbf15a53",
   "metadata": {},
   "source": [
    "<p><b> Exercise 3:</b> You are given two lists one of which contains the time and the second the OD. Please plot the line graph with title, axis labels and legend. Be creative. </p>"
   ]
  },
  {
   "cell_type": "code",
   "execution_count": 3,
   "id": "120fd2e2-b07b-46a0-a7e4-d3483458cf48",
   "metadata": {},
   "outputs": [],
   "source": [
    "# complete the exercise here. "
   ]
  },
  {
   "cell_type": "code",
   "execution_count": null,
   "id": "fca7bf6f-4939-44e8-9f6c-31b878ef31f4",
   "metadata": {},
   "outputs": [],
   "source": []
  }
 ],
 "metadata": {
  "kernelspec": {
   "display_name": "Python 3 (ipykernel)",
   "language": "python",
   "name": "python3"
  },
  "language_info": {
   "codemirror_mode": {
    "name": "ipython",
    "version": 3
   },
   "file_extension": ".py",
   "mimetype": "text/x-python",
   "name": "python",
   "nbconvert_exporter": "python",
   "pygments_lexer": "ipython3",
   "version": "3.11.9"
  }
 },
 "nbformat": 4,
 "nbformat_minor": 5
}
