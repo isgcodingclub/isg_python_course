{
  "nbformat": 4,
  "nbformat_minor": 0,
  "metadata": {
    "colab": {
      "provenance": []
    },
    "kernelspec": {
      "name": "python3",
      "display_name": "Python 3"
    },
    "language_info": {
      "name": "python"
    }
  },
  "cells": [
    {
      "cell_type": "markdown",
      "source": [
        "\n",
        "### Lesson 4 ###\n",
        "<ul><li> input statement </li> <li> if statements </li> </ul>\n",
        "\n",
        "\n"
      ],
      "metadata": {
        "id": "M5AEeVcqNJWt"
      }
    },
    {
      "cell_type": "markdown",
      "source": [
        "**Input Statement**"
      ],
      "metadata": {
        "id": "yOeua3_ZbYRE"
      }
    },
    {
      "cell_type": "markdown",
      "source": [
        "Input Statement - **The input()** function allows user input into the code. The resulting input can be stored in a **variable**."
      ],
      "metadata": {
        "id": "2oSo4ghBbeKE"
      }
    },
    {
      "cell_type": "code",
      "source": [
        "print('Enter the codon for methionine')\n",
        "codon = input()\n",
        "print('The codon you entered was ' + '-'+ codon + '-')"
      ],
      "metadata": {
        "colab": {
          "base_uri": "https://localhost:8080/"
        },
        "id": "B1rsV0KQbc2b",
        "outputId": "bc0e15c0-b2f9-447d-e5ea-98f1b07aed53"
      },
      "execution_count": null,
      "outputs": [
        {
          "output_type": "stream",
          "name": "stdout",
          "text": [
            "Enter the codon for methionine\n",
            "ATG\n",
            "The codon you entered was -ATG-\n"
          ]
        }
      ]
    },
    {
      "cell_type": "markdown",
      "source": [
        "Input statements can also a prompt text if text is added within the **()**"
      ],
      "metadata": {
        "id": "bz0qcSYpgdtG"
      }
    },
    {
      "cell_type": "code",
      "source": [
        "print('Enter the codon for methionine')\n",
        "codon = input('Enter the codon here: ')\n",
        "print('The codon you entered was ' + '-'+ codon + '-')"
      ],
      "metadata": {
        "colab": {
          "base_uri": "https://localhost:8080/"
        },
        "id": "-kqW_kCzguMj",
        "outputId": "41ed35af-d5aa-4551-91f5-6243348ba89e"
      },
      "execution_count": null,
      "outputs": [
        {
          "output_type": "stream",
          "name": "stdout",
          "text": [
            "Enter the codon for methionine\n",
            "Enter the codon here: ATG\n",
            "The codon you entered was -ATG-\n"
          ]
        }
      ]
    },
    {
      "cell_type": "markdown",
      "source": [
        "**input()** statement entries (and subsequently its variable) are **ALWAYS** treated as strings by default !"
      ],
      "metadata": {
        "id": "ObdBxMuYdodI"
      }
    },
    {
      "cell_type": "code",
      "source": [
        "print('Enter the codon for methionine')\n",
        "codon = input()\n",
        "print(type(codon))"
      ],
      "metadata": {
        "colab": {
          "base_uri": "https://localhost:8080/"
        },
        "id": "Ao0CW2njd_2L",
        "outputId": "7fb5d483-0849-41d4-d893-48281e0e99f6"
      },
      "execution_count": null,
      "outputs": [
        {
          "output_type": "stream",
          "name": "stdout",
          "text": [
            "Enter the codon for methionine\n",
            "ATG\n",
            "<class 'str'>\n"
          ]
        }
      ]
    },
    {
      "cell_type": "code",
      "source": [
        "print('Enter a number of sequences')\n",
        "codon = input()\n",
        "#Number = int(codon)\n",
        "print(codon + 34)\n",
        "#print(Number + 34)"
      ],
      "metadata": {
        "colab": {
          "base_uri": "https://localhost:8080/"
        },
        "id": "VyBrCgqgeM95",
        "outputId": "6daedfdb-05e7-4f18-84db-eca00bc9e578"
      },
      "execution_count": null,
      "outputs": [
        {
          "output_type": "stream",
          "name": "stdout",
          "text": [
            "Enter a  number of sequences\n",
            "5\n",
            "39\n"
          ]
        }
      ]
    },
    {
      "cell_type": "markdown",
      "source": [
        "### If statements ###\n",
        "The simplest <b> if statement </b> will look like that:\n",
        "```\n",
        "if condition:\n",
        "    do something\n",
        "```"
      ],
      "metadata": {
        "id": "ofKXYD4trDlG"
      }
    },
    {
      "cell_type": "markdown",
      "source": [
        "Input statements can also be used by entering the text inside the ()"
      ],
      "metadata": {
        "id": "v13ll2jGgKVb"
      }
    },
    {
      "cell_type": "code",
      "source": [
        "a = 6\n",
        "if a%2 == 0:\n",
        "    print(\"Even number\")"
      ],
      "metadata": {
        "colab": {
          "base_uri": "https://localhost:8080/"
        },
        "id": "6VYiuqC2rNIl",
        "outputId": "d173b3db-b690-4222-cdfa-4439237080ad"
      },
      "execution_count": null,
      "outputs": [
        {
          "output_type": "stream",
          "name": "stdout",
          "text": [
            "Even number\n"
          ]
        }
      ]
    },
    {
      "cell_type": "markdown",
      "source": [
        "The more complicated <b> if statement </b> would include alternative condition and using <b> elif </b>:\n",
        "```\n",
        "if condition:\n",
        "    do something\n",
        "elif another_condition:\n",
        "    do_something_else\n",
        "```"
      ],
      "metadata": {
        "id": "0ukHLjxzr1l6"
      }
    },
    {
      "cell_type": "code",
      "source": [
        "CDR1 = \"AASARTFYTMG\"\n",
        "\n",
        "if len(CDR1) == 11:\n",
        "    print(\"correct CDR1 length\")\n",
        "elif len(CDR1) != 11:\n",
        "    print(\"incorrect CDR1 length\")\n",
        "# != means not equal == means equal when searching for specific thing."
      ],
      "metadata": {
        "colab": {
          "base_uri": "https://localhost:8080/"
        },
        "id": "V12bfFX2sYsE",
        "outputId": "ad7b194a-4423-47a8-853d-d35ac8ede19a"
      },
      "execution_count": null,
      "outputs": [
        {
          "output_type": "stream",
          "name": "stdout",
          "text": [
            "correct CDR1 length\n"
          ]
        }
      ]
    },
    {
      "cell_type": "markdown",
      "source": [
        "Finally, you can add the <b> else </b> statement to capture all the situations when all of your conditions are not valid\n",
        "\n",
        "```\n",
        "if condition1:\n",
        "    do something\n",
        "elif condition2:\n",
        "    do_something1\n",
        "elif condition3:\n",
        "    do_something2\n",
        "else:\n",
        "    do something else\n",
        "```"
      ],
      "metadata": {
        "id": "jd27OB9MsgDD"
      }
    },
    {
      "cell_type": "code",
      "source": [
        "CDR1 = \"AASARTFYTMG\"\n",
        "if len(CDR1) == 11:\n",
        "    print(\"CDR1 length is 11\")\n",
        "elif len(CDR1) == 12:\n",
        "    print(\"CDR1 length is 12\")\n",
        "else:\n",
        "    print(\"CDR1 length is not 11 or 12\")"
      ],
      "metadata": {
        "colab": {
          "base_uri": "https://localhost:8080/"
        },
        "id": "cIH_tbixsyes",
        "outputId": "6f1d57ec-8dd8-422c-f48b-a08df231b098"
      },
      "execution_count": null,
      "outputs": [
        {
          "output_type": "stream",
          "name": "stdout",
          "text": [
            "CDR1 length is 11\n"
          ]
        }
      ]
    },
    {
      "cell_type": "markdown",
      "source": [
        "Ariphmetic operators usefull in <b> if statements </b> are listed below: <ul> <li> == equal </li> <li> != not equal </li>\n",
        "    <li> > greater than </li> <li> < Less than </li> <li> >= Greater or equal</li> <li> <= Less or equal </li>"
      ],
      "metadata": {
        "id": "WuTboV8fs4pY"
      }
    },
    {
      "cell_type": "markdown",
      "source": [
        "<code>and</code> and <code>or</code> operators in the <b> if statements </b>"
      ],
      "metadata": {
        "id": "VyZtfjp4teyH"
      }
    },
    {
      "cell_type": "code",
      "source": [
        "CDR1 = \"AASARTCYTMG\"\n",
        "if len(CDR1) < 11 or CDR1.find(\"C\") != -1:\n",
        "    print(\"Needs to be discarded\")\n",
        "else:\n",
        "    print(\"Good CDR\")"
      ],
      "metadata": {
        "colab": {
          "base_uri": "https://localhost:8080/"
        },
        "id": "jffgRZ-_t0PA",
        "outputId": "c171ae54-431b-4823-df65-0ec1acb20ed4"
      },
      "execution_count": null,
      "outputs": [
        {
          "output_type": "stream",
          "name": "stdout",
          "text": [
            "Needs to be discarded\n"
          ]
        }
      ]
    },
    {
      "cell_type": "code",
      "source": [
        "CDR1 = \"AASARTCYTMG\"\n",
        "if len(CDR1) < 11 and CDR1.find(\"C\") != -1:\n",
        "    print(\"Needs to be discarded\")\n",
        "else:\n",
        "    print(\"Good CDR\")"
      ],
      "metadata": {
        "colab": {
          "base_uri": "https://localhost:8080/"
        },
        "id": "z5wRf_j4uIvp",
        "outputId": "57ab0218-0f75-4dd5-f173-ba52adc21417"
      },
      "execution_count": null,
      "outputs": [
        {
          "output_type": "stream",
          "name": "stdout",
          "text": [
            "Good CDR\n"
          ]
        }
      ]
    },
    {
      "cell_type": "markdown",
      "source": [
        "<code>not</code> operators in the <b> if statements </b>\n",
        "\n",
        "*   List item\n",
        "*   List item\n",
        "\n",
        "\n",
        "you can use <code> if not </code> when defining the condition\n"
      ],
      "metadata": {
        "id": "8tomknH8ucOM"
      }
    },
    {
      "cell_type": "code",
      "source": [
        "CDR1 = \"AASARTAYTMG\"\n",
        "if not len(CDR1) < 11:\n",
        "    print(\"CDR is longer then 11\")"
      ],
      "metadata": {
        "colab": {
          "base_uri": "https://localhost:8080/"
        },
        "id": "zo8BxOzKu0b-",
        "outputId": "003df1ef-3783-439a-bb25-150a013497d1"
      },
      "execution_count": null,
      "outputs": [
        {
          "output_type": "stream",
          "name": "stdout",
          "text": [
            "CDR is longer then 11\n"
          ]
        }
      ]
    },
    {
      "cell_type": "markdown",
      "source": [
        "<b> The short hand if statement </b>\n",
        "\n",
        "```\n",
        "do something if condition else do something_else\n",
        "```"
      ],
      "metadata": {
        "id": "8s77qcmXJhkR"
      }
    },
    {
      "cell_type": "code",
      "execution_count": null,
      "metadata": {
        "colab": {
          "base_uri": "https://localhost:8080/"
        },
        "id": "gA_qwWEsNIwR",
        "outputId": "ca8d898b-56ef-4f92-bae9-69bb289c152a"
      },
      "outputs": [
        {
          "output_type": "stream",
          "name": "stdout",
          "text": [
            "A\n"
          ]
        }
      ],
      "source": [
        "# example of the short hand if\n",
        "a = 2\n",
        "b = 1\n",
        "print(\"A\") if a > b else print(\"B\")"
      ]
    },
    {
      "cell_type": "markdown",
      "source": [
        "**Exercise 1** - Use your knowldge on **input()** and **if** statements & **operators** to write a scipt that:\n",
        "\n",
        "1. Define a variable with a password\n",
        "2. A block of code that:\n",
        "  - Asks the user to enter a password\n",
        "  - Stores the password\n",
        "  - Using the stored password, checks the input entry using **if**, **elif** and **else**\n",
        "  - If the password is **correct**, then display the following message:\n",
        "     '**Password correct, welcome** !'\n",
        "  - If the password is **wrong**, then display the following message:  '**Incorrect Password, try again !**'  "
      ],
      "metadata": {
        "id": "EokiSXHZk5ZY"
      }
    },
    {
      "cell_type": "code",
      "source": [
        "password = \"Isogenica2024\"\n",
        "pass_value = input(\"Enter your password \")\n",
        "if pass_value == password:\n",
        "  print(\"Password correct, welcome!\")\n",
        "elif pass_value != password:\n",
        "  print(\"Incorrect Password, try again !\")"
      ],
      "metadata": {
        "id": "t0GmT_jgmuMy",
        "colab": {
          "base_uri": "https://localhost:8080/"
        },
        "outputId": "b1fe4fe0-7a37-42df-de1f-4a700f5a67dc"
      },
      "execution_count": null,
      "outputs": [
        {
          "output_type": "stream",
          "name": "stdout",
          "text": [
            "Enter your password fgji\n",
            "Incorrect Password, try again !\n"
          ]
        }
      ]
    },
    {
      "cell_type": "markdown",
      "source": [
        "<b> pass, continue, break and exit statements. </b> <br> How to do nothing in pyton.\n",
        "\n",
        "\n",
        "<p><b>1. Pass </b> statement or how to do nothing in python </p>"
      ],
      "metadata": {
        "id": "7_h2LUDGu7-w"
      }
    },
    {
      "cell_type": "code",
      "source": [
        "CDR1 = \"AASARTCYTMG\"\n",
        "for position, letter in enumerate(CDR1):\n",
        "  if letter!= \"C\":\n",
        "    pass\n",
        "  elif letter == \"C\":\n",
        "    print(\"There is a cysteine at \"+ str(position+1))"
      ],
      "metadata": {
        "id": "BIeRX7UEub9I",
        "colab": {
          "base_uri": "https://localhost:8080/"
        },
        "outputId": "798bf8a5-30de-40c1-dc6f-01045e3ec511"
      },
      "execution_count": null,
      "outputs": [
        {
          "output_type": "stream",
          "name": "stdout",
          "text": [
            "scanned the position 1\n",
            "scanned the position 2\n",
            "scanned the position 3\n",
            "scanned the position 4\n",
            "scanned the position 5\n",
            "scanned the position 6\n",
            "There is a cysteine at 7\n",
            "scanned the position 8\n",
            "scanned the position 9\n",
            "scanned the position 10\n",
            "scanned the position 11\n"
          ]
        }
      ]
    },
    {
      "cell_type": "markdown",
      "source": [
        "<b> Continue </b> statement switches to the next iteration."
      ],
      "metadata": {
        "id": "8jsME-U2wH3e"
      }
    },
    {
      "cell_type": "code",
      "source": [
        "list_of_lentgths = [1, 3, 5, 0, 13, 14]\n",
        "for i in list_of_lentgths:\n",
        "  if i == 0:\n",
        "    continue\n",
        "  print(i)"
      ],
      "metadata": {
        "colab": {
          "base_uri": "https://localhost:8080/"
        },
        "id": "qjNVfaKYbgdw",
        "outputId": "8303b24d-5a42-498d-96ba-cd59c930eceb"
      },
      "execution_count": null,
      "outputs": [
        {
          "output_type": "stream",
          "name": "stdout",
          "text": [
            "1\n",
            "3\n",
            "5\n",
            "13\n",
            "14\n"
          ]
        }
      ]
    },
    {
      "cell_type": "markdown",
      "source": [
        "<b> continue </b> forces the loop to start at the next iteration, whereas <b> pass</b> means, “there is no code to execute here,” and it will continue through the remainder of the loop body. <br> In the example below it still printed the zero </br>"
      ],
      "metadata": {
        "id": "iRAi_a5lBERI"
      }
    },
    {
      "cell_type": "code",
      "source": [
        "list_of_lentgths = [1, 3, 5, 0, 13, 14]\n",
        "for i in list_of_lentgths:\n",
        "  if i == 0:\n",
        "    pass\n",
        "  print(i)"
      ],
      "metadata": {
        "colab": {
          "base_uri": "https://localhost:8080/"
        },
        "id": "GaHkxxG1B8Z6",
        "outputId": "54141058-9fd5-4345-cb39-a852a45a72cc"
      },
      "execution_count": null,
      "outputs": [
        {
          "output_type": "stream",
          "name": "stdout",
          "text": [
            "1\n",
            "3\n",
            "5\n",
            "0\n",
            "13\n",
            "14\n"
          ]
        }
      ]
    },
    {
      "cell_type": "markdown",
      "source": [
        "<b> Break </b> statement breaks avay from the loop and winishes the loop when it encounters specific condition."
      ],
      "metadata": {
        "id": "Esh929VaCYeL"
      }
    },
    {
      "cell_type": "code",
      "source": [
        "CDR1 = \"AASARTCYTMG\"\n",
        "for position, letter in enumerate(CDR1):\n",
        "  print(letter)\n",
        "  if letter== \"C\":\n",
        "    break\n",
        "print(\"Loop went up to C\")"
      ],
      "metadata": {
        "colab": {
          "base_uri": "https://localhost:8080/"
        },
        "id": "lraaTh-OCXni",
        "outputId": "02c59e04-ac33-4a95-9e52-631f809712d0"
      },
      "execution_count": null,
      "outputs": [
        {
          "output_type": "stream",
          "name": "stdout",
          "text": [
            "A\n",
            "A\n",
            "S\n",
            "A\n",
            "R\n",
            "T\n",
            "C\n",
            "Loop went up to C\n"
          ]
        }
      ]
    },
    {
      "cell_type": "markdown",
      "source": [
        "**Exit** statement not only breaks from the loop but also finishes all the code and closes the entire script. <b> This is not what is happening in this compiler. </b>"
      ],
      "metadata": {
        "id": "qJNoMHYxD1Hr"
      }
    },
    {
      "cell_type": "code",
      "source": [
        "CDR1 = \"AASARTCYTMG\"\n",
        "for position, letter in enumerate(CDR1):\n",
        "  print(letter)\n",
        "  if letter == \"C\":\n",
        "    exit()\n",
        "print(\"Loop went up to C\")"
      ],
      "metadata": {
        "colab": {
          "base_uri": "https://localhost:8080/"
        },
        "id": "mYooYlrhD0mi",
        "outputId": "b84d944f-29ff-41a2-a997-b663d64bdae4"
      },
      "execution_count": null,
      "outputs": [
        {
          "output_type": "stream",
          "name": "stdout",
          "text": [
            "A\n",
            "A\n",
            "S\n",
            "A\n",
            "R\n",
            "T\n",
            "C\n",
            "Y\n",
            "T\n",
            "M\n",
            "G\n",
            "Loop went up to C\n"
          ]
        }
      ]
    },
    {
      "cell_type": "code",
      "source": [],
      "metadata": {
        "id": "JR3udqOPCO-9"
      },
      "execution_count": null,
      "outputs": []
    },
    {
      "cell_type": "markdown",
      "source": [
        "<b> range method and while loop </b>\n",
        "1. <b> range method </b>\n",
        "Range is used to create the sequence of numbers that can be used in the loop.\n",
        "<br> syntax: </br>\n",
        "```\n",
        "for i in range(start, stop, step):\n",
        "    do something\n",
        "```\n"
      ],
      "metadata": {
        "id": "6IfdEjW2vnWo"
      }
    },
    {
      "cell_type": "code",
      "source": [
        "a = range(0,6,2) # first defining the range object\n",
        "for i in a: # looping threough it.\n",
        "  print(i)"
      ],
      "metadata": {
        "colab": {
          "base_uri": "https://localhost:8080/"
        },
        "id": "2D7efyGJNAIt",
        "outputId": "4d0430f0-9c06-44c0-b1d7-b0c163277280"
      },
      "execution_count": null,
      "outputs": [
        {
          "output_type": "stream",
          "name": "stdout",
          "text": [
            "0\n",
            "2\n",
            "4\n"
          ]
        }
      ]
    },
    {
      "cell_type": "markdown",
      "source": [
        "Step parameter is optional and default is 1. So if you do not specify it the range is going to contain consequitive numbers."
      ],
      "metadata": {
        "id": "8CC1cZUpOl1I"
      }
    },
    {
      "cell_type": "code",
      "source": [
        "for i in range(0, 9):\n",
        "  print(i)"
      ],
      "metadata": {
        "colab": {
          "base_uri": "https://localhost:8080/"
        },
        "id": "dDFzb-SdOzii",
        "outputId": "cd56c22c-c96c-4246-b960-0698cfe5f3de"
      },
      "execution_count": null,
      "outputs": [
        {
          "output_type": "stream",
          "name": "stdout",
          "text": [
            "0\n",
            "1\n",
            "2\n",
            "3\n",
            "4\n",
            "5\n",
            "6\n",
            "7\n",
            "8\n"
          ]
        }
      ]
    },
    {
      "cell_type": "markdown",
      "source": [
        "If you try to print out the range object it is not going to give you a sequence."
      ],
      "metadata": {
        "id": "S3BZ92tzNplX"
      }
    },
    {
      "cell_type": "code",
      "source": [
        "a = range(0,6,2)\n",
        "print(a)"
      ],
      "metadata": {
        "colab": {
          "base_uri": "https://localhost:8080/"
        },
        "id": "JRJvWEiSC6Px",
        "outputId": "a048b82e-c10a-4dc8-a913-9a9670727b69"
      },
      "execution_count": null,
      "outputs": [
        {
          "output_type": "stream",
          "name": "stdout",
          "text": [
            "range(0, 6, 2)\n"
          ]
        }
      ]
    },
    {
      "cell_type": "code",
      "source": [
        "a = range(0,6,2)\n",
        "print(a)\n",
        "print(type(a))\n",
        "# to perint the range object as a sequnce convert it to list\n",
        "a = list(range(0,6,2))\n",
        "print(a)"
      ],
      "metadata": {
        "colab": {
          "base_uri": "https://localhost:8080/"
        },
        "id": "42qoAWZcNrm1",
        "outputId": "9deaf260-7e9c-41ca-cdc7-5ee3950406be"
      },
      "execution_count": null,
      "outputs": [
        {
          "output_type": "stream",
          "name": "stdout",
          "text": [
            "range(0, 6, 2)\n",
            "<class 'range'>\n",
            "[0, 2, 4]\n"
          ]
        }
      ]
    },
    {
      "cell_type": "markdown",
      "source": [
        "2. <b> While loop </b>\n",
        "<br> syntax: </br>\n",
        "```\n",
        "while condition:\n",
        "    do something\n",
        "```"
      ],
      "metadata": {
        "id": "Rz3aBqtXPBnQ"
      }
    },
    {
      "cell_type": "code",
      "source": [
        "a = 0\n",
        "while a < 10:\n",
        "  a = a+1\n",
        "  print(a)\n",
        "print(\"loop went up to 10\")"
      ],
      "metadata": {
        "colab": {
          "base_uri": "https://localhost:8080/"
        },
        "id": "EIUiQoR4PcPG",
        "outputId": "230b434e-724b-47a5-dee7-6c77dfae7bba"
      },
      "execution_count": null,
      "outputs": [
        {
          "output_type": "stream",
          "name": "stdout",
          "text": [
            "1\n",
            "2\n",
            "3\n",
            "4\n",
            "5\n",
            "6\n",
            "7\n",
            "8\n",
            "9\n",
            "10\n",
            "loop went up to 10\n"
          ]
        }
      ]
    }
  ]
}