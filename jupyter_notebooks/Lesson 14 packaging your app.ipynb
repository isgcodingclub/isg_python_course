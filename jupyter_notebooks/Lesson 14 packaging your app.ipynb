{
 "cells": [
  {
   "cell_type": "markdown",
   "id": "b01d0d21-b0ce-4dc7-b4ac-00d2258ca231",
   "metadata": {},
   "source": [
    "<h3> Auto -py to exe</h3>"
   ]
  },
  {
   "cell_type": "markdown",
   "id": "c0098bc5-1696-4508-b37f-8c387e3c3047",
   "metadata": {},
   "source": [
    "<p><code>auto-py-to-exe</code> is a converter that can convert your <code>.py</code> scripts to the <code>.exe</code> applications and it can also add fancy icons to your app. </p>\n",
    "<p><a href = \"https://pypi.org/project/auto-py-to-exe/\"> Link to the auto-py-to-exe documentation</a></p>\n",
    "<p><a href = \"https://github.com/isgcodingclub/isg_python_course/tree/ab68912cf00a39c5084fcf044423fdbdbce459d5/assets/icons_files\"> Link to fancy icons </a></p>\n"
   ]
  },
  {
   "cell_type": "code",
   "execution_count": 1,
   "id": "977464f7-acee-4fa6-bfe5-e30699993fbf",
   "metadata": {},
   "outputs": [
    {
     "name": "stdout",
     "output_type": "stream",
     "text": [
      "Collecting auto-py-to-exe\n",
      "  Downloading auto_py_to_exe-2.45.1-py2.py3-none-any.whl.metadata (17 kB)\n",
      "Collecting Eel!=0.18.0,>=0.11.0 (from auto-py-to-exe)\n",
      "  Downloading eel-0.18.1.tar.gz (26 kB)\n",
      "  Installing build dependencies: started\n",
      "  Installing build dependencies: finished with status 'done'\n",
      "  Getting requirements to build wheel: started\n",
      "  Getting requirements to build wheel: finished with status 'done'\n",
      "  Preparing metadata (pyproject.toml): started\n",
      "  Preparing metadata (pyproject.toml): finished with status 'done'\n",
      "Collecting pyinstaller>=5.8.0 (from auto-py-to-exe)\n",
      "  Downloading pyinstaller-6.11.1-py3-none-win_amd64.whl.metadata (8.3 kB)\n",
      "Requirement already satisfied: requests in c:\\users\\anastasija.gricenko\\jupyter_env\\lib\\site-packages (from auto-py-to-exe) (2.32.3)\n",
      "Collecting bottle (from Eel!=0.18.0,>=0.11.0->auto-py-to-exe)\n",
      "  Downloading bottle-0.13.2-py2.py3-none-any.whl.metadata (1.8 kB)\n",
      "Collecting bottle-websocket (from Eel!=0.18.0,>=0.11.0->auto-py-to-exe)\n",
      "  Using cached bottle_websocket-0.2.9-py3-none-any.whl\n",
      "Collecting future (from Eel!=0.18.0,>=0.11.0->auto-py-to-exe)\n",
      "  Using cached future-1.0.0-py3-none-any.whl.metadata (4.0 kB)\n",
      "Requirement already satisfied: pyparsing in c:\\users\\anastasija.gricenko\\jupyter_env\\lib\\site-packages (from Eel!=0.18.0,>=0.11.0->auto-py-to-exe) (3.1.4)\n",
      "Requirement already satisfied: typing_extensions in c:\\users\\anastasija.gricenko\\jupyter_env\\lib\\site-packages (from Eel!=0.18.0,>=0.11.0->auto-py-to-exe) (4.12.2)\n",
      "Requirement already satisfied: setuptools>=42.0.0 in c:\\users\\anastasija.gricenko\\jupyter_env\\lib\\site-packages (from pyinstaller>=5.8.0->auto-py-to-exe) (65.5.0)\n",
      "Collecting altgraph (from pyinstaller>=5.8.0->auto-py-to-exe)\n",
      "  Using cached altgraph-0.17.4-py2.py3-none-any.whl.metadata (7.3 kB)\n",
      "Collecting pyinstaller-hooks-contrib>=2024.9 (from pyinstaller>=5.8.0->auto-py-to-exe)\n",
      "  Downloading pyinstaller_hooks_contrib-2025.0-py3-none-any.whl.metadata (16 kB)\n",
      "Requirement already satisfied: packaging>=22.0 in c:\\users\\anastasija.gricenko\\jupyter_env\\lib\\site-packages (from pyinstaller>=5.8.0->auto-py-to-exe) (24.1)\n",
      "Collecting pefile!=2024.8.26,>=2022.5.30 (from pyinstaller>=5.8.0->auto-py-to-exe)\n",
      "  Using cached pefile-2023.2.7-py3-none-any.whl.metadata (1.4 kB)\n",
      "Collecting pywin32-ctypes>=0.2.1 (from pyinstaller>=5.8.0->auto-py-to-exe)\n",
      "  Downloading pywin32_ctypes-0.2.3-py3-none-any.whl.metadata (3.9 kB)\n",
      "Requirement already satisfied: charset-normalizer<4,>=2 in c:\\users\\anastasija.gricenko\\jupyter_env\\lib\\site-packages (from requests->auto-py-to-exe) (3.3.2)\n",
      "Requirement already satisfied: idna<4,>=2.5 in c:\\users\\anastasija.gricenko\\jupyter_env\\lib\\site-packages (from requests->auto-py-to-exe) (3.10)\n",
      "Requirement already satisfied: urllib3<3,>=1.21.1 in c:\\users\\anastasija.gricenko\\jupyter_env\\lib\\site-packages (from requests->auto-py-to-exe) (1.26.20)\n",
      "Requirement already satisfied: certifi>=2017.4.17 in c:\\users\\anastasija.gricenko\\jupyter_env\\lib\\site-packages (from requests->auto-py-to-exe) (2024.8.30)\n",
      "Collecting gevent-websocket (from bottle-websocket->Eel!=0.18.0,>=0.11.0->auto-py-to-exe)\n",
      "  Using cached gevent_websocket-0.10.1-py3-none-any.whl.metadata (5.3 kB)\n",
      "Collecting gevent (from gevent-websocket->bottle-websocket->Eel!=0.18.0,>=0.11.0->auto-py-to-exe)\n",
      "  Downloading gevent-24.11.1-cp311-cp311-win_amd64.whl.metadata (13 kB)\n",
      "Collecting zope.event (from gevent->gevent-websocket->bottle-websocket->Eel!=0.18.0,>=0.11.0->auto-py-to-exe)\n",
      "  Using cached zope.event-5.0-py3-none-any.whl.metadata (4.4 kB)\n",
      "Requirement already satisfied: zope.interface in c:\\users\\anastasija.gricenko\\jupyter_env\\lib\\site-packages (from gevent->gevent-websocket->bottle-websocket->Eel!=0.18.0,>=0.11.0->auto-py-to-exe) (7.2)\n",
      "Collecting greenlet>=3.1.1 (from gevent->gevent-websocket->bottle-websocket->Eel!=0.18.0,>=0.11.0->auto-py-to-exe)\n",
      "  Downloading greenlet-3.1.1-cp311-cp311-win_amd64.whl.metadata (3.9 kB)\n",
      "Requirement already satisfied: cffi>=1.17.1 in c:\\users\\anastasija.gricenko\\jupyter_env\\lib\\site-packages (from gevent->gevent-websocket->bottle-websocket->Eel!=0.18.0,>=0.11.0->auto-py-to-exe) (1.17.1)\n",
      "Requirement already satisfied: pycparser in c:\\users\\anastasija.gricenko\\jupyter_env\\lib\\site-packages (from cffi>=1.17.1->gevent->gevent-websocket->bottle-websocket->Eel!=0.18.0,>=0.11.0->auto-py-to-exe) (2.22)\n",
      "Downloading auto_py_to_exe-2.45.1-py2.py3-none-any.whl (192 kB)\n",
      "   ---------------------------------------- 0.0/192.3 kB ? eta -:--:--\n",
      "   ------------------------------------ --- 174.1/192.3 kB 5.3 MB/s eta 0:00:01\n",
      "   ---------------------------------------- 192.3/192.3 kB 2.3 MB/s eta 0:00:00\n",
      "Downloading pyinstaller-6.11.1-py3-none-win_amd64.whl (1.3 MB)\n",
      "   ---------------------------------------- 0.0/1.3 MB ? eta -:--:--\n",
      "   ------- -------------------------------- 0.3/1.3 MB 5.2 MB/s eta 0:00:01\n",
      "   --------------- ------------------------ 0.5/1.3 MB 5.6 MB/s eta 0:00:01\n",
      "   ---------------------------- ----------- 0.9/1.3 MB 6.6 MB/s eta 0:00:01\n",
      "   ------------------------------------ --- 1.2/1.3 MB 6.5 MB/s eta 0:00:01\n",
      "   ---------------------------------------- 1.3/1.3 MB 6.6 MB/s eta 0:00:00\n",
      "Using cached pefile-2023.2.7-py3-none-any.whl (71 kB)\n",
      "Downloading pyinstaller_hooks_contrib-2025.0-py3-none-any.whl (344 kB)\n",
      "   ---------------------------------------- 0.0/344.7 kB ? eta -:--:--\n",
      "   --------------------------------------  337.9/344.7 kB 10.6 MB/s eta 0:00:01\n",
      "   ---------------------------------------- 344.7/344.7 kB 7.1 MB/s eta 0:00:00\n",
      "Downloading pywin32_ctypes-0.2.3-py3-none-any.whl (30 kB)\n",
      "Using cached altgraph-0.17.4-py2.py3-none-any.whl (21 kB)\n",
      "Downloading bottle-0.13.2-py2.py3-none-any.whl (104 kB)\n",
      "   ---------------------------------------- 0.0/104.1 kB ? eta -:--:--\n",
      "   ---------------------------------------- 104.1/104.1 kB 6.3 MB/s eta 0:00:00\n",
      "Using cached future-1.0.0-py3-none-any.whl (491 kB)\n",
      "Using cached gevent_websocket-0.10.1-py3-none-any.whl (22 kB)\n",
      "Downloading gevent-24.11.1-cp311-cp311-win_amd64.whl (1.5 MB)\n",
      "   ---------------------------------------- 0.0/1.5 MB ? eta -:--:--\n",
      "   ------ --------------------------------- 0.2/1.5 MB 7.6 MB/s eta 0:00:01\n",
      "   ---------------- ----------------------- 0.6/1.5 MB 8.1 MB/s eta 0:00:01\n",
      "   -------------------------- ------------- 1.0/1.5 MB 7.9 MB/s eta 0:00:01\n",
      "   ----------------------------------- ---- 1.4/1.5 MB 8.7 MB/s eta 0:00:01\n",
      "   ---------------------------------------  1.5/1.5 MB 8.2 MB/s eta 0:00:01\n",
      "   ---------------------------------------- 1.5/1.5 MB 7.0 MB/s eta 0:00:00\n",
      "Downloading greenlet-3.1.1-cp311-cp311-win_amd64.whl (298 kB)\n",
      "   ---------------------------------------- 0.0/298.9 kB ? eta -:--:--\n",
      "   ---------------------------------------  297.0/298.9 kB 9.2 MB/s eta 0:00:01\n",
      "   ---------------------------------------- 298.9/298.9 kB 6.3 MB/s eta 0:00:00\n",
      "Using cached zope.event-5.0-py3-none-any.whl (6.8 kB)\n",
      "Building wheels for collected packages: Eel\n",
      "  Building wheel for Eel (pyproject.toml): started\n",
      "  Building wheel for Eel (pyproject.toml): finished with status 'done'\n",
      "  Created wheel for Eel: filename=Eel-0.18.1-py3-none-any.whl size=24100 sha256=34c4c5680656206fe3c75206250f7c23ab0ff11c95ef2faa71c59c6fd64171cf\n",
      "  Stored in directory: c:\\users\\anastasija.gricenko\\appdata\\local\\packages\\pythonsoftwarefoundation.python.3.11_qbz5n2kfra8p0\\localcache\\local\\pip\\cache\\wheels\\85\\0c\\f4\\bbc7f9b8c5de4c8582a37bab83b7f5be88f84e62ae54ebe699\n",
      "Successfully built Eel\n",
      "Installing collected packages: bottle, altgraph, zope.event, pywin32-ctypes, pyinstaller-hooks-contrib, pefile, greenlet, future, pyinstaller, gevent, gevent-websocket, bottle-websocket, Eel, auto-py-to-exe\n",
      "Successfully installed Eel-0.18.1 altgraph-0.17.4 auto-py-to-exe-2.45.1 bottle-0.13.2 bottle-websocket-0.2.9 future-1.0.0 gevent-24.11.1 gevent-websocket-0.10.1 greenlet-3.1.1 pefile-2023.2.7 pyinstaller-6.11.1 pyinstaller-hooks-contrib-2025.0 pywin32-ctypes-0.2.3 zope.event-5.0\n"
     ]
    },
    {
     "name": "stderr",
     "output_type": "stream",
     "text": [
      "\n",
      "[notice] A new release of pip is available: 24.0 -> 24.3.1\n",
      "[notice] To update, run: python.exe -m pip install --upgrade pip\n"
     ]
    }
   ],
   "source": [
    "# run this command to install auto-py to exe. \n",
    "!pip install auto-py-to-exe"
   ]
  },
  {
   "cell_type": "code",
   "execution_count": 3,
   "id": "ef37b72a-03f6-4d8f-9e96-96bac72076c6",
   "metadata": {},
   "outputs": [
    {
     "name": "stdout",
     "output_type": "stream",
     "text": [
      "The interface is being opened in a new Chrome window\n",
      "Please do not close this terminal while using auto-py-to-exe - the process will end when the window is closed\n"
     ]
    }
   ],
   "source": [
    "# run this command to activate the auto py to exe\n",
    "!python -m auto_py_to_exe"
   ]
  },
  {
   "cell_type": "code",
   "execution_count": null,
   "id": "6646b4bb-2eb2-4260-9b68-466ae6df6219",
   "metadata": {},
   "outputs": [],
   "source": []
  }
 ],
 "metadata": {
  "kernelspec": {
   "display_name": "Python 3 (ipykernel)",
   "language": "python",
   "name": "python3"
  },
  "language_info": {
   "codemirror_mode": {
    "name": "ipython",
    "version": 3
   },
   "file_extension": ".py",
   "mimetype": "text/x-python",
   "name": "python",
   "nbconvert_exporter": "python",
   "pygments_lexer": "ipython3",
   "version": "3.11.9"
  }
 },
 "nbformat": 4,
 "nbformat_minor": 5
}
