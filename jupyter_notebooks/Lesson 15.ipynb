{
 "cells": [
  {
   "cell_type": "markdown",
   "id": "4a57e82b-a494-486b-8b5a-f386ee3d31be",
   "metadata": {},
   "source": [
    "<h1>Tkinter widgets</h1>"
   ]
  },
  {
   "cell_type": "markdown",
   "id": "6a78785e-3951-40b8-b482-c825144960a9",
   "metadata": {},
   "source": [
    "You are already familiar witn the tkinter button, tkinter Label and Tkinter textarea. But there are also other widgets. \n",
    "<h3> Tkinter slider</h3>"
   ]
  },
  {
   "cell_type": "code",
   "execution_count": 14,
   "id": "a5527e5b-b6c2-42c8-b0e4-6685f50a06a0",
   "metadata": {},
   "outputs": [],
   "source": [
    "from tkinter import ttk\n",
    "import tkinter as tk\n",
    "from tkinter import Scale"
   ]
  },
  {
   "cell_type": "code",
   "execution_count": 9,
   "id": "122bcdfb-063c-41ec-9bae-53f2b30f31f0",
   "metadata": {},
   "outputs": [],
   "source": [
    "root = tk.Tk()\n",
    "root.geometry('200x200') # the numbers mean width and height\n",
    "root.title(\"My perfect app\")\n",
    "w_fram = Scale(root, from_=0, to=100, orient = \"horizontal\") # slider itself\n",
    "w_fram.set(60)\n",
    "w_fram.place(x = 10, y = 100)\n",
    "root.mainloop()"
   ]
  },
  {
   "cell_type": "markdown",
   "id": "0253fd33-3ba3-4f73-8c50-398aa2fbff3e",
   "metadata": {},
   "source": [
    "To get out the information out of the slider use <code>slider_name.get()</code>. "
   ]
  },
  {
   "cell_type": "code",
   "execution_count": 13,
   "id": "15fe3f97-c19f-4354-b232-f673dea07d54",
   "metadata": {},
   "outputs": [],
   "source": [
    "import tkinter as tk\n",
    "from tkinter import Scale\n",
    "def extract():\n",
    "    result = w_fram.get()\n",
    "    lbl1.config(text = str(result))\n",
    "root = tk.Tk()\n",
    "root.geometry('200x200') # the numbers mean width and height\n",
    "root.title(\"My perfect app\")\n",
    "btn1 = tk.Button(root, text = \"Get slider value\", width = 15, command = extract)\n",
    "btn1.place(x = 30, y = 50)\n",
    "lbl1 = tk.Label(root, text = \"\")\n",
    "lbl1.place(x = 160, y = 100)\n",
    "w_fram = Scale(root, from_=0, to=100, orient = \"horizontal\") # slider itself\n",
    "w_fram.set(60)\n",
    "w_fram.place(x = 10, y = 100)\n",
    "root.mainloop()"
   ]
  },
  {
   "cell_type": "markdown",
   "id": "a8250cbf-c223-4cf1-826c-3c43a6009783",
   "metadata": {},
   "source": [
    "<h3>Tkinter combobox</h3>"
   ]
  },
  {
   "cell_type": "code",
   "execution_count": 17,
   "id": "1800e4c1-5350-4309-92cd-2410dcbd3545",
   "metadata": {},
   "outputs": [],
   "source": [
    "values_list = [\"Option 1\", \"Option 2\", \"Option 3\"]\n",
    "root = tk.Tk()\n",
    "root.geometry('200x200') \n",
    "root.title(\"My app\")\n",
    "combo = ttk.Combobox(root,\n",
    "    state=\"readonly\",\n",
    "    values = values_list)\n",
    "combo.set(values_list[0])\n",
    "combo.place(x=30, y=110)\n",
    "root.mainloop()"
   ]
  },
  {
   "cell_type": "code",
   "execution_count": null,
   "id": "21551304-ad6d-4678-8697-76eb07a01c61",
   "metadata": {},
   "outputs": [],
   "source": []
  }
 ],
 "metadata": {
  "kernelspec": {
   "display_name": "Python 3 (ipykernel)",
   "language": "python",
   "name": "python3"
  },
  "language_info": {
   "codemirror_mode": {
    "name": "ipython",
    "version": 3
   },
   "file_extension": ".py",
   "mimetype": "text/x-python",
   "name": "python",
   "nbconvert_exporter": "python",
   "pygments_lexer": "ipython3",
   "version": "3.11.9"
  }
 },
 "nbformat": 4,
 "nbformat_minor": 5
}
