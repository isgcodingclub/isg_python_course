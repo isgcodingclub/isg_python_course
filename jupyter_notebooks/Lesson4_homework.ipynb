{
  "nbformat": 4,
  "nbformat_minor": 0,
  "metadata": {
    "colab": {
      "provenance": []
    },
    "kernelspec": {
      "name": "python3",
      "display_name": "Python 3"
    },
    "language_info": {
      "name": "python"
    }
  },
  "cells": [
    {
      "cell_type": "markdown",
      "source": [
        "**Exercise 1** - Use your knowldge on **input()** and **if** statements & **operators** to write a script that:\n",
        "\n",
        "1. Define a variable with a password\n",
        "2. A block of code that:\n",
        "  - Asks the user to enter a password\n",
        "  - Stores the password\n",
        "  - Using the stored password, checks the input entry using **if**, **elif** and **else**\n",
        "  - If the password is **correct**, then display the following message:\n",
        "     '**Password correct, welcome** !'\n",
        "  - If the password is **wrong**, then display the following message:  '**Incorrect Password, try again !**'  "
      ],
      "metadata": {
        "id": "Kk8ZRbYZJHQ9"
      }
    },
    {
      "cell_type": "code",
      "execution_count": null,
      "metadata": {
        "id": "hlNZyjP8JC-d"
      },
      "outputs": [],
      "source": []
    },
    {
      "cell_type": "code",
      "source": [],
      "metadata": {
        "id": "aNPlYSu6JHFr"
      },
      "execution_count": null,
      "outputs": []
    },
    {
      "cell_type": "markdown",
      "source": [
        "<b> Exercise 2 </b> - Given the dictionaries of the days and their order numbers use input statement to make a program which:\n",
        "- Asks a user to input the day of the week (eg. wednesday).\n",
        "- prints out what day will be next day after the day that was provided by user.\n",
        "- Account for the situation when user makes a mistake and inputs day name incorrectly.\n",
        "\n",
        "<br> <b> Hint: </b> you will need to use if statements. </br>"
      ],
      "metadata": {
        "id": "LZnYo1xAJiO_"
      }
    },
    {
      "cell_type": "code",
      "source": [
        "Dictionary_days_numbers = {\n",
        "    \"Monday\": 1,\n",
        "    \"Tuesday\": 2,\n",
        "    \"Wednesday\": 3,\n",
        "    \"Thursday\": 4,\n",
        "    \"Friday\": 5,\n",
        "    \"Saturday\": 6,\n",
        "    \"Sunday\": 7\n",
        "}\n",
        "\n",
        "numbers_days = {\n",
        "    1: \"Monday\",\n",
        "    2: \"Tuesday\",\n",
        "    3: \"Wednesday\",\n",
        "    4: \"Thursday\",\n",
        "    5: \"Friday\",\n",
        "    6: \"Saturday\",\n",
        "    7: \"Sunday\"\n",
        "}\n"
      ],
      "metadata": {
        "id": "2uCnp-mPO3EC"
      },
      "execution_count": null,
      "outputs": []
    },
    {
      "cell_type": "code",
      "source": [
        "# put your code here"
      ],
      "metadata": {
        "id": "trOp2bjYRGh5"
      },
      "execution_count": null,
      "outputs": []
    }
  ]
}