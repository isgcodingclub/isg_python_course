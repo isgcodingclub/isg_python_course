{
  "cells": [
    {
      "cell_type": "markdown",
      "id": "d66a9f60",
      "metadata": {
        "id": "d66a9f60"
      },
      "source": [
        "## Python basics\n",
        "### Strings and variables ###"
      ]
    },
    {
      "cell_type": "markdown",
      "id": "9d892a73",
      "metadata": {
        "id": "9d892a73"
      },
      "source": [
        "The string is defined by the `\"\"` or `''` quotation marks. Either are fine, so you can do either `\"this is my string\"` or `'this is my string'` but you can not mix two types of quotation marks. Let's print some strings:"
      ]
    },
    {
      "cell_type": "code",
      "execution_count": null,
      "id": "5b3c10b6",
      "metadata": {
        "id": "5b3c10b6",
        "outputId": "d6d5b1f7-2e7f-45dc-9973-f923bd1b3cef",
        "colab": {
          "base_uri": "https://localhost:8080/"
        }
      },
      "outputs": [
        {
          "output_type": "stream",
          "name": "stdout",
          "text": [
            "The VHH company\n",
            "The VHH company\n"
          ]
        }
      ],
      "source": [
        "print(\"The VHH company\")\n",
        "print('The VHH company')"
      ]
    },
    {
      "cell_type": "markdown",
      "id": "661d06ec",
      "metadata": {
        "id": "661d06ec"
      },
      "source": [
        "As I already wrote above, you <u> can not mix different quotation marks</u>. The example below will not work."
      ]
    },
    {
      "cell_type": "code",
      "execution_count": null,
      "id": "699c4608",
      "metadata": {
        "id": "699c4608",
        "outputId": "68a042c7-3568-4af5-a5a7-47631ccc1c09",
        "colab": {
          "base_uri": "https://localhost:8080/",
          "height": 110
        }
      },
      "outputs": [
        {
          "output_type": "error",
          "ename": "SyntaxError",
          "evalue": "unterminated string literal (detected at line 1) (<ipython-input-2-6b8d20f25b19>, line 1)",
          "traceback": [
            "\u001b[0;36m  File \u001b[0;32m\"<ipython-input-2-6b8d20f25b19>\"\u001b[0;36m, line \u001b[0;32m1\u001b[0m\n\u001b[0;31m    print(\"The VHH company')\u001b[0m\n\u001b[0m          ^\u001b[0m\n\u001b[0;31mSyntaxError\u001b[0m\u001b[0;31m:\u001b[0m unterminated string literal (detected at line 1)\n"
          ]
        }
      ],
      "source": [
        "print(\"The VHH company')"
      ]
    },
    {
      "cell_type": "markdown",
      "id": "4f2bafdf",
      "metadata": {
        "id": "4f2bafdf"
      },
      "source": [
        "### String concatenation\n",
        "\n",
        "The string can be concatenated <u> to another string </u>, but not to number:\n"
      ]
    },
    {
      "cell_type": "code",
      "execution_count": null,
      "id": "a1a0540c",
      "metadata": {
        "id": "a1a0540c",
        "outputId": "58464fe8-22d1-4b33-93ac-80f2162a4f36",
        "colab": {
          "base_uri": "https://localhost:8080/"
        }
      },
      "outputs": [
        {
          "output_type": "stream",
          "name": "stdout",
          "text": [
            "this string\n"
          ]
        }
      ],
      "source": [
        "print(\"this\"+ \" string\")"
      ]
    },
    {
      "cell_type": "code",
      "execution_count": null,
      "id": "6667604e",
      "metadata": {
        "id": "6667604e",
        "outputId": "80ad27b4-f54c-4545-e489-622e4020f9e0",
        "colab": {
          "base_uri": "https://localhost:8080/",
          "height": 146
        }
      },
      "outputs": [
        {
          "output_type": "error",
          "ename": "TypeError",
          "evalue": "can only concatenate str (not \"int\") to str",
          "traceback": [
            "\u001b[0;31m---------------------------------------------------------------------------\u001b[0m",
            "\u001b[0;31mTypeError\u001b[0m                                 Traceback (most recent call last)",
            "\u001b[0;32m<ipython-input-4-f38795a07260>\u001b[0m in \u001b[0;36m<cell line: 1>\u001b[0;34m()\u001b[0m\n\u001b[0;32m----> 1\u001b[0;31m \u001b[0mprint\u001b[0m\u001b[0;34m(\u001b[0m\u001b[0;34m\"This string\"\u001b[0m \u001b[0;34m+\u001b[0m \u001b[0;36m42\u001b[0m\u001b[0;34m)\u001b[0m\u001b[0;34m\u001b[0m\u001b[0;34m\u001b[0m\u001b[0m\n\u001b[0m",
            "\u001b[0;31mTypeError\u001b[0m: can only concatenate str (not \"int\") to str"
          ]
        }
      ],
      "source": [
        "print(\"This string\" + 42)"
      ]
    },
    {
      "cell_type": "markdown",
      "id": "e1208f83",
      "metadata": {
        "id": "e1208f83"
      },
      "source": [
        "The way how to circumvent this is either putting number in the brackets \"42\", so that it becomes a string or use str()"
      ]
    },
    {
      "cell_type": "code",
      "execution_count": null,
      "id": "b723eedd",
      "metadata": {
        "id": "b723eedd",
        "outputId": "7e7b7e3a-9e07-4b73-b145-02dacceddf86",
        "colab": {
          "base_uri": "https://localhost:8080/"
        }
      },
      "outputs": [
        {
          "output_type": "stream",
          "name": "stdout",
          "text": [
            "This string 42\n",
            "This string 42\n"
          ]
        }
      ],
      "source": [
        "print(\"This string \" + str(42))\n",
        "print(\"This string \" + \"42\")"
      ]
    },
    {
      "cell_type": "markdown",
      "id": "f6ba5ca6",
      "metadata": {
        "id": "f6ba5ca6"
      },
      "source": [
        "You <b> can not substract </b> one string from another"
      ]
    },
    {
      "cell_type": "code",
      "execution_count": null,
      "id": "a991ddf8",
      "metadata": {
        "id": "a991ddf8",
        "outputId": "43513477-9a69-4b5b-f9bf-277fcbe2fcbf",
        "colab": {
          "base_uri": "https://localhost:8080/",
          "height": 146
        }
      },
      "outputs": [
        {
          "output_type": "error",
          "ename": "TypeError",
          "evalue": "unsupported operand type(s) for -: 'str' and 'str'",
          "traceback": [
            "\u001b[0;31m---------------------------------------------------------------------------\u001b[0m",
            "\u001b[0;31mTypeError\u001b[0m                                 Traceback (most recent call last)",
            "\u001b[0;32m<ipython-input-6-073e3d3521df>\u001b[0m in \u001b[0;36m<cell line: 1>\u001b[0;34m()\u001b[0m\n\u001b[0;32m----> 1\u001b[0;31m \u001b[0mprint\u001b[0m\u001b[0;34m(\u001b[0m\u001b[0;34m\"string\"\u001b[0m \u001b[0;34m-\u001b[0m \u001b[0;34m\"ring\"\u001b[0m\u001b[0;34m)\u001b[0m\u001b[0;34m\u001b[0m\u001b[0;34m\u001b[0m\u001b[0m\n\u001b[0m",
            "\u001b[0;31mTypeError\u001b[0m: unsupported operand type(s) for -: 'str' and 'str'"
          ]
        }
      ],
      "source": [
        "print(\"string\" - \"ring\")"
      ]
    },
    {
      "cell_type": "markdown",
      "id": "b5bdef1b",
      "metadata": {
        "id": "b5bdef1b"
      },
      "source": [
        "Likewise you ccan not multiply or divide one string by another"
      ]
    },
    {
      "cell_type": "code",
      "execution_count": null,
      "id": "2cf2ce9c",
      "metadata": {
        "id": "2cf2ce9c",
        "outputId": "29f42b17-809c-45ed-d559-4f8c4ec7e5c9"
      },
      "outputs": [
        {
          "ename": "TypeError",
          "evalue": "can't multiply sequence by non-int of type 'str'",
          "output_type": "error",
          "traceback": [
            "\u001b[1;31m---------------------------------------------------------------------------\u001b[0m",
            "\u001b[1;31mTypeError\u001b[0m                                 Traceback (most recent call last)",
            "Cell \u001b[1;32mIn[7], line 1\u001b[0m\n\u001b[1;32m----> 1\u001b[0m \u001b[38;5;28mprint\u001b[39m(\u001b[38;5;124;43m\"\u001b[39;49m\u001b[38;5;124;43mstring\u001b[39;49m\u001b[38;5;124;43m\"\u001b[39;49m\u001b[38;5;241;43m*\u001b[39;49m\u001b[38;5;124;43m\"\u001b[39;49m\u001b[38;5;124;43mring\u001b[39;49m\u001b[38;5;124;43m\"\u001b[39;49m)\n",
            "\u001b[1;31mTypeError\u001b[0m: can't multiply sequence by non-int of type 'str'"
          ]
        }
      ],
      "source": [
        "print(\"string\"*\"ring\")"
      ]
    },
    {
      "cell_type": "code",
      "execution_count": null,
      "id": "53a84847",
      "metadata": {
        "id": "53a84847",
        "outputId": "e0866e18-0eb6-4f0b-84ce-e88abba3d834"
      },
      "outputs": [
        {
          "ename": "TypeError",
          "evalue": "unsupported operand type(s) for /: 'str' and 'str'",
          "output_type": "error",
          "traceback": [
            "\u001b[1;31m---------------------------------------------------------------------------\u001b[0m",
            "\u001b[1;31mTypeError\u001b[0m                                 Traceback (most recent call last)",
            "Cell \u001b[1;32mIn[8], line 1\u001b[0m\n\u001b[1;32m----> 1\u001b[0m \u001b[38;5;28mprint\u001b[39m(\u001b[38;5;124;43m\"\u001b[39;49m\u001b[38;5;124;43mstring\u001b[39;49m\u001b[38;5;124;43m\"\u001b[39;49m\u001b[38;5;241;43m/\u001b[39;49m\u001b[38;5;124;43m\"\u001b[39;49m\u001b[38;5;124;43mring\u001b[39;49m\u001b[38;5;124;43m\"\u001b[39;49m)\n",
            "\u001b[1;31mTypeError\u001b[0m: unsupported operand type(s) for /: 'str' and 'str'"
          ]
        }
      ],
      "source": [
        "print(\"string\"/\"ring\")"
      ]
    },
    {
      "cell_type": "markdown",
      "id": "c984b6b6",
      "metadata": {
        "id": "c984b6b6"
      },
      "source": [
        "You can multiply string by number, it will just repeat the string"
      ]
    },
    {
      "cell_type": "code",
      "execution_count": null,
      "id": "2f615b2a",
      "metadata": {
        "id": "2f615b2a",
        "outputId": "dc055fb5-76bd-48ea-8b41-c484539a3f40",
        "colab": {
          "base_uri": "https://localhost:8080/"
        }
      },
      "outputs": [
        {
          "output_type": "stream",
          "name": "stdout",
          "text": [
            "stringstringstringstringstringstringstringstringstring\n"
          ]
        }
      ],
      "source": [
        "print(\"stringstringstring\"*3)"
      ]
    },
    {
      "cell_type": "markdown",
      "id": "524fba8c",
      "metadata": {
        "id": "524fba8c"
      },
      "source": [
        "<b> Multiline strings </b>\n",
        "\n",
        "To make a multiline string you can use triple double quootes\n"
      ]
    },
    {
      "cell_type": "code",
      "execution_count": null,
      "id": "10e5c02b",
      "metadata": {
        "id": "10e5c02b",
        "outputId": "5e638158-ee91-43af-ba17-67b3e78cbdd0",
        "colab": {
          "base_uri": "https://localhost:8080/",
          "height": 110
        }
      },
      "outputs": [
        {
          "output_type": "error",
          "ename": "SyntaxError",
          "evalue": "unterminated string literal (detected at line 1) (<ipython-input-12-4daa678f05a6>, line 1)",
          "traceback": [
            "\u001b[0;36m  File \u001b[0;32m\"<ipython-input-12-4daa678f05a6>\"\u001b[0;36m, line \u001b[0;32m1\u001b[0m\n\u001b[0;31m    print(\"This is very big multilne string that continues\u001b[0m\n\u001b[0m          ^\u001b[0m\n\u001b[0;31mSyntaxError\u001b[0m\u001b[0;31m:\u001b[0m unterminated string literal (detected at line 1)\n"
          ]
        }
      ],
      "source": [
        "print(\"This is very big multilne string that continues\n",
        "for three lines\")"
      ]
    },
    {
      "cell_type": "markdown",
      "id": "86e10cfb",
      "metadata": {
        "id": "86e10cfb"
      },
      "source": [
        "<b> What if I want to have a quotation within my string? </b> <br> There are two ways how this problem can be tackled: <ul> <li> use slashes </li> <li> using different types of the quotation marks within the text rather then the ones you used to define the string </li> </ul> </br>"
      ]
    },
    {
      "cell_type": "code",
      "execution_count": null,
      "id": "e6f66bd2",
      "metadata": {
        "id": "e6f66bd2",
        "outputId": "6030a27d-b87f-49a3-c519-cdca715fc6bb"
      },
      "outputs": [
        {
          "name": "stdout",
          "output_type": "stream",
          "text": [
            "The name of the company is \"Isogenica\", thats right.\n",
            "The name of the company is \"Isogenica\", thats right.\n"
          ]
        }
      ],
      "source": [
        "print(\"The name of the company is \\\"Isogenica\\\", thats right.\")\n",
        "print('The name of the company is \"Isogenica\", thats right.')"
      ]
    },
    {
      "cell_type": "markdown",
      "id": "c8854b27",
      "metadata": {
        "id": "c8854b27"
      },
      "source": [
        "### Storing the strings within the variables ###"
      ]
    },
    {
      "cell_type": "markdown",
      "id": "5a0b903c",
      "metadata": {
        "id": "5a0b903c"
      },
      "source": [
        "The <b> variable </b> is like storage box, by assigning the <b> value </b> to it you sort of putting the value into the box."
      ]
    },
    {
      "cell_type": "markdown",
      "id": "9e1fa297",
      "metadata": {
        "id": "9e1fa297"
      },
      "source": [
        "![download.jpeg](data:image/jpeg;base64,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)\n"
      ]
    },
    {
      "cell_type": "code",
      "execution_count": null,
      "id": "64a44e4b",
      "metadata": {
        "id": "64a44e4b",
        "outputId": "7b590e44-c60e-4e8a-f43b-c6dd4ef226e1",
        "colab": {
          "base_uri": "https://localhost:8080/"
        }
      },
      "outputs": [
        {
          "output_type": "stream",
          "name": "stdout",
          "text": [
            "My string is good\n"
          ]
        }
      ],
      "source": [
        "a = \"My string \"\n",
        "b = \"is good\"\n",
        "c = a+b\n",
        "print(c)"
      ]
    },
    {
      "cell_type": "markdown",
      "id": "e666669b",
      "metadata": {
        "id": "e666669b"
      },
      "source": [
        "<b> Reassigning the variable value </b>"
      ]
    },
    {
      "cell_type": "code",
      "execution_count": null,
      "id": "a47a2afd",
      "metadata": {
        "id": "a47a2afd",
        "outputId": "5ce2a462-e8bf-4e6d-e932-e48321cc7cfa",
        "colab": {
          "base_uri": "https://localhost:8080/"
        }
      },
      "outputs": [
        {
          "output_type": "stream",
          "name": "stdout",
          "text": [
            "banana\n",
            "coconut\n"
          ]
        }
      ],
      "source": [
        "a = \"banana\"\n",
        "print(a)\n",
        "a = \"coconut\"\n",
        "print(a)"
      ]
    },
    {
      "cell_type": "markdown",
      "id": "469105ef",
      "metadata": {
        "id": "469105ef"
      },
      "source": [
        "### String methods ###"
      ]
    },
    {
      "cell_type": "markdown",
      "id": "cc39d718",
      "metadata": {
        "id": "cc39d718"
      },
      "source": [
        "The `capitalize()` method makes the first word string to start with the capital letter"
      ]
    },
    {
      "cell_type": "code",
      "execution_count": null,
      "id": "d5d38d39",
      "metadata": {
        "id": "d5d38d39",
        "outputId": "c31cc4b2-6274-4ac6-bbad-029e1e92d8ee",
        "colab": {
          "base_uri": "https://localhost:8080/"
        }
      },
      "outputs": [
        {
          "output_type": "stream",
          "name": "stdout",
          "text": [
            "This is string\n"
          ]
        }
      ],
      "source": [
        "t = \"this is string\"\n",
        "print(t.capitalize())"
      ]
    },
    {
      "cell_type": "markdown",
      "id": "e2b0b5cb",
      "metadata": {
        "id": "e2b0b5cb"
      },
      "source": [
        "The `casefold()` method de-capitalizes all the letters in the string"
      ]
    },
    {
      "cell_type": "code",
      "execution_count": null,
      "id": "1590e415",
      "metadata": {
        "id": "1590e415",
        "outputId": "f58e6515-684b-4b57-a92e-c05fa6d348c4",
        "colab": {
          "base_uri": "https://localhost:8080/"
        }
      },
      "outputs": [
        {
          "output_type": "stream",
          "name": "stdout",
          "text": [
            "this string starts with capital\n"
          ]
        }
      ],
      "source": [
        "s = \"This String Starts With Capital\"\n",
        "print(s.casefold())"
      ]
    },
    {
      "cell_type": "markdown",
      "id": "f878a990",
      "metadata": {
        "id": "f878a990"
      },
      "source": [
        "The `count()` method allows to find specific value within the string to be counted."
      ]
    },
    {
      "cell_type": "code",
      "execution_count": null,
      "id": "ffc490fd",
      "metadata": {
        "id": "ffc490fd",
        "outputId": "b0ec0ee9-ed56-4605-facc-20526e2ffd83",
        "colab": {
          "base_uri": "https://localhost:8080/"
        }
      },
      "outputs": [
        {
          "output_type": "stream",
          "name": "stdout",
          "text": [
            "1\n"
          ]
        }
      ],
      "source": [
        "Josh = \"Try to find how many times the world time is repeated in this string\"\n",
        "string_counter = Josh.count(\"time\")\n",
        "#print(string_counter)\n",
        "print(Josh.count(\"how\"))"
      ]
    },
    {
      "cell_type": "markdown",
      "id": "337ea89b",
      "metadata": {
        "id": "337ea89b"
      },
      "source": [
        "> <b> First exercise: </b> Given the VHH sequence calculate how many cysteines there are in the VHH."
      ]
    },
    {
      "cell_type": "code",
      "execution_count": null,
      "id": "fe41f92c",
      "metadata": {
        "id": "fe41f92c"
      },
      "outputs": [],
      "source": [
        "sequence = \"QVQLQESGGGLVQAGDSLKLSCEASGDSIGTYVIGWFRQAPGKERIYLATIGRNLVGPSDFYTRYADSVKGRFAVSRDNAKNTVNLQMNSLKPEDTAVYYCAAKTTTWGGNDPNNWNYWGQGTQVTVSS\""
      ]
    },
    {
      "cell_type": "code",
      "execution_count": null,
      "id": "58001a91",
      "metadata": {
        "id": "58001a91",
        "colab": {
          "base_uri": "https://localhost:8080/"
        },
        "outputId": "41612e52-3eaf-486a-d35d-7d1691126e6e"
      },
      "outputs": [
        {
          "output_type": "stream",
          "name": "stdout",
          "text": [
            "2\n",
            "2\n"
          ]
        }
      ],
      "source": [
        "# print your code here\n",
        "# short solution\n",
        "print(sequence.count(\"C\"))\n",
        "# long solution\n",
        "cys_counter = sequence.count(\"C\")\n",
        "print(cys_counter)"
      ]
    },
    {
      "cell_type": "markdown",
      "id": "d354cb22",
      "metadata": {
        "id": "d354cb22"
      },
      "source": [
        "lenght `len()` method"
      ]
    },
    {
      "cell_type": "code",
      "execution_count": null,
      "id": "d8591606",
      "metadata": {
        "id": "d8591606",
        "outputId": "18c7bb73-a56e-48c9-c702-b05d83e14cb7",
        "colab": {
          "base_uri": "https://localhost:8080/"
        }
      },
      "outputs": [
        {
          "output_type": "stream",
          "name": "stdout",
          "text": [
            "6\n"
          ]
        }
      ],
      "source": [
        "my_string = \"string\"\n",
        "print(len(my_string))"
      ]
    },
    {
      "cell_type": "markdown",
      "id": "35faaa59",
      "metadata": {
        "id": "35faaa59"
      },
      "source": [
        "<b> Splitting the string </b> <br> `.split()` method"
      ]
    },
    {
      "cell_type": "code",
      "execution_count": null,
      "id": "3255ca1a",
      "metadata": {
        "id": "3255ca1a",
        "outputId": "301441e9-1b97-4d04-f4cd-671130101944",
        "colab": {
          "base_uri": "https://localhost:8080/"
        }
      },
      "outputs": [
        {
          "output_type": "stream",
          "name": "stdout",
          "text": [
            "['first sentence, sec', 'nd ', 'ne']\n",
            "['f', 'i', 'r', 's', 't', ' ', 's', 'e', 'n', 't', 'e', 'n', 'c', 'e', ',', ' ', 's', 'e', 'c', 'o', 'n', 'd', ' ', 'o', 'n', 'e']\n"
          ]
        }
      ],
      "source": [
        "string = \"first sentence, second one\"\n",
        "print(string.split(\"o\"))\n",
        "# is there the metjod to split the string into characters\n",
        "print(list(string))"
      ]
    },
    {
      "cell_type": "markdown",
      "source": [
        "**Removing or replacing certain elements from the string**\n",
        "<p> This can be done using .replace() method </p> <p> The synthax is string.replace(oldvalue, newvalue, count) </p> where count is how many occurences to be reaplaced, if nothing is specified all iccurences will be replaced."
      ],
      "metadata": {
        "id": "9jmwXLJuG7Vt"
      },
      "id": "9jmwXLJuG7Vt"
    },
    {
      "cell_type": "code",
      "source": [
        "my_string = \"VHH is a small antibody\"\n",
        "print(my_string.replace(\"VHH\", \"Nanobody\"))"
      ],
      "metadata": {
        "colab": {
          "base_uri": "https://localhost:8080/"
        },
        "id": "34e6VRC5H9tG",
        "outputId": "ce108c72-9914-4bfe-8e6c-6c7eed427d25"
      },
      "id": "34e6VRC5H9tG",
      "execution_count": null,
      "outputs": [
        {
          "output_type": "stream",
          "name": "stdout",
          "text": [
            "Nanobody is a small antibody\n"
          ]
        }
      ]
    },
    {
      "cell_type": "code",
      "source": [
        "my_string = \"VHH or VHH is a small antibody\"\n",
        "print(my_string.replace(\"VHH\", \"Nanobody\", -1))"
      ],
      "metadata": {
        "id": "d4QtJWZ1KF7Y",
        "colab": {
          "base_uri": "https://localhost:8080/"
        },
        "outputId": "6334ddbf-b26f-4aaa-95a0-fbd738a4ca18"
      },
      "id": "d4QtJWZ1KF7Y",
      "execution_count": null,
      "outputs": [
        {
          "output_type": "stream",
          "name": "stdout",
          "text": [
            "Nanobody or Nanobody is a small antibody\n"
          ]
        }
      ]
    },
    {
      "cell_type": "markdown",
      "source": [
        "Using the **.replace()** to remove the characters from the string."
      ],
      "metadata": {
        "id": "yguKU05HLN4M"
      },
      "id": "yguKU05HLN4M"
    },
    {
      "cell_type": "code",
      "source": [
        "my_awsome_string = \"VHHorizon\"\n",
        "print(my_awsome_string.replace(\"HH\", \"\"))"
      ],
      "metadata": {
        "id": "iioLOD-8LNZH",
        "outputId": "87434d80-981d-4464-d5de-c04fb8e71108",
        "colab": {
          "base_uri": "https://localhost:8080/"
        }
      },
      "id": "iioLOD-8LNZH",
      "execution_count": null,
      "outputs": [
        {
          "output_type": "stream",
          "name": "stdout",
          "text": [
            "Vorizon\n"
          ]
        }
      ]
    },
    {
      "cell_type": "markdown",
      "id": "4c832814",
      "metadata": {
        "id": "4c832814"
      },
      "source": [
        "<b> Slicing the string </b> <br>\n",
        "<b> <i> Using the string[start:stop] method </i> </b> </br>"
      ]
    },
    {
      "cell_type": "markdown",
      "id": "d6af3fe4",
      "metadata": {
        "id": "d6af3fe4"
      },
      "source": [
        "![download (1).png](data:image/png;base64,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)"
      ]
    },
    {
      "cell_type": "markdown",
      "id": "d0fc61fb",
      "metadata": {
        "id": "d0fc61fb"
      },
      "source": [
        "If you want to slice out the single digit:"
      ]
    },
    {
      "cell_type": "code",
      "execution_count": null,
      "id": "eb9f1d49",
      "metadata": {
        "id": "eb9f1d49",
        "outputId": "37c0cc53-9610-4b16-e477-9b48cb3684bc",
        "colab": {
          "base_uri": "https://localhost:8080/"
        }
      },
      "outputs": [
        {
          "output_type": "stream",
          "name": "stdout",
          "text": [
            "o\n",
            "c\n"
          ]
        }
      ],
      "source": [
        "s = \"Isogenica\"\n",
        "print(s[2])\n",
        "print(s[-2])"
      ]
    },
    {
      "cell_type": "markdown",
      "id": "54c91cd5",
      "metadata": {
        "id": "54c91cd5"
      },
      "source": [
        "The synthax for slicing part of the string is <b>string[start:end+1] </b>. So in the example below the character g with the index 3 is not included, Isogenica[0:3] will generate string iso corresponding to characters 0, 1, 2. (i, s, o)"
      ]
    },
    {
      "cell_type": "code",
      "source": [
        "string = \"Isogenica\"\n",
        "print(string[0:2+1])"
      ],
      "metadata": {
        "colab": {
          "base_uri": "https://localhost:8080/"
        },
        "id": "S8Asn-Ph5USi",
        "outputId": "2f04042a-201e-400f-867d-b67d8ac78c57"
      },
      "id": "S8Asn-Ph5USi",
      "execution_count": null,
      "outputs": [
        {
          "output_type": "stream",
          "name": "stdout",
          "text": [
            "Iso\n"
          ]
        }
      ]
    },
    {
      "cell_type": "code",
      "execution_count": null,
      "id": "61f07f34",
      "metadata": {
        "id": "61f07f34",
        "outputId": "3a219536-a29e-4dc5-ea03-84caf7a993e9",
        "colab": {
          "base_uri": "https://localhost:8080/"
        }
      },
      "outputs": [
        {
          "output_type": "stream",
          "name": "stdout",
          "text": [
            "Iso\n",
            "acinegosI\n"
          ]
        }
      ],
      "source": [
        "s = \"Isogenica\"\n",
        "print(s[0:3])"
      ]
    },
    {
      "cell_type": "markdown",
      "id": "8ddb9025",
      "metadata": {
        "id": "8ddb9025"
      },
      "source": [
        "Similraly you can use the <b> reverse numbering </b>."
      ]
    },
    {
      "cell_type": "code",
      "execution_count": null,
      "id": "c525078d",
      "metadata": {
        "id": "c525078d",
        "outputId": "578e1636-a347-42f0-f339-bee54a11f72f",
        "colab": {
          "base_uri": "https://localhost:8080/"
        }
      },
      "outputs": [
        {
          "output_type": "stream",
          "name": "stdout",
          "text": [
            "oge\n"
          ]
        }
      ],
      "source": [
        "s = \"Isogenica\"\n",
        "print(s[-7:-4])"
      ]
    },
    {
      "cell_type": "markdown",
      "id": "10d6a2d2",
      "metadata": {
        "id": "10d6a2d2"
      },
      "source": [
        "However, the slicing will only work if you will slice in the left to right direction. This does not generate anything."
      ]
    },
    {
      "cell_type": "code",
      "execution_count": null,
      "id": "9003578d",
      "metadata": {
        "id": "9003578d",
        "outputId": "30705e9d-fcc5-4236-ef98-1687e3af2ce6",
        "colab": {
          "base_uri": "https://localhost:8080/"
        }
      },
      "outputs": [
        {
          "output_type": "stream",
          "name": "stdout",
          "text": [
            "\n"
          ]
        }
      ],
      "source": [
        "s = \"Isogenica\"\n",
        "print(s[-7:-9])"
      ]
    },
    {
      "cell_type": "markdown",
      "id": "2ddd80ca",
      "metadata": {
        "id": "2ddd80ca"
      },
      "source": [
        "You can mix two types of the numbering as long as you are going in left to right direction."
      ]
    },
    {
      "cell_type": "code",
      "execution_count": null,
      "id": "4ec5ebf7",
      "metadata": {
        "id": "4ec5ebf7",
        "outputId": "49f69cb8-d2f8-41e3-d31f-0b9506dd461f",
        "colab": {
          "base_uri": "https://localhost:8080/"
        }
      },
      "outputs": [
        {
          "output_type": "stream",
          "name": "stdout",
          "text": [
            "sog\n"
          ]
        }
      ],
      "source": [
        "s = \"Isogenica\"\n",
        "print(s[-8:4])"
      ]
    },
    {
      "cell_type": "markdown",
      "id": "40980364",
      "metadata": {
        "id": "40980364"
      },
      "source": [
        "<b> Using the semicolon </b> : for slicing, usefull when you do not know exact length of the string."
      ]
    },
    {
      "cell_type": "code",
      "execution_count": null,
      "id": "89f386ba",
      "metadata": {
        "id": "89f386ba",
        "outputId": "22a0d427-5b6e-4dab-8181-555c2da0403c",
        "colab": {
          "base_uri": "https://localhost:8080/"
        }
      },
      "outputs": [
        {
          "output_type": "stream",
          "name": "stdout",
          "text": [
            "ogenic\n",
            "genica\n",
            "Is\n"
          ]
        }
      ],
      "source": [
        "s = \"Isogenica\"\n",
        "print(s[2:8])\n",
        "print(s[3:])\n",
        "print(s[:2])"
      ]
    },
    {
      "cell_type": "markdown",
      "id": "64ac090e",
      "metadata": {
        "id": "64ac090e"
      },
      "source": [
        "<b> Using [start:stop:step] method. </b> <br> To illustrate what about this method I will use 01234567 string. <br> start = 0, stop = 5. So it selects 01234 string and then selectes the diigit that is separated by \"step\" from the start of the selection. So, 0, 2, 4.\n"
      ]
    },
    {
      "cell_type": "code",
      "execution_count": null,
      "id": "ce1e5f53",
      "metadata": {
        "id": "ce1e5f53",
        "outputId": "49b28069-7608-4325-efaf-2e338ed05189",
        "colab": {
          "base_uri": "https://localhost:8080/"
        }
      },
      "outputs": [
        {
          "output_type": "stream",
          "name": "stdout",
          "text": [
            "024\n"
          ]
        }
      ],
      "source": [
        "s = \"01234567\"\n",
        "print(s[0:5:2])"
      ]
    },
    {
      "cell_type": "markdown",
      "id": "4dc6a763",
      "metadata": {
        "id": "4dc6a763"
      },
      "source": [
        "Start stop step method actually works backwards."
      ]
    },
    {
      "cell_type": "code",
      "execution_count": null,
      "id": "477e7246",
      "metadata": {
        "id": "477e7246",
        "outputId": "4cd211bf-d989-420c-f91d-04f9843dcbeb",
        "colab": {
          "base_uri": "https://localhost:8080/"
        }
      },
      "outputs": [
        {
          "output_type": "stream",
          "name": "stdout",
          "text": [
            "97531\n"
          ]
        }
      ],
      "source": [
        "string = \"0123456789\"\n",
        "print(string[-1:-10:-2])"
      ]
    },
    {
      "cell_type": "markdown",
      "id": "f629dcc8",
      "metadata": {
        "id": "f629dcc8"
      },
      "source": [
        "Cool thing you can do using slicing: invert the string."
      ]
    },
    {
      "cell_type": "code",
      "execution_count": null,
      "id": "3865cebe",
      "metadata": {
        "id": "3865cebe",
        "outputId": "3b02561d-ae51-4235-ba33-fe980a8680d5",
        "colab": {
          "base_uri": "https://localhost:8080/"
        }
      },
      "outputs": [
        {
          "output_type": "stream",
          "name": "stdout",
          "text": [
            "acinegosI\n"
          ]
        }
      ],
      "source": [
        "string = \"Isogenica\"\n",
        "string_new = string[::-1]\n",
        "print(string_new)"
      ]
    },
    {
      "cell_type": "code",
      "execution_count": null,
      "id": "1da83b5f",
      "metadata": {
        "id": "1da83b5f",
        "outputId": "23bee816-817d-4e7c-c450-e1f4f2f7e857"
      },
      "outputs": [
        {
          "name": "stdout",
          "output_type": "stream",
          "text": [
            "The numbering starts from 0, so if I print the digit with index 0 \n",
            "I get first digit of the string: 0\n"
          ]
        }
      ],
      "source": [
        "my_string = \"0123456789\"\n",
        "string_slice = my_string[0]\n",
        "print(\"\"\"The numbering starts from 0, so if I print the digit with index 0\n",
        "I get first digit of the string: \"\"\"+ string_slice)"
      ]
    },
    {
      "cell_type": "code",
      "execution_count": null,
      "id": "61a75990",
      "metadata": {
        "id": "61a75990",
        "outputId": "84ed4399-c8e4-42c4-f255-ad1dfd8a52f2"
      },
      "outputs": [
        {
          "name": "stdout",
          "output_type": "stream",
          "text": [
            "print the slice [-3:], that is last three digits: 789\n"
          ]
        }
      ],
      "source": [
        "my_string = \"0123456789\"\n",
        "string_slice1 = my_string[-3:]\n",
        "print(\"print the slice [-3:], that is last three digits: \" + string_slice1)"
      ]
    },
    {
      "cell_type": "code",
      "execution_count": null,
      "id": "2343cc10",
      "metadata": {
        "id": "2343cc10",
        "outputId": "603f4e04-f6a4-4024-b68a-8f9fa56ff217"
      },
      "outputs": [
        {
          "name": "stdout",
          "output_type": "stream",
          "text": [
            "print the slice [2:5], that is digits 234: 234\n"
          ]
        }
      ],
      "source": [
        "my_string = \"0123456789\"\n",
        "string_slice2 = my_string[2:5]\n",
        "print(\"print the slice [2:5], that is digits 234: \" + string_slice2)"
      ]
    },
    {
      "cell_type": "code",
      "execution_count": null,
      "id": "35994fda",
      "metadata": {
        "id": "35994fda",
        "outputId": "9df0dec7-4082-4a4e-f09d-19c1e71caca9"
      },
      "outputs": [
        {
          "name": "stdout",
          "output_type": "stream",
          "text": [
            "print first three digits 012\n"
          ]
        }
      ],
      "source": [
        "my_string = \"0123456789\"\n",
        "string_slice3 = my_string[:3]\n",
        "print(\"print first three digits \" + string_slice3)"
      ]
    },
    {
      "cell_type": "markdown",
      "source": [
        "finding the specific element withing the string using **.find()** and **.index()** methods. Both methods find the first instance of the element you want to find."
      ],
      "metadata": {
        "id": "-7OwY7FqxXdG"
      },
      "id": "-7OwY7FqxXdG"
    },
    {
      "cell_type": "code",
      "source": [
        "sequence = \"EVQLVESGGGLVQAGDSLRLSCTASGRTFSRAVMGWFRQAPGKEREFVAAISAAPGTAYYAFYADSVRGRFSISADSAKNTVYLQMNSLKPEDTAVYYCAADLKMQIAAYANQRSVDYWGQGTQVTVSS\"\n",
        "framework_1 = \"EVQLVESGGGLVQAGDSLRLSC\"\n",
        "framework_2 = \"WFRQAPGKEREFV\"\n",
        "framework1_start = sequence.find(framework_1)\n",
        "framework2_start = sequence.find(framework_2)\n",
        "print(framework1_start)\n",
        "print(framework2_start)"
      ],
      "metadata": {
        "colab": {
          "base_uri": "https://localhost:8080/"
        },
        "id": "-oJqykH62DXj",
        "outputId": "f5d9ccec-aa37-4896-ae67-40efd1c80a3d"
      },
      "id": "-oJqykH62DXj",
      "execution_count": null,
      "outputs": [
        {
          "output_type": "stream",
          "name": "stdout",
          "text": [
            "0\n",
            "35\n"
          ]
        }
      ]
    },
    {
      "cell_type": "markdown",
      "source": [
        "If the **.find()** method is used to find something that does not exist in the sting, it returns -1."
      ],
      "metadata": {
        "id": "1x_YaCafgu-g"
      },
      "id": "1x_YaCafgu-g"
    },
    {
      "cell_type": "code",
      "source": [
        "string = \"The string\"\n",
        "print(string.find(\"Alpaca\"))"
      ],
      "metadata": {
        "id": "SCu6rS5egubY",
        "colab": {
          "base_uri": "https://localhost:8080/"
        },
        "outputId": "dba17017-96bc-4228-f230-85da286dabc3"
      },
      "id": "SCu6rS5egubY",
      "execution_count": null,
      "outputs": [
        {
          "output_type": "stream",
          "name": "stdout",
          "text": [
            "-1\n"
          ]
        }
      ]
    },
    {
      "cell_type": "markdown",
      "source": [
        "**.index()** method works similarly to the **.find()** method, but when it is ordered to use the substring that does not exist in the string it gives an error."
      ],
      "metadata": {
        "id": "pr3TGi5cmkIR"
      },
      "id": "pr3TGi5cmkIR"
    },
    {
      "cell_type": "code",
      "source": [
        "string = \"The string\"\n",
        "print(string.index(\"ring\"))\n"
      ],
      "metadata": {
        "colab": {
          "base_uri": "https://localhost:8080/"
        },
        "id": "l61Y1D3utS5g",
        "outputId": "46eeae46-14ab-4223-d8af-0198796cad32"
      },
      "id": "l61Y1D3utS5g",
      "execution_count": null,
      "outputs": [
        {
          "output_type": "stream",
          "name": "stdout",
          "text": [
            "6\n"
          ]
        }
      ]
    },
    {
      "cell_type": "code",
      "source": [
        "print(string.index(\"Alpaca\"))"
      ],
      "metadata": {
        "colab": {
          "base_uri": "https://localhost:8080/",
          "height": 146
        },
        "id": "yRjodKRZzfm_",
        "outputId": "0982f635-7af6-4a31-d89f-5bc2f234408e"
      },
      "id": "yRjodKRZzfm_",
      "execution_count": null,
      "outputs": [
        {
          "output_type": "error",
          "ename": "ValueError",
          "evalue": "substring not found",
          "traceback": [
            "\u001b[0;31m---------------------------------------------------------------------------\u001b[0m",
            "\u001b[0;31mValueError\u001b[0m                                Traceback (most recent call last)",
            "\u001b[0;32m<ipython-input-3-6502dd538c7c>\u001b[0m in \u001b[0;36m<cell line: 1>\u001b[0;34m()\u001b[0m\n\u001b[0;32m----> 1\u001b[0;31m \u001b[0mprint\u001b[0m\u001b[0;34m(\u001b[0m\u001b[0mstring\u001b[0m\u001b[0;34m.\u001b[0m\u001b[0mindex\u001b[0m\u001b[0;34m(\u001b[0m\u001b[0;34m\"Alpaca\"\u001b[0m\u001b[0;34m)\u001b[0m\u001b[0;34m)\u001b[0m\u001b[0;34m\u001b[0m\u001b[0;34m\u001b[0m\u001b[0m\n\u001b[0m",
            "\u001b[0;31mValueError\u001b[0m: substring not found"
          ]
        }
      ]
    },
    {
      "cell_type": "markdown",
      "id": "2ceea300",
      "metadata": {
        "id": "2ceea300"
      },
      "source": [
        "### Integers and floats ###"
      ]
    },
    {
      "cell_type": "code",
      "execution_count": null,
      "id": "58b9eaf5",
      "metadata": {
        "id": "58b9eaf5"
      },
      "outputs": [],
      "source": [
        "y = 1 # integer\n",
        "r = 2 # integers"
      ]
    },
    {
      "cell_type": "markdown",
      "id": "dd03e069",
      "metadata": {
        "id": "dd03e069"
      },
      "source": [
        "All ariphmetical operations can be performed with these numbers: <ul> <li> Addition </li> <li> Substraction </li> <li> Multiplication </li> <li> Division </li> <li> Raising to power </li> </ul>"
      ]
    },
    {
      "cell_type": "code",
      "execution_count": null,
      "id": "17a1033e",
      "metadata": {
        "id": "17a1033e",
        "outputId": "ffa9c058-5ba9-46ca-b7ea-9c20bd4f807a",
        "colab": {
          "base_uri": "https://localhost:8080/"
        }
      },
      "outputs": [
        {
          "output_type": "stream",
          "name": "stdout",
          "text": [
            "3\n"
          ]
        }
      ],
      "source": [
        "y = 1\n",
        "r = 2\n",
        "a = y + r\n",
        "print(a)"
      ]
    },
    {
      "cell_type": "code",
      "execution_count": null,
      "id": "0dbb896b",
      "metadata": {
        "id": "0dbb896b",
        "outputId": "a6e0a284-5ce7-4329-9461-8139cb199aa2",
        "colab": {
          "base_uri": "https://localhost:8080/"
        }
      },
      "outputs": [
        {
          "output_type": "stream",
          "name": "stdout",
          "text": [
            "1\n"
          ]
        }
      ],
      "source": [
        "y = 1\n",
        "r = 2\n",
        "res = r-y\n",
        "print(res)"
      ]
    },
    {
      "cell_type": "code",
      "execution_count": null,
      "id": "73a8bc1e",
      "metadata": {
        "id": "73a8bc1e",
        "outputId": "eb7e029a-e511-4ddc-94f0-366e276e040e",
        "colab": {
          "base_uri": "https://localhost:8080/"
        }
      },
      "outputs": [
        {
          "output_type": "stream",
          "name": "stdout",
          "text": [
            "2\n"
          ]
        }
      ],
      "source": [
        "y = 1\n",
        "r = 2\n",
        "res2 = r*y\n",
        "print(res2)"
      ]
    },
    {
      "cell_type": "markdown",
      "source": [
        "Below is the example of the division of one integer by another"
      ],
      "metadata": {
        "id": "lS9GBJdhUdHR"
      },
      "id": "lS9GBJdhUdHR"
    },
    {
      "cell_type": "code",
      "execution_count": null,
      "id": "d7489c5c",
      "metadata": {
        "id": "d7489c5c",
        "colab": {
          "base_uri": "https://localhost:8080/"
        },
        "outputId": "acb90d32-eecb-49d8-8fc3-7df942a749cb"
      },
      "outputs": [
        {
          "output_type": "stream",
          "name": "stdout",
          "text": [
            "5.0\n"
          ]
        }
      ],
      "source": [
        "t = 2\n",
        "b = 10\n",
        "res3 = b/t\n",
        "print(res3)"
      ]
    },
    {
      "cell_type": "markdown",
      "source": [
        "Division of one intereger by another might generate float number"
      ],
      "metadata": {
        "id": "jBXO_hLmUUkr"
      },
      "id": "jBXO_hLmUUkr"
    },
    {
      "cell_type": "code",
      "source": [
        "t = 3\n",
        "b = 10\n",
        "res4 = b/t\n",
        "print(res4)\n",
        "print(round(res4, 2))"
      ],
      "metadata": {
        "colab": {
          "base_uri": "https://localhost:8080/"
        },
        "id": "vvJHVi0_UC4C",
        "outputId": "c67eb3ec-a41b-485c-eec5-88f3dfb6e3a3"
      },
      "id": "vvJHVi0_UC4C",
      "execution_count": null,
      "outputs": [
        {
          "output_type": "stream",
          "name": "stdout",
          "text": [
            "3.3333333333333335\n",
            "3.33\n"
          ]
        }
      ]
    },
    {
      "cell_type": "markdown",
      "source": [
        "Below is the example of raising to power."
      ],
      "metadata": {
        "id": "YMCWWlOMVlZJ"
      },
      "id": "YMCWWlOMVlZJ"
    },
    {
      "cell_type": "code",
      "source": [
        "numb1 = 10\n",
        "numb2 = 3\n",
        "res5 = numb1**numb2\n",
        "print(res5)"
      ],
      "metadata": {
        "colab": {
          "base_uri": "https://localhost:8080/"
        },
        "id": "mD0hiFnYVcJA",
        "outputId": "c89bfc36-8c3c-46c1-bf85-a404e6e815e6"
      },
      "id": "mD0hiFnYVcJA",
      "execution_count": null,
      "outputs": [
        {
          "output_type": "stream",
          "name": "stdout",
          "text": [
            "1000\n"
          ]
        }
      ]
    },
    {
      "cell_type": "markdown",
      "source": [
        "Floor dividion using //. this will divide first number by the secod one and rerurn the nearest whole number that is smaller then the result of the normal division wuld be"
      ],
      "metadata": {
        "id": "aLmtWvr5fZIE"
      },
      "id": "aLmtWvr5fZIE"
    },
    {
      "cell_type": "code",
      "source": [
        "numb1 = 15\n",
        "numb2 = 4\n",
        "res6 = numb1//numb2\n",
        "print(res6)"
      ],
      "metadata": {
        "colab": {
          "base_uri": "https://localhost:8080/"
        },
        "id": "aGEcy6XEMQQz",
        "outputId": "ea4fa305-07a4-4acc-fdec-ba26004a53d9"
      },
      "id": "aGEcy6XEMQQz",
      "execution_count": null,
      "outputs": [
        {
          "output_type": "stream",
          "name": "stdout",
          "text": [
            "3\n"
          ]
        }
      ]
    },
    {
      "cell_type": "markdown",
      "source": [
        "The modulus operator (%) returns the remainder of a division operation:"
      ],
      "metadata": {
        "id": "aGL6f9kWUpj9"
      },
      "id": "aGL6f9kWUpj9"
    },
    {
      "cell_type": "code",
      "source": [
        "numb1 = 8\n",
        "numb2 = 2\n",
        "res7 = numb1%numb2\n",
        "print(res7)"
      ],
      "metadata": {
        "colab": {
          "base_uri": "https://localhost:8080/"
        },
        "id": "apzOBT-8MmER",
        "outputId": "4652eaa2-8f14-4304-8459-56c7ccff263c"
      },
      "id": "apzOBT-8MmER",
      "execution_count": null,
      "outputs": [
        {
          "output_type": "stream",
          "name": "stdout",
          "text": [
            "0\n"
          ]
        }
      ]
    },
    {
      "cell_type": "code",
      "source": [
        "y = 1.2\n",
        "a = 2.0\n",
        "print(y*a)"
      ],
      "metadata": {
        "colab": {
          "base_uri": "https://localhost:8080/"
        },
        "id": "VsZVRoirUoog",
        "outputId": "95de5bfd-e4de-4d02-ae1b-a5ffd2d23c65"
      },
      "id": "VsZVRoirUoog",
      "execution_count": null,
      "outputs": [
        {
          "output_type": "stream",
          "name": "stdout",
          "text": [
            "2.4\n"
          ]
        }
      ]
    },
    {
      "cell_type": "markdown",
      "source": [
        "👉 **The weird behaviour of the float numbers**<p>"
      ],
      "metadata": {
        "id": "Vhjvz9Z-Fg8W"
      },
      "id": "Vhjvz9Z-Fg8W"
    },
    {
      "cell_type": "code",
      "source": [
        "x = 0.29*100\n",
        "print(round(x, 1))"
      ],
      "metadata": {
        "colab": {
          "base_uri": "https://localhost:8080/"
        },
        "id": "9IWLvsJLUqZy",
        "outputId": "a90372ff-f21f-49fa-8205-531624ac0159"
      },
      "id": "9IWLvsJLUqZy",
      "execution_count": null,
      "outputs": [
        {
          "output_type": "stream",
          "name": "stdout",
          "text": [
            "29.0\n"
          ]
        }
      ]
    },
    {
      "cell_type": "code",
      "source": [],
      "metadata": {
        "id": "tJeBxwmsYzYO"
      },
      "id": "tJeBxwmsYzYO",
      "execution_count": null,
      "outputs": []
    },
    {
      "cell_type": "markdown",
      "source": [
        "If you multiply 0.29 by 100 you get 28.999999999996. To explain this issue we need to understand how the computers actually work. </p> <p> Humans are used to the decimal system. Lets consider the decimal number 2024. It is equal to $$2024 = 2*1000 + 0*100 + 2*10 + 4*1$$ $$2024 = 2*10^3 + 0*10^2 + 2*10^1 + 4*10^0$$ </p> <p> In the binary system the numbers are defined similarly, but instead of having 1-9 options for each space you have only two 0 or 1 and each position in a power of 2. Let's consider example below:\n",
        "$$ 1011$$ - this is number 11 in binary system.\n",
        "$$1011 = 1*2^3 + 0*2^2+ 1*2^1 + 1*2^0 = 8+0+2+1 = 11 $$\n",
        "Why I am showing you that? Because the fractions are also represented as the sums of the 2s raised to power of something. Lets consider 0.25:\n",
        "$$ 0.25 = \\frac{4}{10} =  \\frac{1}{4} =  \\frac{1}{2^2} $$\n",
        "But not all fractions can be repesented in this way. So it stores not the exact value but the nearest value that can be stored in the binary format."
      ],
      "metadata": {
        "id": "kRGEdM5LY08d"
      },
      "id": "kRGEdM5LY08d"
    }
  ],
  "metadata": {
    "kernelspec": {
      "display_name": "Python 3 (ipykernel)",
      "language": "python",
      "name": "python3"
    },
    "language_info": {
      "codemirror_mode": {
        "name": "ipython",
        "version": 3
      },
      "file_extension": ".py",
      "mimetype": "text/x-python",
      "name": "python",
      "nbconvert_exporter": "python",
      "pygments_lexer": "ipython3",
      "version": "3.10.9"
    },
    "colab": {
      "provenance": []
    }
  },
  "nbformat": 4,
  "nbformat_minor": 5
}