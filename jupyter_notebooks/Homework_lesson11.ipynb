{
 "cells": [
  {
   "cell_type": "markdown",
   "id": "9e0f6f75-1987-4ada-aeef-f746df4a7cf3",
   "metadata": {},
   "source": [
    "<h1> Lesson 11 Homework</h1>\n",
    "<p> Building up on the material that we covered dueing the lesson 11. You are provided with the dataset that contains the column <code>CDR2 length</code>.\n",
    "    Do the following: <ul> <li>Drop the rows that do not have the values correpomnding to CDR2 length</li><li>Generate the pie chart that reflects the frequencies of occurence of the length. If some CDR length comprises less than 1% of total pool add it to category called other lengths. So your chart should contain the slice called <b> \"other lengths\"</b>, that would be sum of all slices that were below the 1% treshold. </li><li> Make your pie chart nice, style it and make a title for it, add legend etc.</li></ul>\n",
    "</p>"
   ]
  },
  {
   "cell_type": "markdown",
   "id": "2d1ab800-aad3-4c4f-88d6-0b7870c8523c",
   "metadata": {},
   "source": [
    "<p> Download the dataset from here:\n",
    "<a href = \"https://github.com/isgcodingclub/isg_python_course/blob/b311a4a4fa2af30852a24aa274b415243ad15d27/assets/output_our_precious.csv\"> NB-thermo extract </a> </p>"
   ]
  },
  {
   "cell_type": "code",
   "execution_count": null,
   "id": "23c0e1a7-acf1-4ef2-b6b7-f6018cdd846e",
   "metadata": {},
   "outputs": [],
   "source": []
  }
 ],
 "metadata": {
  "kernelspec": {
   "display_name": "Python 3 (ipykernel)",
   "language": "python",
   "name": "python3"
  },
  "language_info": {
   "codemirror_mode": {
    "name": "ipython",
    "version": 3
   },
   "file_extension": ".py",
   "mimetype": "text/x-python",
   "name": "python",
   "nbconvert_exporter": "python",
   "pygments_lexer": "ipython3",
   "version": "3.11.9"
  }
 },
 "nbformat": 4,
 "nbformat_minor": 5
}
