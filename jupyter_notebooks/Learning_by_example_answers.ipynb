{
 "cells": [
  {
   "cell_type": "markdown",
   "id": "7f9e2a6c",
   "metadata": {},
   "source": [
    "<h1> Pandas and matplotlib learning by example </h1>"
   ]
  },
  {
   "cell_type": "markdown",
   "id": "1c42dd87",
   "metadata": {},
   "source": [
    "<b> Exercise: </b> Download the metabric dataset and load it into this document."
   ]
  },
  {
   "cell_type": "code",
   "execution_count": 1,
   "id": "74c76d75",
   "metadata": {},
   "outputs": [],
   "source": [
    "import pandas as pd\n",
    "import matplotlib.pyplot as plt"
   ]
  },
  {
   "cell_type": "code",
   "execution_count": 2,
   "id": "0d670609-d509-414f-9d09-a13b1949024b",
   "metadata": {},
   "outputs": [
    {
     "name": "stderr",
     "output_type": "stream",
     "text": [
      "C:\\Users\\anastasija.gricenko\\AppData\\Local\\Temp\\ipykernel_15116\\3554049646.py:1: DtypeWarning: Columns (678,688,690,692) have mixed types. Specify dtype option on import or set low_memory=False.\n",
      "  df = pd.read_csv(\"METABRIC_RNA_Mutation.csv\")\n"
     ]
    }
   ],
   "source": [
    "df = pd.read_csv(\"METABRIC_RNA_Mutation.csv\")"
   ]
  },
  {
   "cell_type": "markdown",
   "id": "ed65c65d",
   "metadata": {},
   "source": [
    "<b>Exercise 2:</b> Check if the column cancer type conatins other entries except \"Breast Cancer\"."
   ]
  },
  {
   "cell_type": "code",
   "execution_count": 3,
   "id": "40ef0b3e",
   "metadata": {},
   "outputs": [
    {
     "data": {
      "text/html": [
       "<div>\n",
       "<style scoped>\n",
       "    .dataframe tbody tr th:only-of-type {\n",
       "        vertical-align: middle;\n",
       "    }\n",
       "\n",
       "    .dataframe tbody tr th {\n",
       "        vertical-align: top;\n",
       "    }\n",
       "\n",
       "    .dataframe thead th {\n",
       "        text-align: right;\n",
       "    }\n",
       "</style>\n",
       "<table border=\"1\" class=\"dataframe\">\n",
       "  <thead>\n",
       "    <tr style=\"text-align: right;\">\n",
       "      <th></th>\n",
       "      <th>patient_id</th>\n",
       "      <th>age_at_diagnosis</th>\n",
       "      <th>type_of_breast_surgery</th>\n",
       "      <th>cancer_type</th>\n",
       "      <th>cancer_type_detailed</th>\n",
       "      <th>cellularity</th>\n",
       "      <th>chemotherapy</th>\n",
       "      <th>pam50_+_claudin-low_subtype</th>\n",
       "      <th>cohort</th>\n",
       "      <th>er_status_measured_by_ihc</th>\n",
       "      <th>...</th>\n",
       "      <th>mtap_mut</th>\n",
       "      <th>ppp2cb_mut</th>\n",
       "      <th>smarcd1_mut</th>\n",
       "      <th>nras_mut</th>\n",
       "      <th>ndfip1_mut</th>\n",
       "      <th>hras_mut</th>\n",
       "      <th>prps2_mut</th>\n",
       "      <th>smarcb1_mut</th>\n",
       "      <th>stmn2_mut</th>\n",
       "      <th>siah1_mut</th>\n",
       "    </tr>\n",
       "  </thead>\n",
       "  <tbody>\n",
       "    <tr>\n",
       "      <th>170</th>\n",
       "      <td>284</td>\n",
       "      <td>51.42</td>\n",
       "      <td>NaN</td>\n",
       "      <td>Breast Sarcoma</td>\n",
       "      <td>Breast Invasive Ductal Carcinoma</td>\n",
       "      <td>Moderate</td>\n",
       "      <td>0</td>\n",
       "      <td>claudin-low</td>\n",
       "      <td>1.0</td>\n",
       "      <td>NaN</td>\n",
       "      <td>...</td>\n",
       "      <td>0</td>\n",
       "      <td>0</td>\n",
       "      <td>0</td>\n",
       "      <td>0</td>\n",
       "      <td>0</td>\n",
       "      <td>0</td>\n",
       "      <td>0</td>\n",
       "      <td>0</td>\n",
       "      <td>0</td>\n",
       "      <td>0</td>\n",
       "    </tr>\n",
       "  </tbody>\n",
       "</table>\n",
       "<p>1 rows × 693 columns</p>\n",
       "</div>"
      ],
      "text/plain": [
       "     patient_id  age_at_diagnosis type_of_breast_surgery     cancer_type  \\\n",
       "170         284             51.42                    NaN  Breast Sarcoma   \n",
       "\n",
       "                 cancer_type_detailed cellularity  chemotherapy  \\\n",
       "170  Breast Invasive Ductal Carcinoma    Moderate             0   \n",
       "\n",
       "    pam50_+_claudin-low_subtype  cohort er_status_measured_by_ihc  ...  \\\n",
       "170                 claudin-low     1.0                       NaN  ...   \n",
       "\n",
       "    mtap_mut  ppp2cb_mut smarcd1_mut nras_mut ndfip1_mut  hras_mut prps2_mut  \\\n",
       "170        0           0           0        0          0         0         0   \n",
       "\n",
       "    smarcb1_mut stmn2_mut  siah1_mut  \n",
       "170           0         0          0  \n",
       "\n",
       "[1 rows x 693 columns]"
      ]
     },
     "execution_count": 3,
     "metadata": {},
     "output_type": "execute_result"
    }
   ],
   "source": [
    "df1 = df.loc[df[\"cancer_type\"] != \"Breast Cancer\"]\n",
    "df1"
   ]
  },
  {
   "cell_type": "code",
   "execution_count": 4,
   "id": "44e813a8-9a3e-42f4-8fa7-799754acae5b",
   "metadata": {},
   "outputs": [
    {
     "name": "stdout",
     "output_type": "stream",
     "text": [
      "1\n"
     ]
    }
   ],
   "source": [
    "list_canc_type = df[\"cancer_type\"].to_list()\n",
    "non_breast = len(list_canc_type) - list_canc_type.count(\"Breast Cancer\")\n",
    "print(non_breast)"
   ]
  },
  {
   "cell_type": "markdown",
   "id": "719612b9",
   "metadata": {},
   "source": [
    "<b> Exercise 3: </b> What is the minimum age at diagnosis? Check column age_at_diagnosis."
   ]
  },
  {
   "cell_type": "code",
   "execution_count": 5,
   "id": "f4fbd424",
   "metadata": {},
   "outputs": [
    {
     "name": "stdout",
     "output_type": "stream",
     "text": [
      "age_at_diagnosis    21.93\n",
      "dtype: float64\n"
     ]
    }
   ],
   "source": [
    "df2 = df[[\"age_at_diagnosis\"]]\n",
    "print(df2.min())"
   ]
  },
  {
   "cell_type": "markdown",
   "id": "a629cdf6",
   "metadata": {},
   "source": [
    "<b> Exercise :</b> Construct the bar graph that will show how many entries of each category is in column <b> cancer_type_detailed </b> including the category corresponding to <b>NA</b>.\n",
    "<p><b>Hint:</b> <ol> <li> Fill the empty cells in this column with NA. </li>\n",
    "    <li> Find the unique values that exist in this column. </li>\n",
    "    <li> Calculate how many entries belong to each catoegory </li>\n",
    "    <li> Plot the bar chart </li></ol></p>"
   ]
  },
  {
   "cell_type": "code",
   "execution_count": 6,
   "id": "46f5f059",
   "metadata": {},
   "outputs": [
    {
     "data": {
      "text/html": [
       "<div>\n",
       "<style scoped>\n",
       "    .dataframe tbody tr th:only-of-type {\n",
       "        vertical-align: middle;\n",
       "    }\n",
       "\n",
       "    .dataframe tbody tr th {\n",
       "        vertical-align: top;\n",
       "    }\n",
       "\n",
       "    .dataframe thead th {\n",
       "        text-align: right;\n",
       "    }\n",
       "</style>\n",
       "<table border=\"1\" class=\"dataframe\">\n",
       "  <thead>\n",
       "    <tr style=\"text-align: right;\">\n",
       "      <th></th>\n",
       "      <th>cancer_type_detailed</th>\n",
       "    </tr>\n",
       "  </thead>\n",
       "  <tbody>\n",
       "    <tr>\n",
       "      <th>0</th>\n",
       "      <td>Breast Invasive Ductal Carcinoma</td>\n",
       "    </tr>\n",
       "    <tr>\n",
       "      <th>1</th>\n",
       "      <td>Breast Invasive Ductal Carcinoma</td>\n",
       "    </tr>\n",
       "    <tr>\n",
       "      <th>2</th>\n",
       "      <td>Breast Invasive Ductal Carcinoma</td>\n",
       "    </tr>\n",
       "    <tr>\n",
       "      <th>3</th>\n",
       "      <td>Breast Mixed Ductal and Lobular Carcinoma</td>\n",
       "    </tr>\n",
       "    <tr>\n",
       "      <th>4</th>\n",
       "      <td>Breast Mixed Ductal and Lobular Carcinoma</td>\n",
       "    </tr>\n",
       "    <tr>\n",
       "      <th>...</th>\n",
       "      <td>...</td>\n",
       "    </tr>\n",
       "    <tr>\n",
       "      <th>1899</th>\n",
       "      <td>Breast Invasive Lobular Carcinoma</td>\n",
       "    </tr>\n",
       "    <tr>\n",
       "      <th>1900</th>\n",
       "      <td>Breast Invasive Ductal Carcinoma</td>\n",
       "    </tr>\n",
       "    <tr>\n",
       "      <th>1901</th>\n",
       "      <td>Breast Invasive Ductal Carcinoma</td>\n",
       "    </tr>\n",
       "    <tr>\n",
       "      <th>1902</th>\n",
       "      <td>Breast Invasive Ductal Carcinoma</td>\n",
       "    </tr>\n",
       "    <tr>\n",
       "      <th>1903</th>\n",
       "      <td>Breast Invasive Ductal Carcinoma</td>\n",
       "    </tr>\n",
       "  </tbody>\n",
       "</table>\n",
       "<p>1904 rows × 1 columns</p>\n",
       "</div>"
      ],
      "text/plain": [
       "                           cancer_type_detailed\n",
       "0              Breast Invasive Ductal Carcinoma\n",
       "1              Breast Invasive Ductal Carcinoma\n",
       "2              Breast Invasive Ductal Carcinoma\n",
       "3     Breast Mixed Ductal and Lobular Carcinoma\n",
       "4     Breast Mixed Ductal and Lobular Carcinoma\n",
       "...                                         ...\n",
       "1899          Breast Invasive Lobular Carcinoma\n",
       "1900           Breast Invasive Ductal Carcinoma\n",
       "1901           Breast Invasive Ductal Carcinoma\n",
       "1902           Breast Invasive Ductal Carcinoma\n",
       "1903           Breast Invasive Ductal Carcinoma\n",
       "\n",
       "[1904 rows x 1 columns]"
      ]
     },
     "execution_count": 6,
     "metadata": {},
     "output_type": "execute_result"
    }
   ],
   "source": [
    "df3 = df[[\"cancer_type_detailed\"]]\n",
    "df4 = df3.fillna(\"Not defined\")\n",
    "df4"
   ]
  },
  {
   "cell_type": "code",
   "execution_count": 7,
   "id": "7e3df72b",
   "metadata": {},
   "outputs": [
    {
     "name": "stdout",
     "output_type": "stream",
     "text": [
      "['Breast Invasive Mixed Mucinous Carcinoma', 'Metaplastic Breast Cancer', 'Breast Invasive Ductal Carcinoma', 'Breast Invasive Lobular Carcinoma', 'Not defined', 'Breast Mixed Ductal and Lobular Carcinoma', 'Breast']\n",
      "[22, 1, 1500, 142, 15, 207, 17]\n"
     ]
    }
   ],
   "source": [
    "list_all = df4[\"cancer_type_detailed\"].to_list()\n",
    "unique_list = list(set(list_all))\n",
    "print(unique_list)\n",
    "list_counts = [list_all.count(a) for a in unique_list]\n",
    "print(list_counts)"
   ]
  },
  {
   "cell_type": "code",
   "execution_count": 8,
   "id": "f75e1dfe-9f3c-4880-ad30-f4dc4c5f1c31",
   "metadata": {},
   "outputs": [
    {
     "name": "stderr",
     "output_type": "stream",
     "text": [
      "C:\\Users\\anastasija.gricenko\\AppData\\Local\\Temp\\ipykernel_15116\\218926919.py:4: UserWarning: set_ticklabels() should only be used with a fixed number of ticks, i.e. after set_ticks() or using a FixedLocator.\n",
      "  ax.set_xticklabels(unique_list, rotation = 90) # this is how you rotate ticks labels\n"
     ]
    },
    {
     "data": {
      "image/png": "[encoded data removed]",
      "text/plain": [
       "<Figure size 640x480 with 1 Axes>"
      ]
     },
     "metadata": {},
     "output_type": "display_data"
    }
   ],
   "source": [
    "fig, ax = plt.subplots()\n",
    "ax.set_facecolor(\"#f2f3f5\")\n",
    "ax.bar(unique_list, list_counts, edgecolor = \"k\", color = \"#dce6ee\", hatch = \"//\")\n",
    "ax.set_xticklabels(unique_list, rotation = 90) # this is how you rotate ticks labels\n",
    "plt.show()"
   ]
  },
  {
   "cell_type": "code",
   "execution_count": null,
   "id": "61ae9da9-f994-4481-9042-7db071165c28",
   "metadata": {},
   "outputs": [],
   "source": []
  }
 ],
 "metadata": {
  "kernelspec": {
   "display_name": "Python 3 (ipykernel)",
   "language": "python",
   "name": "python3"
  },
  "language_info": {
   "codemirror_mode": {
    "name": "ipython",
    "version": 3
   },
   "file_extension": ".py",
   "mimetype": "text/x-python",
   "name": "python",
   "nbconvert_exporter": "python",
   "pygments_lexer": "ipython3",
   "version": "3.11.9"
  }
 },
 "nbformat": 4,
 "nbformat_minor": 5
}
